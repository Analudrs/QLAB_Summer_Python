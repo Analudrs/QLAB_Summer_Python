{
 "cells": [
  {
   "cell_type": "code",
   "execution_count": 40,
   "id": "0da1c9f0",
   "metadata": {},
   "outputs": [
    {
     "data": {
      "text/html": [
       "\n",
       "<style>\n",
       "    div#notebook-container    { width: 95%; }\n",
       "    div#menubar-container     { width: 65%; }\n",
       "    div#maintoolbar-container { width: 99%; }a\n",
       "</style>\n"
      ],
      "text/plain": [
       "<IPython.core.display.HTML object>"
      ]
     },
     "metadata": {},
     "output_type": "display_data"
    }
   ],
   "source": [
    "#Start\n",
    "from IPython.display import display, HTML\n",
    "\n",
    "display(HTML(data=\"\"\"\n",
    "<style>\n",
    "    div#notebook-container    { width: 95%; }\n",
    "    div#menubar-container     { width: 65%; }\n",
    "    div#maintoolbar-container { width: 99%; }a\n",
    "</style>\n",
    "\"\"\"))"
   ]
  },
  {
   "cell_type": "code",
   "execution_count": 2,
   "id": "581c6a84",
   "metadata": {},
   "outputs": [
    {
     "name": "stdout",
     "output_type": "stream",
     "text": [
      "Collecting selenium\n",
      "  Downloading selenium-4.8.2-py3-none-any.whl (6.9 MB)\n",
      "     ---------------------------------------- 6.9/6.9 MB 490.9 kB/s eta 0:00:00\n",
      "Collecting trio-websocket~=0.9\n",
      "  Downloading trio_websocket-0.9.2-py3-none-any.whl (16 kB)\n",
      "Requirement already satisfied: certifi>=2021.10.8 in c:\\users\\michael encalada\\anaconda3\\lib\\site-packages (from selenium) (2022.9.14)\n",
      "Collecting trio~=0.17\n",
      "  Downloading trio-0.22.0-py3-none-any.whl (384 kB)\n",
      "     ------------------------------------ 384.9/384.9 kB 380.8 kB/s eta 0:00:00\n",
      "Requirement already satisfied: urllib3[socks]~=1.26 in c:\\users\\michael encalada\\anaconda3\\lib\\site-packages (from selenium) (1.26.11)\n",
      "Requirement already satisfied: cffi>=1.14 in c:\\users\\michael encalada\\anaconda3\\lib\\site-packages (from trio~=0.17->selenium) (1.15.1)\n",
      "Requirement already satisfied: idna in c:\\users\\michael encalada\\anaconda3\\lib\\site-packages (from trio~=0.17->selenium) (3.3)\n",
      "Collecting async-generator>=1.9\n",
      "  Downloading async_generator-1.10-py3-none-any.whl (18 kB)\n",
      "Collecting exceptiongroup>=1.0.0rc9\n",
      "  Downloading exceptiongroup-1.1.0-py3-none-any.whl (14 kB)\n",
      "Requirement already satisfied: attrs>=19.2.0 in c:\\users\\michael encalada\\anaconda3\\lib\\site-packages (from trio~=0.17->selenium) (21.4.0)\n",
      "Requirement already satisfied: sniffio in c:\\users\\michael encalada\\anaconda3\\lib\\site-packages (from trio~=0.17->selenium) (1.2.0)\n",
      "Collecting outcome\n",
      "  Downloading outcome-1.2.0-py2.py3-none-any.whl (9.7 kB)\n",
      "Requirement already satisfied: sortedcontainers in c:\\users\\michael encalada\\anaconda3\\lib\\site-packages (from trio~=0.17->selenium) (2.4.0)\n",
      "Collecting wsproto>=0.14\n",
      "  Downloading wsproto-1.2.0-py3-none-any.whl (24 kB)\n",
      "Requirement already satisfied: PySocks!=1.5.7,<2.0,>=1.5.6 in c:\\users\\michael encalada\\anaconda3\\lib\\site-packages (from urllib3[socks]~=1.26->selenium) (1.7.1)\n",
      "Requirement already satisfied: pycparser in c:\\users\\michael encalada\\anaconda3\\lib\\site-packages (from cffi>=1.14->trio~=0.17->selenium) (2.21)\n",
      "Collecting h11<1,>=0.9.0\n",
      "  Downloading h11-0.14.0-py3-none-any.whl (58 kB)\n",
      "     ---------------------------------------- 58.3/58.3 kB 1.0 MB/s eta 0:00:00\n",
      "Installing collected packages: outcome, h11, exceptiongroup, async-generator, wsproto, trio, trio-websocket, selenium\n",
      "Successfully installed async-generator-1.10 exceptiongroup-1.1.0 h11-0.14.0 outcome-1.2.0 selenium-4.8.2 trio-0.22.0 trio-websocket-0.9.2 wsproto-1.2.0\n",
      "Collecting webdriver-manager\n",
      "  Downloading webdriver_manager-3.8.5-py2.py3-none-any.whl (27 kB)\n",
      "Requirement already satisfied: packaging in c:\\users\\michael encalada\\anaconda3\\lib\\site-packages (from webdriver-manager) (21.3)\n",
      "Collecting python-dotenv\n",
      "  Downloading python_dotenv-1.0.0-py3-none-any.whl (19 kB)\n",
      "Requirement already satisfied: tqdm in c:\\users\\michael encalada\\anaconda3\\lib\\site-packages (from webdriver-manager) (4.64.1)\n",
      "Requirement already satisfied: requests in c:\\users\\michael encalada\\anaconda3\\lib\\site-packages (from webdriver-manager) (2.28.1)\n",
      "Requirement already satisfied: pyparsing!=3.0.5,>=2.0.2 in c:\\users\\michael encalada\\anaconda3\\lib\\site-packages (from packaging->webdriver-manager) (3.0.9)\n",
      "Requirement already satisfied: urllib3<1.27,>=1.21.1 in c:\\users\\michael encalada\\anaconda3\\lib\\site-packages (from requests->webdriver-manager) (1.26.11)\n",
      "Requirement already satisfied: idna<4,>=2.5 in c:\\users\\michael encalada\\anaconda3\\lib\\site-packages (from requests->webdriver-manager) (3.3)\n",
      "Requirement already satisfied: certifi>=2017.4.17 in c:\\users\\michael encalada\\anaconda3\\lib\\site-packages (from requests->webdriver-manager) (2022.9.14)\n",
      "Requirement already satisfied: charset-normalizer<3,>=2 in c:\\users\\michael encalada\\anaconda3\\lib\\site-packages (from requests->webdriver-manager) (2.0.4)\n",
      "Requirement already satisfied: colorama in c:\\users\\michael encalada\\anaconda3\\lib\\site-packages (from tqdm->webdriver-manager) (0.4.5)\n",
      "Installing collected packages: python-dotenv, webdriver-manager\n",
      "Successfully installed python-dotenv-1.0.0 webdriver-manager-3.8.5\n"
     ]
    }
   ],
   "source": [
    "#Install\n",
    "#!pip install selenium\n",
    "#!pip install webdriver-manager"
   ]
  },
  {
   "cell_type": "code",
   "execution_count": 41,
   "id": "6f58844a",
   "metadata": {},
   "outputs": [],
   "source": [
    "#Charging packages \n",
    "from selenium import webdriver\n",
    "from webdriver_manager.chrome import ChromeDriverManager\n",
    "import re\n",
    "import time \n",
    "from selenium.webdriver.common.by import By"
   ]
  },
  {
   "cell_type": "code",
   "execution_count": 42,
   "id": "6aa2bb0e",
   "metadata": {},
   "outputs": [
    {
     "name": "stderr",
     "output_type": "stream",
     "text": [
      "C:\\Users\\Michael Encalada\\AppData\\Local\\Temp\\ipykernel_27300\\3386737775.py:1: DeprecationWarning: executable_path has been deprecated, please pass in a Service object\n",
      "  driver = webdriver.Chrome( ChromeDriverManager().install() )\n"
     ]
    }
   ],
   "source": [
    "driver = webdriver.Chrome( ChromeDriverManager().install() )"
   ]
  },
  {
   "cell_type": "code",
   "execution_count": 43,
   "id": "7d5deecb",
   "metadata": {},
   "outputs": [],
   "source": [
    "# go to the link\n",
    "url = 'https://www.sbs.gob.pe/app/pp/EstadisticasSAEEPortal/Paginas/TIActivaTipoCreditoEmpresa.aspx?tip=C'\n",
    "driver.get( url )\n",
    "\n",
    "#We maximize the browser: \n",
    "driver.maximize_window()"
   ]
  },
  {
   "cell_type": "code",
   "execution_count": 44,
   "id": "2e3b7e63",
   "metadata": {},
   "outputs": [],
   "source": [
    "# We set the Browser Zoom Level to 100 percent.\n",
    "driver.execute_script(\"document.body.style.zoom='100%'\")"
   ]
  },
  {
   "cell_type": "code",
   "execution_count": 50,
   "id": "0bd82e59",
   "metadata": {},
   "outputs": [],
   "source": [
    "#Put click to select year\n",
    "fecha_anio = driver.find_element( By.XPATH, '/html/body/form/div[5]/div/div/div[1]/div/table/tbody/tr/td/table/tbody/tr/td/table/tbody/tr/td[2]/div/span/span[1]' )\n",
    "fecha_anio.click()\n",
    "\n",
    "time.sleep(2)"
   ]
  },
  {
   "cell_type": "code",
   "execution_count": 49,
   "id": "338b4209",
   "metadata": {},
   "outputs": [
    {
     "data": {
      "text/plain": [
       "<selenium.webdriver.remote.webelement.WebElement (session=\"d9814a6a505d58e2142a6203ff409e48\", element=\"8d331361-e572-4e1b-adeb-653951d7d95b\")>"
      ]
     },
     "execution_count": 49,
     "metadata": {},
     "output_type": "execute_result"
    }
   ],
   "source": [
    "# See all classes included\n",
    "year_options = driver.find_element( By.XPATH, '/html/body/form/div[1]/div/ul')\n",
    "year_options\n"
   ]
  },
  {
   "cell_type": "code",
   "execution_count": 21,
   "id": "1f8b408d",
   "metadata": {},
   "outputs": [
    {
     "data": {
      "text/plain": [
       "'2022'"
      ]
     },
     "execution_count": 21,
     "metadata": {},
     "output_type": "execute_result"
    }
   ],
   "source": [
    "#Check year one by one\n",
    "year_options.find_elements( By.TAG_NAME, \"li\")[1].text"
   ]
  },
  {
   "cell_type": "code",
   "execution_count": 22,
   "id": "5c9f4edc",
   "metadata": {},
   "outputs": [
    {
     "data": {
      "text/plain": [
       "'2023\\n2022\\n2021\\n2020\\n2019\\n2018\\n2017\\n2016\\n2015\\n2014\\n2013\\n2012\\n2011\\n2010\\n2009\\n2008\\n2007\\n2006\\n2005\\n2004\\n2003\\n2002'"
      ]
     },
     "execution_count": 22,
     "metadata": {},
     "output_type": "execute_result"
    }
   ],
   "source": [
    "year_options.text"
   ]
  },
  {
   "cell_type": "code",
   "execution_count": 23,
   "id": "07662cd9",
   "metadata": {},
   "outputs": [
    {
     "data": {
      "text/plain": [
       "22"
      ]
     },
     "execution_count": 23,
     "metadata": {},
     "output_type": "execute_result"
    }
   ],
   "source": [
    "#Counter number of year \n",
    "num_year =  len(year_options.find_elements( By.TAG_NAME, \"li\"))\n",
    "num_year"
   ]
  },
  {
   "cell_type": "code",
   "execution_count": 24,
   "id": "7ab5419e",
   "metadata": {},
   "outputs": [
    {
     "data": {
      "text/plain": [
       "dict_keys(['2023', '2022', '2021', '2020', '2019', '2018', '2017', '2016', '2015', '2014', '2013', '2012', '2011', '2010', '2009', '2008', '2007', '2006', '2005', '2004', '2003', '2002'])"
      ]
     },
     "execution_count": 24,
     "metadata": {},
     "output_type": "execute_result"
    }
   ],
   "source": [
    "#Select keys\n",
    "year_options = year_options.find_elements( By.TAG_NAME, \"li\")\n",
    "dict_year_options = { i.text : i for i in year_options }\n",
    "dict_year_options.keys()"
   ]
  },
  {
   "cell_type": "code",
   "execution_count": 25,
   "id": "bf53ca05",
   "metadata": {},
   "outputs": [],
   "source": [
    "#Put click to select MONTH\n",
    "\n",
    "fecha_mes = driver.find_element( By.XPATH, '/html/body/form/div[6]/div/div/div[1]/div/table/tbody/tr/td/table/tbody/tr/td/table/tbody/tr/td[3]/div/span/span[2]' )\n",
    "fecha_mes.click()\n",
    "\n",
    "time.sleep(3)"
   ]
  },
  {
   "cell_type": "code",
   "execution_count": 26,
   "id": "dbc3c479",
   "metadata": {},
   "outputs": [
    {
     "data": {
      "text/plain": [
       "'Enero\\nFebrero\\nMarzo\\nAbril\\nMayo\\nJunio\\nJulio\\nAgosto\\nSetiembre\\nOctubre\\nNoviembre\\nDiciembre'"
      ]
     },
     "execution_count": 26,
     "metadata": {},
     "output_type": "execute_result"
    }
   ],
   "source": [
    "month_options  = driver.find_element( By.XPATH, '/html/body/form/div[1]/div/ul')\n",
    "month_options.text"
   ]
  },
  {
   "cell_type": "code",
   "execution_count": 27,
   "id": "4981baad",
   "metadata": {},
   "outputs": [
    {
     "data": {
      "text/plain": [
       "12"
      ]
     },
     "execution_count": 27,
     "metadata": {},
     "output_type": "execute_result"
    }
   ],
   "source": [
    "num_month =  len(month_options .find_elements( By.TAG_NAME, \"li\"))\n",
    "num_month"
   ]
  },
  {
   "cell_type": "code",
   "execution_count": 28,
   "id": "40791608",
   "metadata": {},
   "outputs": [
    {
     "data": {
      "text/plain": [
       "dict_keys(['Enero', 'Febrero', 'Marzo', 'Abril', 'Mayo', 'Junio', 'Julio', 'Agosto', 'Setiembre', 'Octubre', 'Noviembre', 'Diciembre'])"
      ]
     },
     "execution_count": 28,
     "metadata": {},
     "output_type": "execute_result"
    }
   ],
   "source": [
    "#Select keys\n",
    "month_options = month_options .find_elements( By.TAG_NAME, \"li\")\n",
    "dict_month_options  = { i.text : i for i in month_options  }\n",
    "dict_month_options.keys()"
   ]
  },
  {
   "cell_type": "code",
   "execution_count": 55,
   "id": "d7303c75",
   "metadata": {},
   "outputs": [
    {
     "ename": "IndentationError",
     "evalue": "unexpected indent (881002001.py, line 19)",
     "output_type": "error",
     "traceback": [
      "\u001b[1;36m  File \u001b[1;32m\"C:\\Users\\Michael Encalada\\AppData\\Local\\Temp\\ipykernel_27300\\881002001.py\"\u001b[1;36m, line \u001b[1;32m19\u001b[0m\n\u001b[1;33m    year_date.click()\u001b[0m\n\u001b[1;37m    ^\u001b[0m\n\u001b[1;31mIndentationError\u001b[0m\u001b[1;31m:\u001b[0m unexpected indent\n"
     ]
    }
   ],
   "source": [
    "#Click on year\n",
    "year_date = driver.find_element( By.XPATH, '/html/body/form/div[5]/div/div/div[1]/div/table/tbody/tr/td/table/tbody/tr/td/table/tbody/tr/td[2]/div/span/span[1]' )\n",
    "year_date.click()\n",
    "\n",
    "year = Select( driver.find_element(  By.XPATH,  \"/html/body/form/div[1]/div/ul\" ) )\n",
    "num_year =  len(year_options.find_elements( By.TAG_NAME, \"li\"))\n",
    "\n",
    "for year_idx in range( num_year ):\n",
    "    \n",
    "    # Click on one specific year\n",
    "    year = Select( driver.find_element(  By.XPATH,  \"/html/body/form/div[1]/div/ul\" ) )\n",
    "    year_all = year.options[ year_idx ] \n",
    "    \n",
    "    # Get year\n",
    "    year_name = year_all.text\n",
    "    \n",
    "    # We select a different year \n",
    "        # click to other year\n",
    "        year_date.click()\n",
    "    \n",
    "    #Get all elements of month\n",
    "    month_date = driver.find_element( By.XPATH, '/html/body/form/div[6]/div/div/div[1]/div/table/tbody/tr/td/table/tbody/tr/td/table/tbody/tr/td[3]/div/span/span[2]' )\n",
    "    month_date.click()\n",
    "    \n",
    "    month= driver.find_element( By.XPATH, '/html/body/form/div[1]/div/ul')\n",
    "    num_month =  len(month_options .find_elements( By.TAG_NAME, \"li\"))\n",
    "    \n",
    "    for month_idx in range( num_month ):\n",
    "            \n",
    "            # Get again all months since HTML is refreshing\n",
    "            # all elements\n",
    "            month = Select( driver.find_element(  By.XPATH,  \"/html/body/form/div[1]/div/ul\" ) )\n",
    "            month_all = month.options[ month_idx ]\n",
    "                \n",
    "            # Get month name\n",
    "            month_name = month.text\n",
    "            \n",
    "           # We select a different month name\n",
    "                # click on month\n",
    "                month_select=driver.find_element( By.XPATH, '/html/body/form/div[6]/div/div/div[1]/div/table/tbody/tr/td/table/tbody/tr/td/table/tbody/tr/td[3]/div/span/span[2]' )\n",
    "                month_select.click()\n",
    "             \n",
    "            ## Get table \n",
    "                        # Get html at this point\n",
    "                        table_path = driver.find_element(  By.XPATH,  \"/html/body/form/div[6]/div/div/div[2]/div\" )\n",
    "                        table_html = table_path.get_attribute( 'innerHTML' )\n",
    "                        # Read the table using pandas\n",
    "                        table = pd.read_html( table_html )\n",
    "                        \n",
    "                        # Cleaning tables\n",
    "                        row_new_columns = table[ 0 ].iloc[ 0 , 2: ]\n",
    "                        clean_columns = row_new_columns \\\n",
    "                                              .str.replace( \" \", \"_\") \\\n",
    "                                              .str.lower().str.replace( \"%\", \"share_\") \\\n",
    "                                              .apply( lambda x : unidecode.unidecode( x ) ) \\\n",
    "                                              .tolist()\n",
    "                        \n",
    "                        # Selecting specific columns\n",
    "                        table_clean = table[0].iloc[ 1:, 2: ].copy()\n",
    "                        \n",
    "                        # rename columns\n",
    "                        table_clean.columns = clean_columns\n",
    "                        \n",
    "                        # New values to columns \n",
    "                        table_clean[ 'year' ] = year\n",
    "                        table_clean[ 'month' ]   = month_name\n",
    "                        \n",
    "                        # store tables\n",
    "                        all_tables[ month_name] = table_clean"
   ]
  },
  {
   "cell_type": "code",
   "execution_count": 52,
   "id": "90acbc13",
   "metadata": {},
   "outputs": [
    {
     "ename": "NameError",
     "evalue": "name 'pd' is not defined",
     "output_type": "error",
     "traceback": [
      "\u001b[1;31m---------------------------------------------------------------------------\u001b[0m",
      "\u001b[1;31mNameError\u001b[0m                                 Traceback (most recent call last)",
      "\u001b[1;32m~\\AppData\\Local\\Temp\\ipykernel_27300\\1310469526.py\u001b[0m in \u001b[0;36m<module>\u001b[1;34m\u001b[0m\n\u001b[1;32m----> 1\u001b[1;33m \u001b[0mfinal_data\u001b[0m \u001b[1;33m=\u001b[0m \u001b[0mpd\u001b[0m\u001b[1;33m.\u001b[0m\u001b[0mconcat\u001b[0m\u001b[1;33m(\u001b[0m \u001b[0mtable_clean\u001b[0m\u001b[1;33m.\u001b[0m\u001b[0mvalues\u001b[0m\u001b[1;33m(\u001b[0m\u001b[1;33m)\u001b[0m \u001b[1;33m)\u001b[0m\u001b[1;33m.\u001b[0m\u001b[0mreset_index\u001b[0m\u001b[1;33m(\u001b[0m \u001b[0mdrop\u001b[0m \u001b[1;33m=\u001b[0m \u001b[1;32mTrue\u001b[0m \u001b[1;33m)\u001b[0m\u001b[1;33m\u001b[0m\u001b[1;33m\u001b[0m\u001b[0m\n\u001b[0m",
      "\u001b[1;31mNameError\u001b[0m: name 'pd' is not defined"
     ]
    }
   ],
   "source": [
    "final_data = pd.concat( table_clean.values() ).reset_index( drop = True )"
   ]
  },
  {
   "cell_type": "code",
   "execution_count": 53,
   "id": "e72f5bcc",
   "metadata": {},
   "outputs": [
    {
     "ename": "NameError",
     "evalue": "name 'final_data' is not defined",
     "output_type": "error",
     "traceback": [
      "\u001b[1;31m---------------------------------------------------------------------------\u001b[0m",
      "\u001b[1;31mNameError\u001b[0m                                 Traceback (most recent call last)",
      "\u001b[1;32m~\\AppData\\Local\\Temp\\ipykernel_27300\\1170432386.py\u001b[0m in \u001b[0;36m<module>\u001b[1;34m\u001b[0m\n\u001b[1;32m----> 1\u001b[1;33m \u001b[0mfinal_data\u001b[0m\u001b[1;33m.\u001b[0m\u001b[0mto_excel\u001b[0m\u001b[1;33m(\u001b[0m \u001b[1;34mr'Assigment_5.xlsx'\u001b[0m \u001b[1;33m,\u001b[0m \u001b[0mindex\u001b[0m \u001b[1;33m=\u001b[0m \u001b[1;32mFalse\u001b[0m \u001b[1;33m)\u001b[0m\u001b[1;33m\u001b[0m\u001b[1;33m\u001b[0m\u001b[0m\n\u001b[0m",
      "\u001b[1;31mNameError\u001b[0m: name 'final_data' is not defined"
     ]
    }
   ],
   "source": [
    "final_data.to_excel( r'Assigment_5.xlsx' , index = False )"
   ]
  },
  {
   "cell_type": "code",
   "execution_count": null,
   "id": "5010bbde",
   "metadata": {},
   "outputs": [],
   "source": [
    "#BORRADORES"
   ]
  },
  {
   "cell_type": "code",
   "execution_count": 30,
   "id": "e7759bfa",
   "metadata": {},
   "outputs": [
    {
     "ename": "IndentationError",
     "evalue": "unexpected indent (3960368815.py, line 18)",
     "output_type": "error",
     "traceback": [
      "\u001b[1;36m  File \u001b[1;32m\"C:\\Users\\Michael Encalada\\AppData\\Local\\Temp\\ipykernel_27300\\3960368815.py\"\u001b[1;36m, line \u001b[1;32m18\u001b[0m\n\u001b[1;33m    year_select=driver.find_element( By.XPATH, '/html/body/form/div[5]/div/div/div[1]/div/table/tbody/tr/td/table/tbody/tr/td/table/tbody/tr/td[2]/div/span/span[2]' )\u001b[0m\n\u001b[1;37m    ^\u001b[0m\n\u001b[1;31mIndentationError\u001b[0m\u001b[1;31m:\u001b[0m unexpected indent\n"
     ]
    }
   ],
   "source": [
    "# we can loop over all years\n",
    "# for year_idx in range( num_year_options ):\n",
    "# but it will take too much time\n",
    "# We are going to do it over two departments\n",
    "for year_idx in range( num_year ):\n",
    "    \n",
    "    # Click on one specific year\n",
    "    year = Select( driver.find_element(  By.XPATH,  \"/html/body/form/div[1]/div/ul\" ) )\n",
    "    year_all = year.options[ year_idx ]\n",
    "    \n",
    "    #Size \n",
    "    num_year =  len(year_options.find_elements( By.TAG_NAME, \"li\"))\n",
    "    # Get year\n",
    "    year_name = year_all.text\n",
    "    \n",
    "    # Change values\n",
    "    time.sleep(3)\n",
    "        \n",
    "        # click to select a different year\n",
    "        year_select=driver.find_element( By.XPATH, '/html/body/form/div[5]/div/div/div[1]/div/table/tbody/tr/td/table/tbody/tr/td/table/tbody/tr/td[2]/div/span/span[2]' )\n",
    "        year_select.click()\n",
    "        \n",
    "        # Get all elements of month\n",
    "        month = Select( driver.find_element(  By.XPATH,  \"/html/body/form/div[1]/div/ul\" ) )\n",
    "        num_month_options = len( month.options )\n",
    "        \n",
    "        for month_idx in range( num_month_options ):\n",
    "            \n",
    "            # Get again all months since HTML is refreshing\n",
    "            # all elements\n",
    "            month = Select( driver.find_element(  By.XPATH,  \"/html/body/form/div[1]/div/ul\" ) )\n",
    "            month_all = month.options[ month_idx ]\n",
    "                \n",
    "            # Get month name\n",
    "            month_name = month.text\n",
    "            \n",
    "           # Change values\n",
    "            time.sleep(3)\n",
    "                \n",
    "                # click on month\n",
    "                month_select=driver.find_element( By.XPATH, '/html/body/form/div[6]/div/div/div[1]/div/table/tbody/tr/td/table/tbody/tr/td/table/tbody/tr/td[3]/div/span/span[2]' )\n",
    "                month_select.click()\n",
    "                \n",
    "                        ## Get tables\n",
    "                        # Get html at this point\n",
    "                        table_path = driver.find_element(  By.XPATH,  \"/html/body/form/div[6]/div/div/div[2]/div\" )\n",
    "                        table_html = table_path.get_attribute( 'innerHTML' )\n",
    "                        \n",
    "                        # Read the table using pandas\n",
    "                        table = pd.read_html( table_html )\n",
    "                        \n",
    "                        # Cleaning tables\n",
    "                        row_new_columns = table[ 0 ].iloc[ 0 , 2: ]\n",
    "                        clean_columns = row_new_columns \\\n",
    "                                              .str.replace( \" \", \"_\") \\\n",
    "                                              .str.lower().str.replace( \"%\", \"share_\") \\\n",
    "                                              .apply( lambda x : unidecode.unidecode( x ) ) \\\n",
    "                                              .tolist()\n",
    "                        \n",
    "                        # Selecting specific columns\n",
    "                        table_clean = table[0].iloc[ 1:, 2: ].copy()\n",
    "                        \n",
    "                        # rename columns\n",
    "                        table_clean.columns = clean_columns\n",
    "                        \n",
    "                        # New values to columns \n",
    "                        table_clean[ 'year' ] = year\n",
    "                        table_clean[ 'month' ]   = month_name\n",
    "\n",
    "                        \n",
    "                     "
   ]
  },
  {
   "cell_type": "code",
   "execution_count": 32,
   "id": "884faf23",
   "metadata": {},
   "outputs": [
    {
     "ename": "IndentationError",
     "evalue": "unexpected indent (3600337408.py, line 11)",
     "output_type": "error",
     "traceback": [
      "\u001b[1;36m  File \u001b[1;32m\"C:\\Users\\Michael Encalada\\AppData\\Local\\Temp\\ipykernel_27300\\3600337408.py\"\u001b[1;36m, line \u001b[1;32m11\u001b[0m\n\u001b[1;33m    month = Select( driver.find_element(  By.XPATH,  \"/html/body/form/div[1]/div/ul\" ) )\u001b[0m\n\u001b[1;37m    ^\u001b[0m\n\u001b[1;31mIndentationError\u001b[0m\u001b[1;31m:\u001b[0m unexpected indent\n"
     ]
    }
   ],
   "source": [
    "\n",
    "for year_idx in range( 22 ):\n",
    "    \n",
    "    # Click on one specific year\n",
    "    year = Select( driver.find_element(  By.XPATH,  \"/html/body/form/div[1]/div/ul\" ) )\n",
    "    year_all = year.options[ year_idx ]\n",
    "    \n",
    "    # Get year\n",
    "    year_name = year_all.text\n",
    "        \n",
    "        # Get all elements of month\n",
    "        month = Select( driver.find_element(  By.XPATH,  \"/html/body/form/div[1]/div/ul\" ) )\n",
    "        num_month_options = len( month.options )\n",
    "        \n",
    "        for month_idx in range( num_month_options ):\n",
    "            \n",
    "            # Get again all months since HTML is refreshing\n",
    "            # all elements\n",
    "            month = Select( driver.find_element(  By.XPATH,  \"/html/body/form/div[1]/div/ul\" ) )\n",
    "            month_all = month.options[ month_idx ]\n",
    "                \n",
    "            # Get month name\n",
    "            month_name = month.text\n",
    "                \n",
    "                        ## Get tables\n",
    "                        # Get html at this point\n",
    "                        table_path = driver.find_element(  By.XPATH,  \"/html/body/form/div[6]/div/div/div[2]/div\" )\n",
    "                        table_html = table_path.get_attribute( 'innerHTML' )\n",
    "                        \n",
    "                        # Read the table using pandas\n",
    "                        table = pd.read_html( table_html )\n",
    "                        \n",
    "                        # Cleaning tables\n",
    "                        row_new_columns = table[ 0 ].iloc[ 0 , 2: ]\n",
    "                        clean_columns = row_new_columns \\\n",
    "                                              .str.replace( \" \", \"_\") \\\n",
    "                                              .str.lower().str.replace( \"%\", \"share_\") \\\n",
    "                                              .apply( lambda x : unidecode.unidecode( x ) ) \\\n",
    "                                              .tolist()\n",
    "                        \n",
    "                        # Selecting specific columns\n",
    "                        table_clean = table[0].iloc[ 1:, 2: ].copy()\n",
    "                        \n",
    "                        # rename columns\n",
    "                        table_clean.columns = clean_columns\n",
    "                        \n",
    "                        # New values to columns \n",
    "                        table_clean[ 'year' ] = year\n",
    "                        table_clean[ 'month' ]   = month_name\n"
   ]
  },
  {
   "cell_type": "code",
   "execution_count": null,
   "id": "b5bc0e08",
   "metadata": {},
   "outputs": [],
   "source": [
    "#Create the last data\n",
    "final_data = pd.concat( all_tables.values() ).reset_index( drop = True )"
   ]
  },
  {
   "cell_type": "code",
   "execution_count": null,
   "id": "fd6b1a8a",
   "metadata": {},
   "outputs": [],
   "source": [
    "final_data.to_excel( r'example_round.xlsx' , index = False )"
   ]
  },
  {
   "cell_type": "code",
   "execution_count": 39,
   "id": "732a3e4c",
   "metadata": {},
   "outputs": [
    {
     "ename": "WebDriverException",
     "evalue": "Message: disconnected: not connected to DevTools\n  (failed to check if window was closed: disconnected: not connected to DevTools)\n  (Session info: chrome=110.0.5481.178)\nStacktrace:\nBacktrace:\n\t(No symbol) [0x009F37D3]\n\t(No symbol) [0x00988B81]\n\t(No symbol) [0x0088B36D]\n\t(No symbol) [0x0087BE5A]\n\t(No symbol) [0x0087C63A]\n\t(No symbol) [0x0087C5D8]\n\t(No symbol) [0x0086D0BA]\n\t(No symbol) [0x0086DBA7]\n\t(No symbol) [0x008E489B]\n\t(No symbol) [0x008DB3E3]\n\t(No symbol) [0x008B0D97]\n\t(No symbol) [0x008B253D]\n\tGetHandleVerifier [0x00C6ABF2+2510930]\n\tGetHandleVerifier [0x00C98EC1+2700065]\n\tGetHandleVerifier [0x00C9C86C+2714828]\n\tGetHandleVerifier [0x00AA3480+645344]\n\t(No symbol) [0x00990FD2]\n\t(No symbol) [0x00996C68]\n\t(No symbol) [0x00996D4B]\n\t(No symbol) [0x009A0D6B]\n\tBaseThreadInitThunk [0x75F87D69+25]\n\tRtlInitializeExceptionChain [0x776ABB9B+107]\n\tRtlClearBits [0x776ABB1F+191]\n",
     "output_type": "error",
     "traceback": [
      "\u001b[1;31m---------------------------------------------------------------------------\u001b[0m",
      "\u001b[1;31mWebDriverException\u001b[0m                        Traceback (most recent call last)",
      "\u001b[1;32m~\\AppData\\Local\\Temp\\ipykernel_27300\\1244720562.py\u001b[0m in \u001b[0;36m<module>\u001b[1;34m\u001b[0m\n\u001b[0;32m      1\u001b[0m \u001b[1;31m#Finish\u001b[0m\u001b[1;33m\u001b[0m\u001b[1;33m\u001b[0m\u001b[0m\n\u001b[1;32m----> 2\u001b[1;33m \u001b[0mdriver\u001b[0m\u001b[1;33m.\u001b[0m\u001b[0mclose\u001b[0m\u001b[1;33m(\u001b[0m\u001b[1;33m)\u001b[0m\u001b[1;33m\u001b[0m\u001b[1;33m\u001b[0m\u001b[0m\n\u001b[0m",
      "\u001b[1;32m~\\anaconda3\\lib\\site-packages\\selenium\\webdriver\\remote\\webdriver.py\u001b[0m in \u001b[0;36mclose\u001b[1;34m(self)\u001b[0m\n\u001b[0;32m    549\u001b[0m                 \u001b[0mdriver\u001b[0m\u001b[1;33m.\u001b[0m\u001b[0mclose\u001b[0m\u001b[1;33m(\u001b[0m\u001b[1;33m)\u001b[0m\u001b[1;33m\u001b[0m\u001b[1;33m\u001b[0m\u001b[0m\n\u001b[0;32m    550\u001b[0m         \"\"\"\n\u001b[1;32m--> 551\u001b[1;33m         \u001b[0mself\u001b[0m\u001b[1;33m.\u001b[0m\u001b[0mexecute\u001b[0m\u001b[1;33m(\u001b[0m\u001b[0mCommand\u001b[0m\u001b[1;33m.\u001b[0m\u001b[0mCLOSE\u001b[0m\u001b[1;33m)\u001b[0m\u001b[1;33m\u001b[0m\u001b[1;33m\u001b[0m\u001b[0m\n\u001b[0m\u001b[0;32m    552\u001b[0m \u001b[1;33m\u001b[0m\u001b[0m\n\u001b[0;32m    553\u001b[0m     \u001b[1;32mdef\u001b[0m \u001b[0mquit\u001b[0m\u001b[1;33m(\u001b[0m\u001b[0mself\u001b[0m\u001b[1;33m)\u001b[0m \u001b[1;33m->\u001b[0m \u001b[1;32mNone\u001b[0m\u001b[1;33m:\u001b[0m\u001b[1;33m\u001b[0m\u001b[1;33m\u001b[0m\u001b[0m\n",
      "\u001b[1;32m~\\anaconda3\\lib\\site-packages\\selenium\\webdriver\\remote\\webdriver.py\u001b[0m in \u001b[0;36mexecute\u001b[1;34m(self, driver_command, params)\u001b[0m\n\u001b[0;32m    438\u001b[0m         \u001b[0mresponse\u001b[0m \u001b[1;33m=\u001b[0m \u001b[0mself\u001b[0m\u001b[1;33m.\u001b[0m\u001b[0mcommand_executor\u001b[0m\u001b[1;33m.\u001b[0m\u001b[0mexecute\u001b[0m\u001b[1;33m(\u001b[0m\u001b[0mdriver_command\u001b[0m\u001b[1;33m,\u001b[0m \u001b[0mparams\u001b[0m\u001b[1;33m)\u001b[0m\u001b[1;33m\u001b[0m\u001b[1;33m\u001b[0m\u001b[0m\n\u001b[0;32m    439\u001b[0m         \u001b[1;32mif\u001b[0m \u001b[0mresponse\u001b[0m\u001b[1;33m:\u001b[0m\u001b[1;33m\u001b[0m\u001b[1;33m\u001b[0m\u001b[0m\n\u001b[1;32m--> 440\u001b[1;33m             \u001b[0mself\u001b[0m\u001b[1;33m.\u001b[0m\u001b[0merror_handler\u001b[0m\u001b[1;33m.\u001b[0m\u001b[0mcheck_response\u001b[0m\u001b[1;33m(\u001b[0m\u001b[0mresponse\u001b[0m\u001b[1;33m)\u001b[0m\u001b[1;33m\u001b[0m\u001b[1;33m\u001b[0m\u001b[0m\n\u001b[0m\u001b[0;32m    441\u001b[0m             \u001b[0mresponse\u001b[0m\u001b[1;33m[\u001b[0m\u001b[1;34m\"value\"\u001b[0m\u001b[1;33m]\u001b[0m \u001b[1;33m=\u001b[0m \u001b[0mself\u001b[0m\u001b[1;33m.\u001b[0m\u001b[0m_unwrap_value\u001b[0m\u001b[1;33m(\u001b[0m\u001b[0mresponse\u001b[0m\u001b[1;33m.\u001b[0m\u001b[0mget\u001b[0m\u001b[1;33m(\u001b[0m\u001b[1;34m\"value\"\u001b[0m\u001b[1;33m,\u001b[0m \u001b[1;32mNone\u001b[0m\u001b[1;33m)\u001b[0m\u001b[1;33m)\u001b[0m\u001b[1;33m\u001b[0m\u001b[1;33m\u001b[0m\u001b[0m\n\u001b[0;32m    442\u001b[0m             \u001b[1;32mreturn\u001b[0m \u001b[0mresponse\u001b[0m\u001b[1;33m\u001b[0m\u001b[1;33m\u001b[0m\u001b[0m\n",
      "\u001b[1;32m~\\anaconda3\\lib\\site-packages\\selenium\\webdriver\\remote\\errorhandler.py\u001b[0m in \u001b[0;36mcheck_response\u001b[1;34m(self, response)\u001b[0m\n\u001b[0;32m    243\u001b[0m                 \u001b[0malert_text\u001b[0m \u001b[1;33m=\u001b[0m \u001b[0mvalue\u001b[0m\u001b[1;33m[\u001b[0m\u001b[1;34m\"alert\"\u001b[0m\u001b[1;33m]\u001b[0m\u001b[1;33m.\u001b[0m\u001b[0mget\u001b[0m\u001b[1;33m(\u001b[0m\u001b[1;34m\"text\"\u001b[0m\u001b[1;33m)\u001b[0m\u001b[1;33m\u001b[0m\u001b[1;33m\u001b[0m\u001b[0m\n\u001b[0;32m    244\u001b[0m             \u001b[1;32mraise\u001b[0m \u001b[0mexception_class\u001b[0m\u001b[1;33m(\u001b[0m\u001b[0mmessage\u001b[0m\u001b[1;33m,\u001b[0m \u001b[0mscreen\u001b[0m\u001b[1;33m,\u001b[0m \u001b[0mstacktrace\u001b[0m\u001b[1;33m,\u001b[0m \u001b[0malert_text\u001b[0m\u001b[1;33m)\u001b[0m  \u001b[1;31m# type: ignore[call-arg]  # mypy is not smart enough here\u001b[0m\u001b[1;33m\u001b[0m\u001b[1;33m\u001b[0m\u001b[0m\n\u001b[1;32m--> 245\u001b[1;33m         \u001b[1;32mraise\u001b[0m \u001b[0mexception_class\u001b[0m\u001b[1;33m(\u001b[0m\u001b[0mmessage\u001b[0m\u001b[1;33m,\u001b[0m \u001b[0mscreen\u001b[0m\u001b[1;33m,\u001b[0m \u001b[0mstacktrace\u001b[0m\u001b[1;33m)\u001b[0m\u001b[1;33m\u001b[0m\u001b[1;33m\u001b[0m\u001b[0m\n\u001b[0m",
      "\u001b[1;31mWebDriverException\u001b[0m: Message: disconnected: not connected to DevTools\n  (failed to check if window was closed: disconnected: not connected to DevTools)\n  (Session info: chrome=110.0.5481.178)\nStacktrace:\nBacktrace:\n\t(No symbol) [0x009F37D3]\n\t(No symbol) [0x00988B81]\n\t(No symbol) [0x0088B36D]\n\t(No symbol) [0x0087BE5A]\n\t(No symbol) [0x0087C63A]\n\t(No symbol) [0x0087C5D8]\n\t(No symbol) [0x0086D0BA]\n\t(No symbol) [0x0086DBA7]\n\t(No symbol) [0x008E489B]\n\t(No symbol) [0x008DB3E3]\n\t(No symbol) [0x008B0D97]\n\t(No symbol) [0x008B253D]\n\tGetHandleVerifier [0x00C6ABF2+2510930]\n\tGetHandleVerifier [0x00C98EC1+2700065]\n\tGetHandleVerifier [0x00C9C86C+2714828]\n\tGetHandleVerifier [0x00AA3480+645344]\n\t(No symbol) [0x00990FD2]\n\t(No symbol) [0x00996C68]\n\t(No symbol) [0x00996D4B]\n\t(No symbol) [0x009A0D6B]\n\tBaseThreadInitThunk [0x75F87D69+25]\n\tRtlInitializeExceptionChain [0x776ABB9B+107]\n\tRtlClearBits [0x776ABB1F+191]\n"
     ]
    }
   ],
   "source": [
    "#Finish\n",
    "driver.close()"
   ]
  },
  {
   "cell_type": "code",
   "execution_count": null,
   "id": "ce846cc5",
   "metadata": {},
   "outputs": [],
   "source": []
  }
 ],
 "metadata": {
  "kernelspec": {
   "display_name": "Python 3 (ipykernel)",
   "language": "python",
   "name": "python3"
  },
  "language_info": {
   "codemirror_mode": {
    "name": "ipython",
    "version": 3
   },
   "file_extension": ".py",
   "mimetype": "text/x-python",
   "name": "python",
   "nbconvert_exporter": "python",
   "pygments_lexer": "ipython3",
   "version": "3.9.13"
  }
 },
 "nbformat": 4,
 "nbformat_minor": 5
}
