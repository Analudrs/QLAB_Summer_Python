{
 "cells": [
  {
   "cell_type": "code",
   "execution_count": 8,
   "id": "74dd2458",
   "metadata": {},
   "outputs": [],
   "source": [
    "#Import libraries\n",
    "from selenium import webdriver\n",
    "from selenium.webdriver.chrome.service import Service\n",
    "from webdriver_manager.chrome import ChromeDriverManager\n",
    "import pandas as pd"
   ]
  },
  {
   "cell_type": "code",
   "execution_count": 9,
   "id": "c7dcd3d7",
   "metadata": {},
   "outputs": [],
   "source": [
    "#Settings\n",
    "s = Service(ChromeDriverManager().install())\n",
    "driver = webdriver.Chrome(service=s)\n",
    "driver.maximize_window()\n",
    "\n",
    "# navigate to webpage\n",
    "driver.get('https://www.sbs.gob.pe/app/pp/EstadisticasSAEEPortal/Paginas/TIActivaTipoCreditoEmpresa.aspx?tip=C')"
   ]
  },
  {
   "cell_type": "code",
   "execution_count": 3,
   "id": "eddc32e0",
   "metadata": {},
   "outputs": [],
   "source": [
    "#Create list to store the tables\n",
    "tables = []"
   ]
  },
  {
   "cell_type": "code",
   "execution_count": 11,
   "id": "4abd0e69",
   "metadata": {},
   "outputs": [],
   "source": [
    "#Run a loop to iterate through all the years and months and extract the data\n",
    "for year in range(2003, 2023):\n",
    "    # loop through all months\n",
    "    for month in range(1, 13):\n",
    "        try:\n",
    "            # select year and month from the dropdown menus\n",
    "            year_dropdown = driver.find_element_by_id('ctl00_m_g_460cc390_89c9_4715_b5e5_c8ba5d9f661c_ctl00_cboAnio')\n",
    "            year_dropdown.clear()\n",
    "            year_dropdown.send_keys(str(year))\n",
    "            month_dropdown = driver.find_element_by_id('ctl00_m_g_460cc390_89c9_4715_b5e5_c8ba5d9f661c_ctl00_cboMes')\n",
    "            month_dropdown.clear()\n",
    "            month_dropdown.send_keys(str(month))\n",
    "\n",
    "            # click on the search button\n",
    "            search_button = driver.find_element_by_id('ctl00_m_g_460cc390_89c9_4715_b5e5_c8ba5d9f661c_ctl00_btnConsultar')\n",
    "            search_button.click()\n",
    "\n",
    "            # extract the table\n",
    "            table = pd.read_html(driver.page_source)[0]\n",
    "            tables.append(table)\n",
    "            \n",
    "        except:\n",
    "            pass"
   ]
  },
  {
   "cell_type": "code",
   "execution_count": null,
   "id": "e5f175ad",
   "metadata": {},
   "outputs": [],
   "source": []
  }
 ],
 "metadata": {
  "kernelspec": {
   "display_name": "base",
   "language": "python",
   "name": "python3"
  },
  "language_info": {
   "codemirror_mode": {
    "name": "ipython",
    "version": 3
   },
   "file_extension": ".py",
   "mimetype": "text/x-python",
   "name": "python",
   "nbconvert_exporter": "python",
   "pygments_lexer": "ipython3",
   "version": "3.9.13"
  },
  "vscode": {
   "interpreter": {
    "hash": "71a648a1ea4ecfd2bc47e45cc8ce8b953cb573023f0697c1fc03ad82739e5af3"
   }
  }
 },
 "nbformat": 4,
 "nbformat_minor": 5
}
