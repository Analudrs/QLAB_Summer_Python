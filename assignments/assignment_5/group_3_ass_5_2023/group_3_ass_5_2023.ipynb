{
 "cells": [
  {
   "cell_type": "markdown",
   "id": "83e636ec",
   "metadata": {},
   "source": [
    "# ASSIGNMENT 5 QLAB "
   ]
  },
  {
   "cell_type": "markdown",
   "id": "44b91a43",
   "metadata": {},
   "source": [
    "### Integrantes:\n",
    "- Christian Alfaro\n",
    "- Esteban Cabrera\n",
    "- Brisa Cruz\n",
    "- Alexander Du-Bois"
   ]
  },
  {
   "cell_type": "code",
   "execution_count": 1,
   "id": "bd84676e",
   "metadata": {},
   "outputs": [],
   "source": [
    "from selenium import webdriver\n",
    "from selenium.webdriver.common.keys import Keys\n",
    "from selenium.common.exceptions import NoSuchElementException\n",
    "from selenium.webdriver import ActionChains\n",
    "import pandas as pd\n",
    "import numpy as np\n",
    "import os\n",
    "import time\n",
    "import re\n",
    "import unidecode\n",
    "import time \n",
    "from selenium.webdriver.support.ui import Select\n",
    "from webdriver_manager.chrome import ChromeDriverManager"
   ]
  },
  {
   "cell_type": "code",
   "execution_count": 8,
   "id": "83a07ef2",
   "metadata": {},
   "outputs": [],
   "source": [
    "# this library is to manipulate browser\n",
    "from selenium import webdriver\n",
    "\n",
    "# it allows you to work with differen versions of drivers\n",
    "# We call ChromeDriver\n",
    "from webdriver_manager.chrome import ChromeDriverManager\n",
    "import re\n",
    "import time \n",
    "from selenium.webdriver.common.by import By"
   ]
  },
  {
   "cell_type": "code",
   "execution_count": null,
   "id": "1845950f",
   "metadata": {},
   "outputs": [],
   "source": [
    "#We first need to open the webpage using webdriver"
   ]
  },
  {
   "cell_type": "code",
   "execution_count": 4,
   "id": "7d3aa624",
   "metadata": {},
   "outputs": [
    {
     "name": "stderr",
     "output_type": "stream",
     "text": [
      "C:\\Users\\AMD Ryzen\\AppData\\Local\\Temp\\ipykernel_8964\\3458904053.py:2: DeprecationWarning: executable_path has been deprecated, please pass in a Service object\n",
      "  driver  =  webdriver.Chrome( ChromeDriverManager().install() )\n"
     ]
    }
   ],
   "source": [
    "# abrimos el navegador\n",
    "driver  =  webdriver.Chrome( ChromeDriverManager().install() )\n",
    "# Maximize window\n",
    "driver.maximize_window()"
   ]
  },
  {
   "cell_type": "code",
   "execution_count": 5,
   "id": "0d39bbbd",
   "metadata": {},
   "outputs": [],
   "source": [
    "SBS_gob = \"https://www.sbs.gob.pe/app/pp/EstadisticasSAEEPortal/Paginas/TIActivaTipoCreditoEmpresa.aspx?tip=C\"\n",
    "driver.get( SBS_gob )\n"
   ]
  },
  {
   "cell_type": "code",
   "execution_count": 9,
   "id": "098e029e",
   "metadata": {},
   "outputs": [
    {
     "data": {
      "text/plain": [
       "<selenium.webdriver.remote.webelement.WebElement (session=\"c28b98b9eabdf501711ba8c64aa2098b\", element=\"3b431c96-a40f-44c3-abde-35e55c8c47cd\")>"
      ]
     },
     "execution_count": 9,
     "metadata": {},
     "output_type": "execute_result"
    }
   ],
   "source": [
    "driver.find_element( By.XPATH, '/html/body/form/div[4]/div/div/div[2]/div/div/div/div[1]/div/div/table')"
   ]
  },
  {
   "cell_type": "code",
   "execution_count": 10,
   "id": "2b3ca6ca",
   "metadata": {},
   "outputs": [
    {
     "data": {
      "text/plain": [
       "[                                        CMAC Arequipa  \\\n",
       " 0                                      Tasa Anual (%)   \n",
       " 1                                       CMAC Arequipa   \n",
       " 2                                                   -   \n",
       " 3                                                   -   \n",
       " 4                                                   -   \n",
       " ..                                                ...   \n",
       " 89  Préstamos no Revolventes para libre disponibil...   \n",
       " 90  Préstamos no Revolventes para libre disponibil...   \n",
       " 91                             Créditos pignoraticios   \n",
       " 92                                       Hipotecarios   \n",
       " 93               Préstamos hipotecarios para vivienda   \n",
       " \n",
       "                                            CMAC Cusco CMAC del Santa  \\\n",
       " 0   CMAC ArequipaCMAC CuscoCMAC del SantaCMAC Huan...            NaN   \n",
       " 1   CMAC ArequipaCMAC CuscoCMAC del SantaCMAC Huan...     CMAC Cusco   \n",
       " 2   CMAC ArequipaCMAC CuscoCMAC del SantaCMAC Huan...              -   \n",
       " 3   CMAC ArequipaCMAC CuscoCMAC del SantaCMAC Huan...              -   \n",
       " 4   CMAC ArequipaCMAC CuscoCMAC del SantaCMAC Huan...              -   \n",
       " ..                                                ...            ...   \n",
       " 89                                                NaN            NaN   \n",
       " 90                                                NaN            NaN   \n",
       " 91                                                NaN            NaN   \n",
       " 92                                                NaN            NaN   \n",
       " 93                                                NaN            NaN   \n",
       " \n",
       "      CMAC Huancayo       CMAC Ica CMAC Maynas   CMAC Paita  CMAC Piura  \\\n",
       " 0              NaN            NaN         NaN          NaN         NaN   \n",
       " 1   CMAC del Santa  CMAC Huancayo    CMAC Ica  CMAC Maynas  CMAC Paita   \n",
       " 2                -              -           -            -           -   \n",
       " 3                -              -           -            -           -   \n",
       " 4                -              -           -            -           -   \n",
       " ..             ...            ...         ...          ...         ...   \n",
       " 89             NaN            NaN         NaN          NaN         NaN   \n",
       " 90             NaN            NaN         NaN          NaN         NaN   \n",
       " 91             NaN            NaN         NaN          NaN         NaN   \n",
       " 92             NaN            NaN         NaN          NaN         NaN   \n",
       " 93             NaN            NaN         NaN          NaN         NaN   \n",
       " \n",
       "    CMAC Sullana    CMAC Tacna CMAC Trujillo      CMCP Lima   Promedio  \\\n",
       " 0           NaN           NaN           NaN            NaN        NaN   \n",
       " 1    CMAC Piura  CMAC Sullana    CMAC Tacna  CMAC Trujillo  CMCP Lima   \n",
       " 2             -             -             -              -          -   \n",
       " 3             -             -             -              -          -   \n",
       " 4             -             -             -              -          -   \n",
       " ..          ...           ...           ...            ...        ...   \n",
       " 89          NaN           NaN           NaN            NaN        NaN   \n",
       " 90          NaN           NaN           NaN            NaN        NaN   \n",
       " 91          NaN           NaN           NaN            NaN        NaN   \n",
       " 92          NaN           NaN           NaN            NaN        NaN   \n",
       " 93          NaN           NaN           NaN            NaN        NaN   \n",
       " \n",
       "    Unnamed: 13  \n",
       " 0          NaN  \n",
       " 1     Promedio  \n",
       " 2            -  \n",
       " 3            -  \n",
       " 4            -  \n",
       " ..         ...  \n",
       " 89         NaN  \n",
       " 90         NaN  \n",
       " 91         NaN  \n",
       " 92         NaN  \n",
       " 93         NaN  \n",
       " \n",
       " [94 rows x 14 columns],\n",
       "    CMAC Arequipa CMAC Cusco CMAC del Santa CMAC Huancayo CMAC Ica CMAC Maynas  \\\n",
       " 0              -          -              -             -        -           -   \n",
       " 1              -          -              -             -        -           -   \n",
       " 2              -          -              -             -        -           -   \n",
       " 3              -          -              -             -        -           -   \n",
       " 4              -          -              -             -        -           -   \n",
       " 5              -          -              -             -        -           -   \n",
       " 6              -          -              -             -        -           -   \n",
       " 7              -          -              -             -        -           -   \n",
       " 8              -          -              -             -        -           -   \n",
       " 9              -          -              -             -        -           -   \n",
       " 10             -          -              -             -        -           -   \n",
       " 11             -          -              -             -        -           -   \n",
       " 12             -          -              -             -        -           -   \n",
       " 13             -          -              -             -        -           -   \n",
       " 14         13.46      18.28          19.56         20.70    21.91       16.15   \n",
       " 15             -          -              -             -        -           -   \n",
       " 16         31.76      79.59              -             -    83.40           -   \n",
       " 17         13.78      21.19              -         22.71        -           -   \n",
       " 18         23.24      19.53              -         17.00        -           -   \n",
       " 19         18.54      19.61              -         36.07    19.56       18.86   \n",
       " 20         13.29      16.29          19.56             -    20.83       16.14   \n",
       " 21         21.58      20.54          27.80         21.27    23.42       26.02   \n",
       " 22             -          -              -             -        -           -   \n",
       " 23         20.44      26.63              -         22.40    74.79       73.52   \n",
       " 24         22.59      23.32          31.78         28.87    33.55       35.92   \n",
       " 25         21.85      24.94          26.45         27.63    30.19       34.43   \n",
       " 26         20.99      23.10          28.21         27.62    25.74       31.73   \n",
       " 27         21.59      19.66          27.76         20.81    22.50       24.13   \n",
       " 28         31.26      25.86          38.76         30.99    32.82       42.61   \n",
       " 29             -      29.60              -             -        -           -   \n",
       " 30             -          -              -             -        -           -   \n",
       " 31         21.12          -              -             -        -           -   \n",
       " 32         30.36      42.22              -         42.79    83.40           -   \n",
       " 33         27.07      29.32          38.76         44.79    46.01       61.86   \n",
       " 34         34.05      34.42          44.41         43.88    42.09       52.34   \n",
       " 35         37.12      29.27          44.94         50.90    36.41       47.95   \n",
       " 36         31.02      23.38          37.76         29.24    31.38       35.64   \n",
       " 37         28.38      25.50          51.47         27.56    26.88       23.62   \n",
       " 38             -          -              -             -        -           -   \n",
       " 39             -          -              -             -        -           -   \n",
       " 40             -          -              -             -        -           -   \n",
       " 41         32.59      35.08          62.21         45.41    29.07       35.30   \n",
       " 42         28.22      19.99          48.90         26.06    26.47       19.47   \n",
       " 43         79.38      79.59          83.64         79.75    74.64       83.30   \n",
       " 44         14.19      13.34              -         12.79    14.53       13.22   \n",
       " 45         14.19      13.34              -         12.79    14.53       13.22   \n",
       " \n",
       "    CMAC Paita CMAC Piura CMAC Sullana CMAC Tacna CMAC Trujillo CMCP Lima  \\\n",
       " 0           -          -            -          -             -         -   \n",
       " 1           -          -            -          -             -         -   \n",
       " 2           -          -            -          -             -         -   \n",
       " 3           -          -            -          -             -         -   \n",
       " 4           -          -            -          -             -         -   \n",
       " 5           -          -            -          -             -         -   \n",
       " 6           -          -            -          -             -         -   \n",
       " 7           -      13.80            -          -             -         -   \n",
       " 8           -          -            -          -             -         -   \n",
       " 9           -          -            -          -             -         -   \n",
       " 10          -          -            -          -             -         -   \n",
       " 11          -          -            -          -             -         -   \n",
       " 12          -          -            -          -             -         -   \n",
       " 13          -      13.80            -          -             -         -   \n",
       " 14      13.08      17.50        18.66          -         13.99     20.20   \n",
       " 15          -          -            -          -             -         -   \n",
       " 16          -          -            -          -             -         -   \n",
       " 17          -          -        20.23          -             -         -   \n",
       " 18          -          -        19.62          -             -     20.20   \n",
       " 19          -      19.51        22.14          -         13.36         -   \n",
       " 20      13.08      17.30        17.34          -         17.98         -   \n",
       " 21      27.22      28.85        23.61      24.39         20.89     23.56   \n",
       " 22          -          -            -          -             -         -   \n",
       " 23          -      65.93            -          -         27.43         -   \n",
       " 24      27.86          -        28.67      36.38         22.84     25.18   \n",
       " 25      27.40      64.74        25.34      34.54         22.15     21.77   \n",
       " 26      32.06      34.95        27.08      30.31         23.38     26.35   \n",
       " 27      26.89      27.85        22.45      23.18         20.11     23.53   \n",
       " 28      40.70      45.58        35.99      31.79         30.14     30.37   \n",
       " 29          -          -            -          -             -         -   \n",
       " 30          -          -            -          -             -         -   \n",
       " 31          -          -            -          -             -         -   \n",
       " 32      49.76      65.89            -      41.75         33.66         -   \n",
       " 33      47.69          -        57.61      42.69         34.45     27.52   \n",
       " 34      44.14      66.98        40.91      41.54         41.54     47.32   \n",
       " 35      44.49      49.95        40.95      36.47         37.82     42.71   \n",
       " 36      39.24      45.14        33.82      30.83         25.61     29.28   \n",
       " 37      38.91      43.18        40.51      24.05         26.74     20.55   \n",
       " 38          -          -            -          -             -         -   \n",
       " 39          -          -            -          -             -         -   \n",
       " 40          -          -            -          -             -         -   \n",
       " 41      52.96      37.92        47.88      40.26         44.72     54.65   \n",
       " 42      37.50      43.64        39.51      22.60         20.99     18.64   \n",
       " 43      75.34      73.07        72.26      79.59         77.09     67.29   \n",
       " 44          -      16.85            -          -         13.14         -   \n",
       " 45          -      16.85            -          -         13.14         -   \n",
       " \n",
       "    Promedio  \n",
       " 0         -  \n",
       " 1         -  \n",
       " 2         -  \n",
       " 3         -  \n",
       " 4         -  \n",
       " 5         -  \n",
       " 6         -  \n",
       " 7     13.80  \n",
       " 8         -  \n",
       " 9         -  \n",
       " 10        -  \n",
       " 11        -  \n",
       " 12        -  \n",
       " 13    13.80  \n",
       " 14    16.83  \n",
       " 15        -  \n",
       " 16    79.73  \n",
       " 17    20.27  \n",
       " 18    19.67  \n",
       " 19    16.97  \n",
       " 20    16.40  \n",
       " 21    23.18  \n",
       " 22        -  \n",
       " 23    27.84  \n",
       " 24    24.62  \n",
       " 25    25.14  \n",
       " 26    27.41  \n",
       " 27    22.57  \n",
       " 28    33.43  \n",
       " 29    29.60  \n",
       " 30        -  \n",
       " 31    21.12  \n",
       " 32    46.56  \n",
       " 33    38.36  \n",
       " 34    39.84  \n",
       " 35    38.67  \n",
       " 36    32.36  \n",
       " 37    30.66  \n",
       " 38        -  \n",
       " 39        -  \n",
       " 40        -  \n",
       " 41    38.55  \n",
       " 42    29.38  \n",
       " 43    73.90  \n",
       " 44    14.45  \n",
       " 45    14.45  ]"
      ]
     },
     "execution_count": 10,
     "metadata": {},
     "output_type": "execute_result"
    }
   ],
   "source": [
    "sbstable_df = pd.read_html( driver.find_element( By.XPATH, '/html/body/form/div[4]/div/div/div[2]/div/div/div/div[1]/div/div/table').get_attribute('outerHTML') )      \n",
    "sbstable_df\n"
   ]
  },
  {
   "cell_type": "code",
   "execution_count": 13,
   "id": "300451fe",
   "metadata": {},
   "outputs": [],
   "source": [
    "sbstable_df[0].to_excel('sbstable.xlsx')"
   ]
  },
  {
   "cell_type": "code",
   "execution_count": 35,
   "id": "79024a62",
   "metadata": {},
   "outputs": [
    {
     "ename": "UnexpectedTagNameException",
     "evalue": "Message: Select only works on <select> elements, not on li\n",
     "output_type": "error",
     "traceback": [
      "\u001b[1;31m---------------------------------------------------------------------------\u001b[0m",
      "\u001b[1;31mUnexpectedTagNameException\u001b[0m                Traceback (most recent call last)",
      "Input \u001b[1;32mIn [35]\u001b[0m, in \u001b[0;36m<cell line: 5>\u001b[1;34m()\u001b[0m\n\u001b[0;32m      1\u001b[0m \u001b[38;5;66;03m# we can loop over all years\u001b[39;00m\n\u001b[0;32m      2\u001b[0m \u001b[38;5;66;03m# for year_idx in range( num_months_options ):\u001b[39;00m\n\u001b[0;32m      5\u001b[0m \u001b[38;5;28;01mfor\u001b[39;00m year_idx \u001b[38;5;129;01min\u001b[39;00m \u001b[38;5;28mrange\u001b[39m( \u001b[38;5;241m21\u001b[39m ):\n\u001b[0;32m      6\u001b[0m     \n\u001b[0;32m      7\u001b[0m     \u001b[38;5;66;03m# Get again all years since HTML is refreshing\u001b[39;00m\n\u001b[0;32m      8\u001b[0m     \u001b[38;5;66;03m# all elements\u001b[39;00m\n\u001b[0;32m      9\u001b[0m     \u001b[38;5;66;03m# Click on one specific department\u001b[39;00m\n\u001b[1;32m---> 10\u001b[0m     year \u001b[38;5;241m=\u001b[39m \u001b[43mSelect\u001b[49m\u001b[43m(\u001b[49m\u001b[43m \u001b[49m\u001b[43mdriver\u001b[49m\u001b[38;5;241;43m.\u001b[39;49m\u001b[43mfind_element\u001b[49m\u001b[43m(\u001b[49m\u001b[43m  \u001b[49m\u001b[43mBy\u001b[49m\u001b[38;5;241;43m.\u001b[39;49m\u001b[43mXPATH\u001b[49m\u001b[43m,\u001b[49m\u001b[43m  \u001b[49m\u001b[38;5;124;43m\"\u001b[39;49m\u001b[38;5;124;43m/html/body/form/div[1]/div/ul/li[1]\u001b[39;49m\u001b[38;5;124;43m\"\u001b[39;49m\u001b[43m \u001b[49m\u001b[43m)\u001b[49m\u001b[43m \u001b[49m\u001b[43m)\u001b[49m\n\u001b[0;32m     11\u001b[0m     year_object \u001b[38;5;241m=\u001b[39m year\u001b[38;5;241m.\u001b[39moptions[ year_idx ]\n",
      "File \u001b[1;32mC:\\anaconda\\lib\\site-packages\\selenium\\webdriver\\support\\select.py:36\u001b[0m, in \u001b[0;36mSelect.__init__\u001b[1;34m(self, webelement)\u001b[0m\n\u001b[0;32m     25\u001b[0m \u001b[38;5;124;03m\"\"\"Constructor. A check is made that the given element is, indeed, a\u001b[39;00m\n\u001b[0;32m     26\u001b[0m \u001b[38;5;124;03mSELECT tag. If it is not, then an UnexpectedTagNameException is thrown.\u001b[39;00m\n\u001b[0;32m     27\u001b[0m \n\u001b[1;32m   (...)\u001b[0m\n\u001b[0;32m     33\u001b[0m \u001b[38;5;124;03m    Select(driver.find_element(By.TAG_NAME, \"select\")).select_by_index(2)\u001b[39;00m\n\u001b[0;32m     34\u001b[0m \u001b[38;5;124;03m\"\"\"\u001b[39;00m\n\u001b[0;32m     35\u001b[0m \u001b[38;5;28;01mif\u001b[39;00m webelement\u001b[38;5;241m.\u001b[39mtag_name\u001b[38;5;241m.\u001b[39mlower() \u001b[38;5;241m!=\u001b[39m \u001b[38;5;124m\"\u001b[39m\u001b[38;5;124mselect\u001b[39m\u001b[38;5;124m\"\u001b[39m:\n\u001b[1;32m---> 36\u001b[0m     \u001b[38;5;28;01mraise\u001b[39;00m UnexpectedTagNameException(\u001b[38;5;124mf\u001b[39m\u001b[38;5;124m\"\u001b[39m\u001b[38;5;124mSelect only works on <select> elements, not on \u001b[39m\u001b[38;5;132;01m{\u001b[39;00mwebelement\u001b[38;5;241m.\u001b[39mtag_name\u001b[38;5;132;01m}\u001b[39;00m\u001b[38;5;124m\"\u001b[39m)\n\u001b[0;32m     37\u001b[0m \u001b[38;5;28mself\u001b[39m\u001b[38;5;241m.\u001b[39m_el \u001b[38;5;241m=\u001b[39m webelement\n\u001b[0;32m     38\u001b[0m multi \u001b[38;5;241m=\u001b[39m \u001b[38;5;28mself\u001b[39m\u001b[38;5;241m.\u001b[39m_el\u001b[38;5;241m.\u001b[39mget_dom_attribute(\u001b[38;5;124m\"\u001b[39m\u001b[38;5;124mmultiple\u001b[39m\u001b[38;5;124m\"\u001b[39m)\n",
      "\u001b[1;31mUnexpectedTagNameException\u001b[0m: Message: Select only works on <select> elements, not on li\n"
     ]
    }
   ],
   "source": [
    "# we can loop over all years\n",
    "# for year_idx in range( num_months_options ):\n",
    "\n",
    "\n",
    "for year_idx in range( 21 ):\n",
    "    \n",
    "    # Get again all years since HTML is refreshing\n",
    "    # all elements\n",
    "    # Click on one specific department\n",
    "    year = Select( driver.find_element(  By.XPATH,  \"/html/body/form/div[1]/div/ul/li[1]\" ) )\n",
    "    year_object = year.options[ year_idx ]\n",
    "\n",
    "    "
   ]
  }
 ],
 "metadata": {
  "kernelspec": {
   "display_name": "Python 3 (ipykernel)",
   "language": "python",
   "name": "python3"
  },
  "language_info": {
   "codemirror_mode": {
    "name": "ipython",
    "version": 3
   },
   "file_extension": ".py",
   "mimetype": "text/x-python",
   "name": "python",
   "nbconvert_exporter": "python",
   "pygments_lexer": "ipython3",
   "version": "3.9.12"
  }
 },
 "nbformat": 4,
 "nbformat_minor": 5
}
