{
 "cells": [
  {
   "cell_type": "markdown",
   "metadata": {},
   "source": [
    "# Assigment 5\n",
    "\n",
    "This assigment will be graded if everything works well. I will run the script as once and everything should be done without errors and mistakes. I should be able to run your scripts in my computer and get all the results. **USE RELATIVE PATHS**. An error or exception or anything that breaks the code will means NO GRADE (0). Additionally, you are not able to modify any file handly. It also means NO GRADE (0). Comment everything you think will help others read your script. We expect 0 errors using GitHub. Everything will be graded!\n",
    "\n",
    "**ASK EVERYTHING! WE ARE HERE TO HELP YOU!**"
   ]
  },
  {
   "cell_type": "markdown",
   "metadata": {},
   "source": [
    "1. Generate a folder with the name of your group in this folder **QLAB_Summer_Python/assignments/assignment_5/**. The code should run even if the folder exists.\n",
    "2. Scrape all the available information in this [link](https://www.sbs.gob.pe/app/pp/EstadisticasSAEEPortal/Paginas/TIActivaTipoCreditoEmpresa.aspx?tip=C). Save an excel file by year and month request. The excel file should be name using the month and year of the sheet. "
   ]
  },
  {
   "cell_type": "code",
   "execution_count": 10,
   "metadata": {},
   "outputs": [],
   "source": [
    "#Import all the libraries we're going to use\n",
    "from selenium import webdriver\n",
    "from selenium.webdriver.common.keys import Keys\n",
    "from selenium.common.exceptions import NoSuchElementException\n",
    "from selenium.webdriver import ActionChains\n",
    "import pandas as pd\n",
    "import numpy as np\n",
    "import os\n",
    "import time\n",
    "import re\n",
    "import unidecode\n",
    "import time \n",
    "from selenium.webdriver.support.ui import Select\n",
    "from webdriver_manager.chrome import ChromeDriverManager\n",
    "from selenium.webdriver.common.by import By"
   ]
  },
  {
   "cell_type": "code",
   "execution_count": null,
   "metadata": {},
   "outputs": [],
   "source": []
  },
  {
   "cell_type": "code",
   "execution_count": 11,
   "metadata": {},
   "outputs": [
    {
     "name": "stderr",
     "output_type": "stream",
     "text": [
      "C:\\Users\\XIMENA\\AppData\\Local\\Temp\\ipykernel_21708\\4227828464.py:2: DeprecationWarning: executable_path has been deprecated, please pass in a Service object\n",
      "  driver = webdriver.Chrome( ChromeDriverManager().install() )\n"
     ]
    }
   ],
   "source": [
    "#Firstly, we open the driver \n",
    "driver = webdriver.Chrome( ChromeDriverManager().install() )\n",
    "\n",
    "# Maximize window\n",
    "driver.maximize_window()"
   ]
  },
  {
   "cell_type": "code",
   "execution_count": 12,
   "metadata": {},
   "outputs": [],
   "source": [
    "#We establish the link of the website we're going to scrap\n",
    "url_sbs = \"https://www.sbs.gob.pe/app/pp/EstadisticasSAEEPortal/Paginas/TIActivaTipoCreditoEmpresa.aspx?tip=C\"\n",
    "driver.get( url_sbs )"
   ]
  },
  {
   "cell_type": "code",
   "execution_count": 15,
   "metadata": {},
   "outputs": [
    {
     "data": {
      "text/plain": [
       "<selenium.webdriver.remote.webelement.WebElement (session=\"b50f36720f269aa809e4e65ae8f7fb3b\", element=\"bebbd516-1844-416f-bdf6-5cf1b6a10823\")>"
      ]
     },
     "execution_count": 15,
     "metadata": {},
     "output_type": "execute_result"
    }
   ],
   "source": [
    "driver.find_element( By.XPATH, \"/html/body/form/div[4]/div/div/div[2]/div/div/div/div[1]/div/div/table/tbody\")"
   ]
  },
  {
   "cell_type": "code",
   "execution_count": 17,
   "metadata": {},
   "outputs": [
    {
     "data": {
      "text/plain": [
       "[   CMAC Arequipa CMAC Cusco CMAC del Santa CMAC Huancayo CMAC Ica CMAC Maynas  \\\n",
       " 0              -          -              -             -        -           -   \n",
       " 1              -          -              -             -        -           -   \n",
       " 2              -          -              -             -        -           -   \n",
       " 3              -          -              -             -        -           -   \n",
       " 4              -          -              -             -        -           -   \n",
       " 5              -          -              -             -        -           -   \n",
       " 6              -          -              -             -        -           -   \n",
       " 7              -          -              -             -        -           -   \n",
       " 8              -          -              -             -        -           -   \n",
       " 9              -          -              -             -        -           -   \n",
       " 10             -          -              -             -        -           -   \n",
       " 11             -          -              -             -        -           -   \n",
       " 12             -          -              -             -        -           -   \n",
       " 13             -          -              -             -        -           -   \n",
       " 14         13.46      18.28          19.56         20.70    21.91       16.15   \n",
       " 15             -          -              -             -        -           -   \n",
       " 16         31.76      79.59              -             -    83.40           -   \n",
       " 17         13.78      21.19              -         22.71        -           -   \n",
       " 18         23.24      19.53              -         17.00        -           -   \n",
       " 19         18.54      19.61              -         36.07    19.56       18.86   \n",
       " 20         13.29      16.29          19.56             -    20.83       16.14   \n",
       " 21         21.58      20.54          27.80         21.27    23.42       26.02   \n",
       " 22             -          -              -             -        -           -   \n",
       " 23         20.44      26.63              -         22.40    74.79       73.52   \n",
       " 24         22.59      23.32          31.78         28.87    33.55       35.92   \n",
       " 25         21.85      24.94          26.45         27.63    30.19       34.43   \n",
       " 26         20.99      23.10          28.21         27.62    25.74       31.73   \n",
       " 27         21.59      19.66          27.76         20.81    22.50       24.13   \n",
       " 28         31.26      25.86          38.76         30.99    32.82       42.61   \n",
       " 29             -      29.60              -             -        -           -   \n",
       " 30             -          -              -             -        -           -   \n",
       " 31         21.12          -              -             -        -           -   \n",
       " 32         30.36      42.22              -         42.79    83.40           -   \n",
       " 33         27.07      29.32          38.76         44.79    46.01       61.86   \n",
       " 34         34.05      34.42          44.41         43.88    42.09       52.34   \n",
       " 35         37.12      29.27          44.94         50.90    36.41       47.95   \n",
       " 36         31.02      23.38          37.76         29.24    31.38       35.64   \n",
       " 37         28.38      25.50          51.47         27.56    26.88       23.62   \n",
       " 38             -          -              -             -        -           -   \n",
       " 39             -          -              -             -        -           -   \n",
       " 40             -          -              -             -        -           -   \n",
       " 41         32.59      35.08          62.21         45.41    29.07       35.30   \n",
       " 42         28.22      19.99          48.90         26.06    26.47       19.47   \n",
       " 43         79.38      79.59          83.64         79.75    74.64       83.30   \n",
       " 44         14.19      13.34              -         12.79    14.53       13.22   \n",
       " 45         14.19      13.34              -         12.79    14.53       13.22   \n",
       " \n",
       "    CMAC Paita CMAC Piura CMAC Sullana CMAC Tacna CMAC Trujillo CMCP Lima  \\\n",
       " 0           -          -            -          -             -         -   \n",
       " 1           -          -            -          -             -         -   \n",
       " 2           -          -            -          -             -         -   \n",
       " 3           -          -            -          -             -         -   \n",
       " 4           -          -            -          -             -         -   \n",
       " 5           -          -            -          -             -         -   \n",
       " 6           -          -            -          -             -         -   \n",
       " 7           -      13.80            -          -             -         -   \n",
       " 8           -          -            -          -             -         -   \n",
       " 9           -          -            -          -             -         -   \n",
       " 10          -          -            -          -             -         -   \n",
       " 11          -          -            -          -             -         -   \n",
       " 12          -          -            -          -             -         -   \n",
       " 13          -      13.80            -          -             -         -   \n",
       " 14      13.08      17.50        18.66          -         13.99     20.20   \n",
       " 15          -          -            -          -             -         -   \n",
       " 16          -          -            -          -             -         -   \n",
       " 17          -          -        20.23          -             -         -   \n",
       " 18          -          -        19.62          -             -     20.20   \n",
       " 19          -      19.51        22.14          -         13.36         -   \n",
       " 20      13.08      17.30        17.34          -         17.98         -   \n",
       " 21      27.22      28.85        23.61      24.39         20.89     23.56   \n",
       " 22          -          -            -          -             -         -   \n",
       " 23          -      65.93            -          -         27.43         -   \n",
       " 24      27.86          -        28.67      36.38         22.84     25.18   \n",
       " 25      27.40      64.74        25.34      34.54         22.15     21.77   \n",
       " 26      32.06      34.95        27.08      30.31         23.38     26.35   \n",
       " 27      26.89      27.85        22.45      23.18         20.11     23.53   \n",
       " 28      40.70      45.58        35.99      31.79         30.14     30.37   \n",
       " 29          -          -            -          -             -         -   \n",
       " 30          -          -            -          -             -         -   \n",
       " 31          -          -            -          -             -         -   \n",
       " 32      49.76      65.89            -      41.75         33.66         -   \n",
       " 33      47.69          -        57.61      42.69         34.45     27.52   \n",
       " 34      44.14      66.98        40.91      41.54         41.54     47.32   \n",
       " 35      44.49      49.95        40.95      36.47         37.82     42.71   \n",
       " 36      39.24      45.14        33.82      30.83         25.61     29.28   \n",
       " 37      38.91      43.18        40.51      24.05         26.74     20.55   \n",
       " 38          -          -            -          -             -         -   \n",
       " 39          -          -            -          -             -         -   \n",
       " 40          -          -            -          -             -         -   \n",
       " 41      52.96      37.92        47.88      40.26         44.72     54.65   \n",
       " 42      37.50      43.64        39.51      22.60         20.99     18.64   \n",
       " 43      75.34      73.07        72.26      79.59         77.09     67.29   \n",
       " 44          -      16.85            -          -         13.14         -   \n",
       " 45          -      16.85            -          -         13.14         -   \n",
       " \n",
       "    Promedio  \n",
       " 0         -  \n",
       " 1         -  \n",
       " 2         -  \n",
       " 3         -  \n",
       " 4         -  \n",
       " 5         -  \n",
       " 6         -  \n",
       " 7     13.80  \n",
       " 8         -  \n",
       " 9         -  \n",
       " 10        -  \n",
       " 11        -  \n",
       " 12        -  \n",
       " 13    13.80  \n",
       " 14    16.83  \n",
       " 15        -  \n",
       " 16    79.73  \n",
       " 17    20.27  \n",
       " 18    19.67  \n",
       " 19    16.97  \n",
       " 20    16.40  \n",
       " 21    23.18  \n",
       " 22        -  \n",
       " 23    27.84  \n",
       " 24    24.62  \n",
       " 25    25.14  \n",
       " 26    27.41  \n",
       " 27    22.57  \n",
       " 28    33.43  \n",
       " 29    29.60  \n",
       " 30        -  \n",
       " 31    21.12  \n",
       " 32    46.56  \n",
       " 33    38.36  \n",
       " 34    39.84  \n",
       " 35    38.67  \n",
       " 36    32.36  \n",
       " 37    30.66  \n",
       " 38        -  \n",
       " 39        -  \n",
       " 40        -  \n",
       " 41    38.55  \n",
       " 42    29.38  \n",
       " 43    73.90  \n",
       " 44    14.45  \n",
       " 45    14.45  ]"
      ]
     },
     "execution_count": 17,
     "metadata": {},
     "output_type": "execute_result"
    }
   ],
   "source": [
    "sbs_table = pd.read_html( driver.find_element ( By.XPATH, \"/html/body/form/div[4]/div/div/div[2]/div/div/div/div[1]/div/div/table/tbody\").get_attribute('outerHTML'))\n",
    "sbs_table"
   ]
  },
  {
   "cell_type": "code",
   "execution_count": null,
   "metadata": {},
   "outputs": [],
   "source": [
    "all_tables = {}"
   ]
  }
 ],
 "metadata": {
  "kernelspec": {
   "display_name": "Python 3 (ipykernel)",
   "language": "python",
   "name": "python3"
  },
  "language_info": {
   "codemirror_mode": {
    "name": "ipython",
    "version": 3
   },
   "file_extension": ".py",
   "mimetype": "text/x-python",
   "name": "python",
   "nbconvert_exporter": "python",
   "pygments_lexer": "ipython3",
   "version": "3.9.13"
  },
  "vscode": {
   "interpreter": {
    "hash": "aa1ee2453168be90b16f29dd075ffb2e0d9206152b6d04a65daba75fbb025218"
   }
  }
 },
 "nbformat": 4,
 "nbformat_minor": 2
}
