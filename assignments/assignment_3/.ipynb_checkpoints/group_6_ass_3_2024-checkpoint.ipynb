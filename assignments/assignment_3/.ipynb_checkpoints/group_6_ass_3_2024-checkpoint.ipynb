{
 "cells": [
  {
   "cell_type": "markdown",
   "id": "1d648d5a",
   "metadata": {},
   "source": [
    "# Assignment 3"
   ]
  },
  {
   "cell_type": "markdown",
   "id": "4131c565",
   "metadata": {},
   "source": [
    "1. Inspect this dataset `./_data/bogota_firms.xlsx` and show some descriptive statistics of it.\n",
    "2. Reshape the dataset from wide to long at year level. Drop columns if they are in Dollars. Keep columns from Operating revenue (Turnover) th LCU 2023 to the end, and the name of the firm.\n",
    "3. Rename the columns and use short names for each column. This new name should be shorter than 20 characters.\n",
    "4. Generate a dictionary with the definition of all the columns in your dataset.\n",
    "5. Generate a function named as calling_data that take as input the `name of the firm  or list of names (firm_name)` and `(start_year, end_year)`. The function should return a tuple with a dataframe with the same format as the one resulting from task 1-4, and your dictionary of columns. The function should work without `end_year`. It means it only takes `start_year`.\n",
    "6. Generate a class that do the same as the function, but has a method named as `descripitive` that gives you the mean, max, min, median, and rolling average ."
   ]
  },
  {
   "cell_type": "code",
   "execution_count": null,
   "id": "6c099956",
   "metadata": {},
   "outputs": [],
   "source": [
    "# Ejercicio 1\n",
    "\n",
    "# Inspect this dataset ./_data/bogota_firms.xlsx and show some descriptive statistics of it.\n",
    "import pandas as pd\n",
    "\n",
    "# Load the dataset\n",
    "file_path = r\"C:\\Users\\HP\\Documents\\GitHub\\QLAB_Summer_Python\\_data\\bogota_firms.xlsx\"\n",
    "df = pd.read_excel(file_path, sheet_name=\"Results\", header=0)\n",
    "df"
   ]
  },
  {
   "cell_type": "code",
   "execution_count": null,
   "id": "50fe8759",
   "metadata": {},
   "outputs": [],
   "source": [
    "# Show some descriptive statistics of the dataset\n",
    "statistics = df.describe()\n",
    "\n",
    "# Display the descriptive statistics\n",
    "# Mostramos las principales estadísticas descriptivas para las variables que no poseen 'missing values'\n",
    "statistics"
   ]
  },
  {
   "cell_type": "code",
   "execution_count": null,
   "id": "474372d0",
   "metadata": {},
   "outputs": [],
   "source": [
    "# Ejercicio 2\n",
    "\n",
    "# Primero, eliminamos todos los encabezados que contengan la palabra \"USD\"\n",
    "columns_usd = [col for col in df.columns if 'USD' in col]                                                                                        \n",
    "df2 = df.drop(columns=columns_usd)\n",
    "df2"
   ]
  },
  {
   "cell_type": "code",
   "execution_count": null,
   "id": "f37226eb",
   "metadata": {},
   "outputs": [],
   "source": [
    "# Finalmente, nos quedamos con las columnas solicitadas por el ejercicio\n",
    "\n",
    "keep_columns = ['Company name Latin alphabet'] + [col for col in df.columns if 'Operating revenue (Turnover)\\nth LCU' in col]\n",
    "df3 = df[keep_columns]\n",
    "df3"
   ]
  },
  {
   "cell_type": "code",
   "execution_count": null,
   "id": "65899695",
   "metadata": {},
   "outputs": [],
   "source": [
    "# Reshape the dataset from wide to long at the year level\n",
    "id_vars = ['Company name Latin alphabet']\n",
    "value_vars = [col for col in df3.columns if col != 'Company name Latin alphabet']\n",
    "long_df = pd.melt(df3, id_vars=id_vars, value_vars=value_vars, var_name=\"Year\", value_name=\"Revenue\")\n",
    "\n",
    "# Display the long format DataFram\n",
    "long_df"
   ]
  }
 ],
 "metadata": {
  "kernelspec": {
   "display_name": "Python 3 (ipykernel)",
   "language": "python",
   "name": "python3"
  },
  "language_info": {
   "codemirror_mode": {
    "name": "ipython",
    "version": 3
   },
   "file_extension": ".py",
   "mimetype": "text/x-python",
   "name": "python",
   "nbconvert_exporter": "python",
   "pygments_lexer": "ipython3",
   "version": "3.11.5"
  }
 },
 "nbformat": 4,
 "nbformat_minor": 5
}
