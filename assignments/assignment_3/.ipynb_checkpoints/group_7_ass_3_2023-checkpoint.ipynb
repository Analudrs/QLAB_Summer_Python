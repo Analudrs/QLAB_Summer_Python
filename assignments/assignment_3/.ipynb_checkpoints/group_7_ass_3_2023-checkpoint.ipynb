{
 "cells": [
  {
   "cell_type": "markdown",
   "metadata": {},
   "source": [
    "# 1 Assignment\n",
    "\n",
    "It is totally prohibited to use any kind of loop. You can use stackoverflow. If you copy codes from previous answers, explain each step. No explanation is `0 points`."
   ]
  },
  {
   "cell_type": "markdown",
   "metadata": {},
   "source": [
    "## 1.1 Numpy\n",
    "1. Replace all the `even_numbers` in `np1` with 100. **Hint: Use `indexing` in arrys and [this filer](https://stackoverflow.com/questions/41638751/filtering-even-numbers-in-python).** <br><br>\n",
    "2. Create a 3x3 matrix with values ranging from 0 to 8. **Hint: Use `np.arange` and `np.reshape` method.** <br><br>\n",
    "3. Consider an array `Z = [1,2,3,4,5,6,7,8,9,10]`, generate an array `R = [ [ 1, 2, 3, 4], [ 2, 3, 4, 5 ], [ 3, 4, 5, 6 ], ..., [ 7, 8, 9, 10 ] ]`?.**Hint: Use `np.arange` and `np.concatenate`** <br><br>\n",
    "4. Create a 3x3x3 array with random values. **Hint: Use [`np.random.random`](https://docs.scipy.org/doc/numpy-1.15.0/reference/generated/numpy.random.random.html).** <br><br>\n",
    "5. Comment why this expression `np.nan == np.nan` is False. **Hint: Use stackoverflow.** <br><br>\n",
    "6. Print the `mean` and `standard deviation` of `np2`. **Hint: Use `f-string`, `np.mean`, and `np.var` methods.**"
   ]
  },
  {
   "cell_type": "code",
   "execution_count": null,
   "metadata": {},
   "outputs": [],
   "source": [
    "import numpy as np\n",
    "np1 = np.arange( 200, 750)\n",
    "np2 = np.random.normal( 50 , 4, 300)"
   ]
  },
  {
   "cell_type": "code",
   "execution_count": null,
   "metadata": {
    "scrolled": true
   },
   "outputs": [],
   "source": [
    "# We created a boolean mask to identify the even numbers (%2==0) in np1. \n",
    "#Then, we used indexing to replace only the even numbers with 100.\n",
    "#We printed np1 with the changes.\n",
    "\n",
    "even_numbers = (np1%2==0)\n",
    "np1[even_numbers]=100\n",
    "print(np1)"
   ]
  },
  {
   "cell_type": "code",
   "execution_count": null,
   "metadata": {},
   "outputs": [],
   "source": [
    "# We created an array starting at 0 to 8. \n",
    "# We reshaped it to a matrix with 3 rows and 3 columns.\n",
    "#We printed the resulting matrix.\n",
    "\n",
    "np3= np.arange(0, 9)\n",
    "np3= np.reshape(np3, (3,3))\n",
    "print (np3)"
   ]
  },
  {
   "cell_type": "code",
   "execution_count": null,
   "metadata": {
    "scrolled": false
   },
   "outputs": [],
   "source": [
    "# We created the Z array with values ranging from 1 to 10.\n",
    "\n",
    "Z = np.arange(1, 11)\n",
    "a=np.arange(1,11)\n",
    "z= (Z[0:4], Z[1:5],Z[2:6],Z[3:7],Z[3:8],Z[4:9],Z[5:10],Z[6:11])\n",
    "\n",
    "z1 = (Z[0:4], Z[1:5],Z[2:6],Z[3:7],Z[3:8],Z[4:9],Z[5:10],Z[6:11])\n",
    "##acabar"
   ]
  },
  {
   "cell_type": "code",
   "execution_count": null,
   "metadata": {},
   "outputs": [],
   "source": [
    "z2=np.arange(1,5)\n",
    "z2"
   ]
  },
  {
   "cell_type": "code",
   "execution_count": null,
   "metadata": {},
   "outputs": [],
   "source": [
    "R= np.concatenate((Z, a),axis=1)\n",
    "print (R)\n"
   ]
  },
  {
   "cell_type": "code",
   "execution_count": null,
   "metadata": {
    "scrolled": true
   },
   "outputs": [],
   "source": [
    "#We created a 3x3x3 array using random values\n",
    "\n",
    "np4= np.random.random((3,3,3))\n",
    "print (np4)"
   ]
  },
  {
   "cell_type": "code",
   "execution_count": null,
   "metadata": {
    "scrolled": true
   },
   "outputs": [],
   "source": [
    "##np.nan is used to creat \"Not a number (NaN)\", [explanation]\n",
    "np.nan == np.nan"
   ]
  },
  {
   "cell_type": "code",
   "execution_count": null,
   "metadata": {
    "scrolled": true
   },
   "outputs": [],
   "source": [
    "#We printed the mean of np2.\n",
    "#We calculated the variance of np2 (np.var).\n",
    "#Then, we calculated the standard deviation by getting the square root of it with np.sqrt.\n",
    "#We printed the result.\n",
    "\n",
    "mean_np2= np.round(np.mean(np2))\n",
    "\n",
    "sd_np2= np.sqrt(np.var(np2))\n",
    "sd_np2= np.round(sd_np2)\n",
    "\n",
    "\n",
    "print(f\"The mean of np2 is {mean_np2} and the standard deviation is {sd_np2}. \")"
   ]
  },
  {
   "cell_type": "markdown",
   "metadata": {},
   "source": [
    "# Pandas"
   ]
  },
  {
   "cell_type": "markdown",
   "metadata": {},
   "source": [
    "Run the code bellow uncomment the second line to install savReaderWriter library. The `dict_varlabels` has the labels of the columns of rec1.\n",
    "\n",
    "1. Check if CASEID identifies each observation uniquely. **[Hint: Use is_unique method.](https://pandas.pydata.org/docs/reference/api/pandas.Series.is_unique.html)**\n",
    "2. Make the CASEID column the index of your data set. **[Hint: Use set_index](https://pandas.pydata.org/docs/reference/api/pandas.DataFrame.set_index.html)**. \n",
    "3. Keep women who are 15-30 years old and live in Urban areas. **[Hint: Use query](https://pandas.pydata.org/docs/reference/api/pandas.DataFrame.query.html)**.\n",
    "4. Generate a new column with the month of born. Just use the first three letters.  Use the English names of the months. "
   ]
  },
  {
   "cell_type": "code",
   "execution_count": 1,
   "metadata": {},
   "outputs": [],
   "source": [
    "# read REC0111 data\n",
    "import pandas as pd\n",
    "#!pip install savReaderWriter\n",
    "import savReaderWriter as sav\n",
    "rec1 = pd.read_spss( fr\"C:/QLAB_Summer_Python/_data/endes/2019/REC0111.sav\" )\n",
    "\n",
    "# Get labels from sav file\n",
    "with sav.SavHeaderReader( fr\"C:/QLAB_Summer_Python/_data/endes/2019/REC0111.sav\", ioUtf8=True) as header:\n",
    "    metadata = header.all()\n",
    "\n",
    "dict_varlabels = metadata[3]"
   ]
  },
  {
   "cell_type": "code",
   "execution_count": null,
   "metadata": {},
   "outputs": [],
   "source": [
    "dict_varlabels"
   ]
  },
  {
   "cell_type": "code",
   "execution_count": null,
   "metadata": {},
   "outputs": [],
   "source": [
    "#Primero verificamos que nuestra data se presente como data frame\n",
    "rec1\n",
    "\n",
    "#Segundo, como verificamos que la variable 'CASEID' es una de tipo object necesitamos pasarla a serie por lo que utilizamos el comando .squeeze()\n",
    "my_series = rec1['CASEID'].squeeze()\n",
    "my_series\n",
    "print (type(my_series))\n",
    "\n",
    "#Finalmente hacemos el uso del comando is_unique para verificar que la columna tenga datos unicos.\n",
    "print(my_series.is_unique)"
   ]
  },
  {
   "cell_type": "code",
   "execution_count": null,
   "metadata": {},
   "outputs": [],
   "source": [
    "#Primero verificamos el tipo de data que tenemos en nuestro data frame rec1\n",
    "rec1.dtypes\n",
    "\n",
    "#Segundo, aplicamps set_index para poner a 'CASEID' como index de nuestro data frame.\n",
    "rec1.set_index('CASEID')\n",
    "\n"
   ]
  },
  {
   "cell_type": "code",
   "execution_count": null,
   "metadata": {},
   "outputs": [],
   "source": [
    "#Primero verificamos el tipo de datos que son precisos para la selección: 'V012'(edad actual- entrevistada) y 'V102'(tipo de región de residencia)\n",
    "rec1.dtypes\n",
    "\n",
    "rec1['V012'] = rec1['V012'].astype('float64')\n",
    "rec1['V012'].dtypes\n",
    "rec1['V102'].dtypes\n",
    "\n",
    "#Hacemos un querie donde mantenemos a las mujeres de 15 a 30 años y que su lugar de residencia sea del tipo 'Urbano'\n",
    "rec1[(rec1['V012'] >= 15) & (rec1['V012'] <= 30) & (rec1['V102'] == 'Urbano')]\n"
   ]
  },
  {
   "cell_type": "code",
   "execution_count": 6,
   "metadata": {},
   "outputs": [],
   "source": [
    "#Primero llenamos los valores NA con 0\n",
    "rec1['V009'] = rec1['V009'].fillna(0)\n"
   ]
  },
  {
   "cell_type": "code",
   "execution_count": 15,
   "metadata": {},
   "outputs": [
    {
     "ename": "ValueError",
     "evalue": "list of cases must be same length as list of conditions",
     "output_type": "error",
     "traceback": [
      "\u001b[1;31m---------------------------------------------------------------------------\u001b[0m",
      "\u001b[1;31mValueError\u001b[0m                                Traceback (most recent call last)",
      "\u001b[1;32m~\\AppData\\Local\\Temp\\ipykernel_12900\\4047092193.py\u001b[0m in \u001b[0;36m<module>\u001b[1;34m\u001b[0m\n\u001b[0;32m     12\u001b[0m \u001b[0mvalues\u001b[0m \u001b[1;33m=\u001b[0m  \u001b[1;33m[\u001b[0m\u001b[1;34m'jan'\u001b[0m\u001b[1;33m,\u001b[0m \u001b[1;34m'feb'\u001b[0m\u001b[1;33m,\u001b[0m \u001b[1;34m'mar'\u001b[0m\u001b[1;33m,\u001b[0m \u001b[1;34m'apr'\u001b[0m\u001b[1;33m,\u001b[0m \u001b[1;34m'may'\u001b[0m\u001b[1;33m,\u001b[0m \u001b[1;34m'jun'\u001b[0m\u001b[1;33m,\u001b[0m \u001b[1;34m'jul'\u001b[0m\u001b[1;33m,\u001b[0m \u001b[1;34m'aug'\u001b[0m\u001b[1;33m,\u001b[0m \u001b[1;34m'sep'\u001b[0m\u001b[1;33m,\u001b[0m \u001b[1;34m'oct'\u001b[0m\u001b[1;33m,\u001b[0m \u001b[1;34m'nov'\u001b[0m\u001b[1;33m,\u001b[0m \u001b[1;34m'dec'\u001b[0m \u001b[1;33m]\u001b[0m\u001b[1;33m\u001b[0m\u001b[1;33m\u001b[0m\u001b[0m\n\u001b[0;32m     13\u001b[0m \u001b[1;33m\u001b[0m\u001b[0m\n\u001b[1;32m---> 14\u001b[1;33m \u001b[0mrec1\u001b[0m\u001b[1;33m[\u001b[0m\u001b[1;34m'month_born'\u001b[0m\u001b[1;33m]\u001b[0m \u001b[1;33m=\u001b[0m \u001b[0mnp\u001b[0m\u001b[1;33m.\u001b[0m\u001b[0mselect\u001b[0m\u001b[1;33m(\u001b[0m\u001b[0mconditions\u001b[0m\u001b[1;33m,\u001b[0m\u001b[0mvalues\u001b[0m\u001b[1;33m)\u001b[0m\u001b[1;33m\u001b[0m\u001b[1;33m\u001b[0m\u001b[0m\n\u001b[0m\u001b[0;32m     15\u001b[0m \u001b[1;33m\u001b[0m\u001b[0m\n\u001b[0;32m     16\u001b[0m \u001b[0mrec1\u001b[0m\u001b[1;33m.\u001b[0m\u001b[0mhead\u001b[0m\u001b[1;33m(\u001b[0m\u001b[1;36m9\u001b[0m\u001b[1;33m)\u001b[0m\u001b[1;33m\u001b[0m\u001b[1;33m\u001b[0m\u001b[0m\n",
      "\u001b[1;32m<__array_function__ internals>\u001b[0m in \u001b[0;36mselect\u001b[1;34m(*args, **kwargs)\u001b[0m\n",
      "\u001b[1;32mC:\\Anaconda\\lib\\site-packages\\numpy\\lib\\function_base.py\u001b[0m in \u001b[0;36mselect\u001b[1;34m(condlist, choicelist, default)\u001b[0m\n\u001b[0;32m    664\u001b[0m     \u001b[1;31m# Check the size of condlist and choicelist are the same, or abort.\u001b[0m\u001b[1;33m\u001b[0m\u001b[1;33m\u001b[0m\u001b[0m\n\u001b[0;32m    665\u001b[0m     \u001b[1;32mif\u001b[0m \u001b[0mlen\u001b[0m\u001b[1;33m(\u001b[0m\u001b[0mcondlist\u001b[0m\u001b[1;33m)\u001b[0m \u001b[1;33m!=\u001b[0m \u001b[0mlen\u001b[0m\u001b[1;33m(\u001b[0m\u001b[0mchoicelist\u001b[0m\u001b[1;33m)\u001b[0m\u001b[1;33m:\u001b[0m\u001b[1;33m\u001b[0m\u001b[1;33m\u001b[0m\u001b[0m\n\u001b[1;32m--> 666\u001b[1;33m         raise ValueError(\n\u001b[0m\u001b[0;32m    667\u001b[0m             'list of cases must be same length as list of conditions')\n\u001b[0;32m    668\u001b[0m \u001b[1;33m\u001b[0m\u001b[0m\n",
      "\u001b[1;31mValueError\u001b[0m: list of cases must be same length as list of conditions"
     ]
    }
   ],
   "source": [
    "#Segundo cambiamos el tipo de la columna de elementos 'V009' de un float64 a un int para redondear los datos.\n",
    "rec1['V009'] = rec1['V009'].astype(int)\n",
    "rec1.head(9)\n",
    "\n",
    "#Llamamos a numpy para hacer condicionantes\n",
    "import numpy as np\n",
    "\n",
    "conditions = [(rec1['V009'] == 1) | (rec1['V009']== 2) | (rec1['V009']== 3),\n",
    "               (rec1['V009']== 4) |  (rec1['V009']== 5) |  (rec1['V009']== 6),\n",
    "               (rec1['V009']== 7) |  (rec1['V009']== 8) | (rec1['V009']== 9),\n",
    "               (rec1['V009']== 10) |  (rec1['V009']== 11) |  (rec1['V009']== 12)]\n",
    "               \n",
    "\n",
    "values =  ['jan', 'feb', 'mar', 'apr', 'may', 'jun', 'jul', 'aug', 'sep', 'oct', 'nov', 'dec' ]\n",
    "\n",
    "rec1['month_born'] = np.select(conditions,values)\n",
    "\n",
    "rec1.head(9)"
   ]
  },
  {
   "cell_type": "code",
   "execution_count": null,
   "metadata": {},
   "outputs": [],
   "source": []
  },
  {
   "cell_type": "code",
   "execution_count": null,
   "metadata": {},
   "outputs": [],
   "source": []
  }
 ],
 "metadata": {
  "hide_input": false,
  "kernelspec": {
   "display_name": "Python 3 (ipykernel)",
   "language": "python",
   "name": "python3"
  },
  "language_info": {
   "codemirror_mode": {
    "name": "ipython",
    "version": 3
   },
   "file_extension": ".py",
   "mimetype": "text/x-python",
   "name": "python",
   "nbconvert_exporter": "python",
   "pygments_lexer": "ipython3",
   "version": "3.9.13"
  },
  "toc": {
   "base_numbering": 1,
   "nav_menu": {},
   "number_sections": true,
   "sideBar": true,
   "skip_h1_title": false,
   "title_cell": "Table of Contents",
   "title_sidebar": "Contents",
   "toc_cell": false,
   "toc_position": {},
   "toc_section_display": true,
   "toc_window_display": false
  }
 },
 "nbformat": 4,
 "nbformat_minor": 4
}
