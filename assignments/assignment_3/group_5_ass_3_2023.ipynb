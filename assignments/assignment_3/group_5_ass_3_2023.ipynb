{
 "cells": [
  {
   "cell_type": "markdown",
   "metadata": {},
   "source": [
    "##### Group 5: \n",
    "\n",
    "- POGGI SOLANO, CESAR ALEJANDRO\n",
    "- NOBLEJAS GARCIA, JIMMY ALEXANDER\n",
    "- PINILLOS ZEGARRA, XIMENA ALEJANDRA\n",
    "- TORRES TAPIA, SEBASTIAN ELIAS"
   ]
  },
  {
   "cell_type": "markdown",
   "metadata": {},
   "source": [
    "# Assignment 3\n",
    "\n",
    "It is totally prohibited to use any kind of loop. You can use stackoverflow. If you copy codes from previous answers, explain each step. No explanation is `0 points`."
   ]
  },
  {
   "cell_type": "markdown",
   "metadata": {},
   "source": [
    "## 1.1 Numpy\n",
    "1. Replace all the `even_numbers` in `np1` with 100. **Hint: Use `indexing` in arrys and [this filer](https://stackoverflow.com/questions/41638751/filtering-even-numbers-in-python).** <br><br>\n",
    "2. Create a 3x3 matrix with values ranging from 0 to 8. **Hint: Use `np.arange` and `np.reshape` method.** <br><br>\n",
    "3. Consider an array `Z = [1,2,3,4,5,6,7,8,9,10]`, generate an array `R = [ [ 1, 2, 3, 4], [ 2, 3, 4, 5 ], [ 3, 4, 5, 6 ], ..., [ 7, 8, 9, 10 ] ]`?.**Hint: Use `np.arange` and `np.concatenate`** <br><br>\n",
    "4. Create a 3x3x3 array with random values. **Hint: Use [`np.random.random`](https://docs.scipy.org/doc/numpy-1.15.0/reference/generated/numpy.random.random.html).** <br><br>\n",
    "5. Comment why this expression `np.nan == np.nan` is False. **Hint: Use stackoverflow.** <br><br>\n",
    "6. Print the `mean` and `standard deviation` of `np2`. **Hint: Use `f-string`, `np.mean`, and `np.var` methods.**"
   ]
  },
  {
   "cell_type": "code",
   "execution_count": null,
   "metadata": {},
   "outputs": [],
   "source": [
    "import numpy as np\n",
    "np1 = np.arange( 200, 750)\n",
    "np2 = np.random.normal( 50 , 4, 300)"
   ]
  },
  {
   "cell_type": "markdown",
   "metadata": {},
   "source": [
    "### Solución:\n",
    "\n",
    "#### 1)\n",
    "\n",
    "\n"
   ]
  },
  {
   "cell_type": "code",
   "execution_count": null,
   "metadata": {},
   "outputs": [],
   "source": [
    "#Ejercicio 1\n",
    "\n",
    "## Efectuamos la matriz\n",
    "np1 = np.arange( 200, 750 )\n",
    "\n",
    "## Comprobamos que tengamos la matriz de 200 al 750\n",
    "print(np1)"
   ]
  },
  {
   "cell_type": "code",
   "execution_count": null,
   "metadata": {},
   "outputs": [],
   "source": [
    "## Indicamos la lista de números pares\n",
    "even_numbers = (np1%2==0) \n",
    "\n",
    "## Indicamos que queremos cambiar cada número par de \"np1\" con 100\n",
    "np1[even_numbers]=100\n",
    "\n",
    "## Comprobamos que cada elemento par de \"np1\" ha sido reemplazado por 100\n",
    "print(np1)"
   ]
  },
  {
   "cell_type": "markdown",
   "metadata": {},
   "source": [
    "#### 2)"
   ]
  },
  {
   "cell_type": "code",
   "execution_count": null,
   "metadata": {},
   "outputs": [],
   "source": [
    "#Ejercicio 2\n",
    "\n",
    "##Creamos el \"npn\" con los valores del 0 al 8\n",
    "npn = np.arange(0, 9)\n",
    "\n",
    "## Comporbamos que el array esté del 1 al 8\n",
    "print(npn)"
   ]
  },
  {
   "cell_type": "code",
   "execution_count": null,
   "metadata": {},
   "outputs": [],
   "source": [
    "## Usamos la función \"np.reshape\" para crear la matriz de 3x3\n",
    "npn= np.reshape(npn, (3,3))\n",
    "\n",
    "## Comporbamos que tenemos la matriz del 3x3\n",
    "print (npn)"
   ]
  },
  {
   "cell_type": "markdown",
   "metadata": {},
   "source": [
    "#### 3)"
   ]
  },
  {
   "cell_type": "code",
   "execution_count": null,
   "metadata": {},
   "outputs": [],
   "source": [
    "#Ejercicio 3\n",
    "\n",
    "## Creamos un 1D NumPy array con los valores de 1 al 10\n",
    "Z = np.arange(1, 11)\n",
    "\n",
    "## Comprobamos que el 1D NumPy array tenga los valores de 1 al 10\n",
    "print (Z)\n",
    "type(Z)\n",
    "print(Z.shape)"
   ]
  },
  {
   "cell_type": "code",
   "execution_count": null,
   "metadata": {},
   "outputs": [],
   "source": [
    "## Empleamos la función \"np.concatenate\" para unir distintos fragmentos de \"Z\"\n",
    "R = np.concatenate (([Z[0:4]], [Z[2:6]], [Z[3:7]], [Z[4:8]], [Z[5:9]], [Z[6:10]]) , axis = 0)\n",
    "print(R)"
   ]
  },
  {
   "cell_type": "markdown",
   "metadata": {},
   "source": [
    "#### 4)"
   ]
  },
  {
   "cell_type": "code",
   "execution_count": null,
   "metadata": {},
   "outputs": [],
   "source": [
    "# We create a 3x3x3 array with random values\n",
    "Qu3=np.random.random((3,3,3))\n",
    "print(Qu3)\n"
   ]
  },
  {
   "cell_type": "markdown",
   "metadata": {},
   "source": [
    "#### 5) "
   ]
  },
  {
   "cell_type": "code",
   "execution_count": null,
   "metadata": {},
   "outputs": [],
   "source": [
    "#The following expression is FALSE. Explain why. \n",
    "\n",
    "np.nan == np.nan"
   ]
  },
  {
   "cell_type": "markdown",
   "metadata": {},
   "source": [
    "$ Explanation: $ According to stackoverflow, the IEEE 754 specification for \"floating point\" numbers states that undefined values (\"NaN\") will never be equal. This is because that standard defines how exactly a number is stored in memory (that is, what should be returned by operations and what results should be returned by comparisons).\n",
    "\n",
    "In this sense, \"NaN\" is used as a kind of placeholder for an undefined state. Therefore, mathematically speaking, an undefined value is not equal to, greater than, or less than another undefined value. Therefore, it is defined by comparison that if one or both of the operands are \"NaN\", the result of the expression will always be false."
   ]
  },
  {
   "cell_type": "markdown",
   "metadata": {},
   "source": [
    "#### 6)"
   ]
  },
  {
   "cell_type": "code",
   "execution_count": null,
   "metadata": {},
   "outputs": [],
   "source": [
    "# First, we got the mean of NP2\n",
    "mean = np.mean(np2)\n",
    "mean = str(round(mean, 2))\n",
    "\n",
    "# Then, we got the standard deviation. We calculated the variance of np2 first and then we get the square root (np.sqrt) in order to get the standard deviation. \n",
    "var = np.var(np2)\n",
    "sdev = np.sqrt(var)\n",
    "sdev = str(round(sdev, 2))\n",
    "\n",
    "#Finally, we print the result using the f-string we define\n",
    "print(f\"Given np2 data, its mean is {mean} and its standard deviation is {sdev}. Thank you! \")"
   ]
  },
  {
   "cell_type": "markdown",
   "metadata": {},
   "source": [
    "# Pandas"
   ]
  },
  {
   "cell_type": "markdown",
   "metadata": {},
   "source": [
    "Run the code bellow uncomment the second line to install savReaderWriter library. The `dict_varlabels` has the labels of the columns of rec1.\n",
    "\n",
    "1. Check if CASEID identifies each observation uniquely. **[Hint: Use is_unique method.](https://pandas.pydata.org/docs/reference/api/pandas.Series.is_unique.html)**\n",
    "2. Make the CASEID column the index of your data set. **[Hint: Use set_index](https://pandas.pydata.org/docs/reference/api/pandas.DataFrame.set_index.html)**. \n",
    "3. Keep women who are 15-30 years old and live in Urban areas. **[Hint: Use query](https://pandas.pydata.org/docs/reference/api/pandas.DataFrame.query.html)**.\n",
    "4. Generate a new column with the month of born. Just use the first three letters.  Use the English names of the months. "
   ]
  },
  {
   "cell_type": "code",
   "execution_count": null,
   "metadata": {},
   "outputs": [],
   "source": [
    "import pandas as pd"
   ]
  },
  {
   "cell_type": "code",
   "execution_count": null,
   "metadata": {},
   "outputs": [],
   "source": [
    "#read REC0111 data\n",
    "#!pip install savReaderWriter\n",
    "import savReaderWriter as sav\n",
    "rec1 = pd.read_spss( fr\"C:/Users/Alejandro/Documents/GitHub/QLAB_Summer_Workshop/Jupyter Local Host - Intro Python/REC0111.sav\" )\n",
    "\n",
    "# Get labels from sav file\n",
    "with sav.SavHeaderReader( fr\"C:/Users/Alejandro/Documents/GitHub/QLAB_Summer_Workshop/Jupyter Local Host - Intro Python/REC0111.sav\", ioUtf8=True) as header:\n",
    "    metadata = header.all()\n",
    "\n",
    "dict_varlabels = metadata[3]"
   ]
  },
  {
   "cell_type": "code",
   "execution_count": null,
   "metadata": {
    "collapsed": true
   },
   "outputs": [],
   "source": [
    "dict_varlabels"
   ]
  },
  {
   "cell_type": "markdown",
   "metadata": {},
   "source": [
    "### 1. Check if CASEID identifies each observation uniquely. **[Hint: Use is_unique method.](https://pandas.pydata.org/docs/reference/api/pandas.Series.is_unique.html)**"
   ]
  },
  {
   "cell_type": "code",
   "execution_count": null,
   "metadata": {},
   "outputs": [],
   "source": [
    "# If true it mean each observation is identifies uniquely. There's no repeated CASEIDs.\n",
    "rec1['CASEID'].is_unique"
   ]
  },
  {
   "cell_type": "markdown",
   "metadata": {},
   "source": [
    "### 2. Make the CASEID column the index of your data set. **[Hint: Use set_index](https://pandas.pydata.org/docs/reference/api/pandas.DataFrame.set_index.html)**"
   ]
  },
  {
   "cell_type": "code",
   "execution_count": null,
   "metadata": {},
   "outputs": [],
   "source": [
    "# Since we're looking for our actual data to have a new index, we set the \"inplace\" argument to True otherwise it won't change\n",
    "# Also we're not looking to append the CASEID column with the ID1 one, but to replace it. Hence, the \"append\" argument must be False.\n",
    "rec1.set_index('CASEID', drop=True, append=False, inplace=True, verify_integrity=False)"
   ]
  },
  {
   "cell_type": "code",
   "execution_count": null,
   "metadata": {},
   "outputs": [],
   "source": [
    "# Check if we indeed have changed the index\n",
    "rec1"
   ]
  },
  {
   "cell_type": "markdown",
   "metadata": {},
   "source": [
    "### 3. Keep women who are 15-30 years old and live in Urban areas. **[Hint: Use query](https://pandas.pydata.org/docs/reference/api/pandas.DataFrame.query.html)**."
   ]
  },
  {
   "cell_type": "code",
   "execution_count": 1,
   "metadata": {},
   "outputs": [],
   "source": [
    "import pandas as pd"
   ]
  },
  {
   "cell_type": "code",
   "execution_count": 2,
   "metadata": {},
   "outputs": [],
   "source": [
    "import savReaderWriter as sav\n",
    "rec1 = pd.read_spss( fr\"C:\\Users\\XIMENA\\OneDrive\\Documentos\\QLAB_Summer_Python\\_data\\endes\\2019\\REC0111.sav\")\n",
    "\n",
    "# Get labels from sav file\n",
    "with sav.SavHeaderReader( fr\"C:\\Users\\XIMENA\\OneDrive\\Documentos\\QLAB_Summer_Python\\_data\\endes\\2019\\REC0111.sav\", ioUtf8=True) as header:\n",
    "    metadata = header.all()\n",
    "\n",
    "dict_varlabels = metadata[3]"
   ]
  },
  {
   "cell_type": "code",
   "execution_count": 3,
   "metadata": {},
   "outputs": [
    {
     "data": {
      "text/html": [
       "<div>\n",
       "<style scoped>\n",
       "    .dataframe tbody tr th:only-of-type {\n",
       "        vertical-align: middle;\n",
       "    }\n",
       "\n",
       "    .dataframe tbody tr th {\n",
       "        vertical-align: top;\n",
       "    }\n",
       "\n",
       "    .dataframe thead th {\n",
       "        text-align: right;\n",
       "    }\n",
       "</style>\n",
       "<table border=\"1\" class=\"dataframe\">\n",
       "  <thead>\n",
       "    <tr style=\"text-align: right;\">\n",
       "      <th></th>\n",
       "      <th>V012</th>\n",
       "      <th>V025</th>\n",
       "    </tr>\n",
       "  </thead>\n",
       "  <tbody>\n",
       "    <tr>\n",
       "      <th>0</th>\n",
       "      <td>33.0</td>\n",
       "      <td>Urbano</td>\n",
       "    </tr>\n",
       "    <tr>\n",
       "      <th>1</th>\n",
       "      <td>12.0</td>\n",
       "      <td>Urbano</td>\n",
       "    </tr>\n",
       "    <tr>\n",
       "      <th>2</th>\n",
       "      <td>36.0</td>\n",
       "      <td>Urbano</td>\n",
       "    </tr>\n",
       "    <tr>\n",
       "      <th>3</th>\n",
       "      <td>49.0</td>\n",
       "      <td>Urbano</td>\n",
       "    </tr>\n",
       "    <tr>\n",
       "      <th>4</th>\n",
       "      <td>28.0</td>\n",
       "      <td>Urbano</td>\n",
       "    </tr>\n",
       "    <tr>\n",
       "      <th>...</th>\n",
       "      <td>...</td>\n",
       "      <td>...</td>\n",
       "    </tr>\n",
       "    <tr>\n",
       "      <th>38330</th>\n",
       "      <td>48.0</td>\n",
       "      <td>Rural</td>\n",
       "    </tr>\n",
       "    <tr>\n",
       "      <th>38331</th>\n",
       "      <td>31.0</td>\n",
       "      <td>Rural</td>\n",
       "    </tr>\n",
       "    <tr>\n",
       "      <th>38332</th>\n",
       "      <td>46.0</td>\n",
       "      <td>Rural</td>\n",
       "    </tr>\n",
       "    <tr>\n",
       "      <th>38333</th>\n",
       "      <td>25.0</td>\n",
       "      <td>Rural</td>\n",
       "    </tr>\n",
       "    <tr>\n",
       "      <th>38334</th>\n",
       "      <td>23.0</td>\n",
       "      <td>Rural</td>\n",
       "    </tr>\n",
       "  </tbody>\n",
       "</table>\n",
       "<p>38335 rows × 2 columns</p>\n",
       "</div>"
      ],
      "text/plain": [
       "       V012    V025\n",
       "0      33.0  Urbano\n",
       "1      12.0  Urbano\n",
       "2      36.0  Urbano\n",
       "3      49.0  Urbano\n",
       "4      28.0  Urbano\n",
       "...     ...     ...\n",
       "38330  48.0   Rural\n",
       "38331  31.0   Rural\n",
       "38332  46.0   Rural\n",
       "38333  25.0   Rural\n",
       "38334  23.0   Rural\n",
       "\n",
       "[38335 rows x 2 columns]"
      ]
     },
     "execution_count": 3,
     "metadata": {},
     "output_type": "execute_result"
    }
   ],
   "source": [
    "#Firstly, we check the variables we're going to use to filter the data\n",
    "\n",
    "rec1.loc[:, [\"V012\", \"V025\"]]"
   ]
  },
  {
   "cell_type": "code",
   "execution_count": 4,
   "metadata": {},
   "outputs": [],
   "source": [
    "#Then we filter the data with query specifying the ages and the area. We save the new subdata in a new dataframe\n",
    "\n",
    "rec1_filtered = rec1.query('V012 >= 15 and V012 <= 30 and V025 == \"Urbano\"')\n",
    "\n"
   ]
  },
  {
   "cell_type": "code",
   "execution_count": 5,
   "metadata": {},
   "outputs": [
    {
     "data": {
      "text/html": [
       "<div>\n",
       "<style scoped>\n",
       "    .dataframe tbody tr th:only-of-type {\n",
       "        vertical-align: middle;\n",
       "    }\n",
       "\n",
       "    .dataframe tbody tr th {\n",
       "        vertical-align: top;\n",
       "    }\n",
       "\n",
       "    .dataframe thead th {\n",
       "        text-align: right;\n",
       "    }\n",
       "</style>\n",
       "<table border=\"1\" class=\"dataframe\">\n",
       "  <thead>\n",
       "    <tr style=\"text-align: right;\">\n",
       "      <th></th>\n",
       "      <th>V012</th>\n",
       "      <th>V025</th>\n",
       "    </tr>\n",
       "  </thead>\n",
       "  <tbody>\n",
       "    <tr>\n",
       "      <th>4</th>\n",
       "      <td>28.0</td>\n",
       "      <td>Urbano</td>\n",
       "    </tr>\n",
       "    <tr>\n",
       "      <th>5</th>\n",
       "      <td>30.0</td>\n",
       "      <td>Urbano</td>\n",
       "    </tr>\n",
       "    <tr>\n",
       "      <th>8</th>\n",
       "      <td>18.0</td>\n",
       "      <td>Urbano</td>\n",
       "    </tr>\n",
       "    <tr>\n",
       "      <th>9</th>\n",
       "      <td>23.0</td>\n",
       "      <td>Urbano</td>\n",
       "    </tr>\n",
       "    <tr>\n",
       "      <th>12</th>\n",
       "      <td>28.0</td>\n",
       "      <td>Urbano</td>\n",
       "    </tr>\n",
       "    <tr>\n",
       "      <th>...</th>\n",
       "      <td>...</td>\n",
       "      <td>...</td>\n",
       "    </tr>\n",
       "    <tr>\n",
       "      <th>38162</th>\n",
       "      <td>29.0</td>\n",
       "      <td>Urbano</td>\n",
       "    </tr>\n",
       "    <tr>\n",
       "      <th>38163</th>\n",
       "      <td>20.0</td>\n",
       "      <td>Urbano</td>\n",
       "    </tr>\n",
       "    <tr>\n",
       "      <th>38164</th>\n",
       "      <td>27.0</td>\n",
       "      <td>Urbano</td>\n",
       "    </tr>\n",
       "    <tr>\n",
       "      <th>38165</th>\n",
       "      <td>26.0</td>\n",
       "      <td>Urbano</td>\n",
       "    </tr>\n",
       "    <tr>\n",
       "      <th>38170</th>\n",
       "      <td>16.0</td>\n",
       "      <td>Urbano</td>\n",
       "    </tr>\n",
       "  </tbody>\n",
       "</table>\n",
       "<p>12236 rows × 2 columns</p>\n",
       "</div>"
      ],
      "text/plain": [
       "       V012    V025\n",
       "4      28.0  Urbano\n",
       "5      30.0  Urbano\n",
       "8      18.0  Urbano\n",
       "9      23.0  Urbano\n",
       "12     28.0  Urbano\n",
       "...     ...     ...\n",
       "38162  29.0  Urbano\n",
       "38163  20.0  Urbano\n",
       "38164  27.0  Urbano\n",
       "38165  26.0  Urbano\n",
       "38170  16.0  Urbano\n",
       "\n",
       "[12236 rows x 2 columns]"
      ]
     },
     "execution_count": 5,
     "metadata": {},
     "output_type": "execute_result"
    }
   ],
   "source": [
    "#Finally, we print our new filtered dataframe!\n",
    "\n",
    "rec1_filtered.loc[:, [\"V012\", \"V025\"]]"
   ]
  },
  {
   "cell_type": "markdown",
   "metadata": {},
   "source": [
    "### 4. Generate a new column with the month of born. Just use the first three letters. Use the English names of the months"
   ]
  },
  {
   "cell_type": "code",
   "execution_count": 6,
   "metadata": {},
   "outputs": [
    {
     "data": {
      "text/plain": [
       "ID1                0\n",
       "HHID               0\n",
       "CASEID             0\n",
       "V001               0\n",
       "V002               0\n",
       "                ... \n",
       "V005               0\n",
       "V190               0\n",
       "V191               0\n",
       "mujeres12a49    1413\n",
       "NCONGLOME          0\n",
       "Length: 105, dtype: int64"
      ]
     },
     "execution_count": 6,
     "metadata": {},
     "output_type": "execute_result"
    }
   ],
   "source": [
    "#First, we check the NULLS of our dataframe\n",
    "\n",
    "null_sum = rec1.isnull().sum()\n",
    "null_sum\n"
   ]
  },
  {
   "cell_type": "code",
   "execution_count": 7,
   "metadata": {},
   "outputs": [
    {
     "data": {
      "text/html": [
       "<div>\n",
       "<style scoped>\n",
       "    .dataframe tbody tr th:only-of-type {\n",
       "        vertical-align: middle;\n",
       "    }\n",
       "\n",
       "    .dataframe tbody tr th {\n",
       "        vertical-align: top;\n",
       "    }\n",
       "\n",
       "    .dataframe thead th {\n",
       "        text-align: right;\n",
       "    }\n",
       "</style>\n",
       "<table border=\"1\" class=\"dataframe\">\n",
       "  <thead>\n",
       "    <tr style=\"text-align: right;\">\n",
       "      <th></th>\n",
       "      <th>month_of_born</th>\n",
       "      <th>V009</th>\n",
       "    </tr>\n",
       "  </thead>\n",
       "  <tbody>\n",
       "    <tr>\n",
       "      <th>0</th>\n",
       "      <td>4.0</td>\n",
       "      <td>4.0</td>\n",
       "    </tr>\n",
       "    <tr>\n",
       "      <th>1</th>\n",
       "      <td>1.0</td>\n",
       "      <td>1.0</td>\n",
       "    </tr>\n",
       "    <tr>\n",
       "      <th>2</th>\n",
       "      <td>6.0</td>\n",
       "      <td>6.0</td>\n",
       "    </tr>\n",
       "    <tr>\n",
       "      <th>3</th>\n",
       "      <td>3.0</td>\n",
       "      <td>3.0</td>\n",
       "    </tr>\n",
       "    <tr>\n",
       "      <th>4</th>\n",
       "      <td>5.0</td>\n",
       "      <td>5.0</td>\n",
       "    </tr>\n",
       "    <tr>\n",
       "      <th>...</th>\n",
       "      <td>...</td>\n",
       "      <td>...</td>\n",
       "    </tr>\n",
       "    <tr>\n",
       "      <th>38330</th>\n",
       "      <td>12.0</td>\n",
       "      <td>12.0</td>\n",
       "    </tr>\n",
       "    <tr>\n",
       "      <th>38331</th>\n",
       "      <td>6.0</td>\n",
       "      <td>6.0</td>\n",
       "    </tr>\n",
       "    <tr>\n",
       "      <th>38332</th>\n",
       "      <td>7.0</td>\n",
       "      <td>7.0</td>\n",
       "    </tr>\n",
       "    <tr>\n",
       "      <th>38333</th>\n",
       "      <td>12.0</td>\n",
       "      <td>12.0</td>\n",
       "    </tr>\n",
       "    <tr>\n",
       "      <th>38334</th>\n",
       "      <td>10.0</td>\n",
       "      <td>10.0</td>\n",
       "    </tr>\n",
       "  </tbody>\n",
       "</table>\n",
       "<p>38335 rows × 2 columns</p>\n",
       "</div>"
      ],
      "text/plain": [
       "       month_of_born  V009\n",
       "0                4.0   4.0\n",
       "1                1.0   1.0\n",
       "2                6.0   6.0\n",
       "3                3.0   3.0\n",
       "4                5.0   5.0\n",
       "...              ...   ...\n",
       "38330           12.0  12.0\n",
       "38331            6.0   6.0\n",
       "38332            7.0   7.0\n",
       "38333           12.0  12.0\n",
       "38334           10.0  10.0\n",
       "\n",
       "[38335 rows x 2 columns]"
      ]
     },
     "execution_count": 7,
     "metadata": {},
     "output_type": "execute_result"
    }
   ],
   "source": [
    "#Then we duplicate the column V009 (birth month) into a new column named month_of_born\n",
    "rec1['month_of_born'] = rec1['V009']\n",
    "rec1.loc[:, [\"month_of_born\", \"V009\"]]"
   ]
  },
  {
   "cell_type": "code",
   "execution_count": 8,
   "metadata": {},
   "outputs": [
    {
     "data": {
      "text/plain": [
       "0"
      ]
     },
     "execution_count": 8,
     "metadata": {},
     "output_type": "execute_result"
    }
   ],
   "source": [
    "#We check the number of NULLS in the new column and proceed to delete them.\n",
    "\n",
    "rec1 = rec1.dropna(subset=[\"month_of_born\"])\n",
    "rec1.month_of_born.isnull().sum()"
   ]
  },
  {
   "cell_type": "code",
   "execution_count": 9,
   "metadata": {},
   "outputs": [
    {
     "data": {
      "text/plain": [
       "'en_US.utf8'"
      ]
     },
     "execution_count": 9,
     "metadata": {},
     "output_type": "execute_result"
    }
   ],
   "source": [
    "#To replace the values of the column 'month_of_birth' that has float types, we use the function CALENDAR. But before that\n",
    "#we change the type of the values to int ones, so the function calendar can operate correctly\n",
    "\n",
    "import calendar\n",
    "rec1.month_of_born = rec1.month_of_born.astype(int)\n",
    "\n",
    "#Then we set the language to english\n",
    "\n",
    "import locale\n",
    "locale.getlocale()\n",
    "\n",
    "locale.setlocale(locale.LC_ALL, 'en_US.utf8')"
   ]
  },
  {
   "cell_type": "code",
   "execution_count": 10,
   "metadata": {},
   "outputs": [
    {
     "name": "stdout",
     "output_type": "stream",
     "text": [
      "0        Apr\n",
      "1        Jan\n",
      "2        Jun\n",
      "3        Mar\n",
      "4        May\n",
      "        ... \n",
      "38330    Dec\n",
      "38331    Jun\n",
      "38332    Jul\n",
      "38333    Dec\n",
      "38334    Oct\n",
      "Name: month_of_born, Length: 36922, dtype: object\n"
     ]
    }
   ],
   "source": [
    "#We apply the function lambda with calendar to replace the month numbers with abbreviated month names\n",
    "\n",
    "rec1.month_of_born = rec1['month_of_born'].apply(lambda x: calendar.month_abbr[x])\n",
    "\n",
    "#Finally, we print it!\n",
    "print(rec1.month_of_born)"
   ]
  },
  {
   "cell_type": "markdown",
   "metadata": {},
   "source": [
    "### Another way to do it is using the REPLACE method in pandas."
   ]
  },
  {
   "cell_type": "code",
   "execution_count": 16,
   "metadata": {},
   "outputs": [],
   "source": [
    "#First we duplicate the column V009 to the new column 'birth_month'. Then we check that there is no NULLs\n",
    "rec1['birth_month'] = rec1.loc[:, 'V009']"
   ]
  },
  {
   "cell_type": "code",
   "execution_count": 18,
   "metadata": {},
   "outputs": [
    {
     "data": {
      "text/plain": [
       "0        APR\n",
       "1        JAN\n",
       "2        JUN\n",
       "3        MAR\n",
       "4        MAY\n",
       "        ... \n",
       "38330    DEC\n",
       "38331    JUN\n",
       "38332    JUL\n",
       "38333    DEC\n",
       "38334    OCT\n",
       "Name: birth_month, Length: 36922, dtype: object"
      ]
     },
     "execution_count": 18,
     "metadata": {},
     "output_type": "execute_result"
    }
   ],
   "source": [
    "#The we use the REPLACE method to change the month numbers to month names.\n",
    "\n",
    "rec1.birth_month.replace((1.0, 2.0, 3.0, 4.0, 5.0, 6.0, 7.0, 8.0, 9.0, 10.0, 11.0, 12.0), (\"JAN\", \"FEB\", \"MAR\", \"APR\", \"MAY\", \"JUN\", \"JUL\", \"AUG\", \"SEP\", \"OCT\", \"NOV\", \"DEC\"), inplace= True )\n",
    "rec1.birth_month"
   ]
  },
  {
   "cell_type": "code",
   "execution_count": 19,
   "metadata": {},
   "outputs": [
    {
     "data": {
      "text/html": [
       "<div>\n",
       "<style scoped>\n",
       "    .dataframe tbody tr th:only-of-type {\n",
       "        vertical-align: middle;\n",
       "    }\n",
       "\n",
       "    .dataframe tbody tr th {\n",
       "        vertical-align: top;\n",
       "    }\n",
       "\n",
       "    .dataframe thead th {\n",
       "        text-align: right;\n",
       "    }\n",
       "</style>\n",
       "<table border=\"1\" class=\"dataframe\">\n",
       "  <thead>\n",
       "    <tr style=\"text-align: right;\">\n",
       "      <th></th>\n",
       "      <th>ID1</th>\n",
       "      <th>HHID</th>\n",
       "      <th>CASEID</th>\n",
       "      <th>V001</th>\n",
       "      <th>V002</th>\n",
       "      <th>V003</th>\n",
       "      <th>V004</th>\n",
       "      <th>V007</th>\n",
       "      <th>V008</th>\n",
       "      <th>V009</th>\n",
       "      <th>...</th>\n",
       "      <th>QD333_6</th>\n",
       "      <th>UBIGEO</th>\n",
       "      <th>V022</th>\n",
       "      <th>V005</th>\n",
       "      <th>V190</th>\n",
       "      <th>V191</th>\n",
       "      <th>mujeres12a49</th>\n",
       "      <th>NCONGLOME</th>\n",
       "      <th>month_of_born</th>\n",
       "      <th>birth_month</th>\n",
       "    </tr>\n",
       "  </thead>\n",
       "  <tbody>\n",
       "    <tr>\n",
       "      <th>0</th>\n",
       "      <td>2019.0</td>\n",
       "      <td>000100201</td>\n",
       "      <td>000100201  2</td>\n",
       "      <td>1.0</td>\n",
       "      <td>2.0</td>\n",
       "      <td>2.0</td>\n",
       "      <td>1.0</td>\n",
       "      <td>2019.0</td>\n",
       "      <td>1434.0</td>\n",
       "      <td>4.0</td>\n",
       "      <td>...</td>\n",
       "      <td>No</td>\n",
       "      <td>010101</td>\n",
       "      <td>3.0</td>\n",
       "      <td>154803.0</td>\n",
       "      <td>Rico</td>\n",
       "      <td>1.234450</td>\n",
       "      <td>Mujeres de 15 a 49 años de edad</td>\n",
       "      <td>7065.0</td>\n",
       "      <td>Apr</td>\n",
       "      <td>APR</td>\n",
       "    </tr>\n",
       "    <tr>\n",
       "      <th>1</th>\n",
       "      <td>2019.0</td>\n",
       "      <td>000100201</td>\n",
       "      <td>000100201  3</td>\n",
       "      <td>1.0</td>\n",
       "      <td>2.0</td>\n",
       "      <td>3.0</td>\n",
       "      <td>1.0</td>\n",
       "      <td>2019.0</td>\n",
       "      <td>1434.0</td>\n",
       "      <td>1.0</td>\n",
       "      <td>...</td>\n",
       "      <td>No</td>\n",
       "      <td>010101</td>\n",
       "      <td>3.0</td>\n",
       "      <td>154803.0</td>\n",
       "      <td>Rico</td>\n",
       "      <td>1.234450</td>\n",
       "      <td>Mujeres de 12 a 14 de edad, nunca embarazadas</td>\n",
       "      <td>7065.0</td>\n",
       "      <td>Jan</td>\n",
       "      <td>JAN</td>\n",
       "    </tr>\n",
       "    <tr>\n",
       "      <th>2</th>\n",
       "      <td>2019.0</td>\n",
       "      <td>000102801</td>\n",
       "      <td>000102801  2</td>\n",
       "      <td>1.0</td>\n",
       "      <td>28.0</td>\n",
       "      <td>2.0</td>\n",
       "      <td>1.0</td>\n",
       "      <td>2019.0</td>\n",
       "      <td>1434.0</td>\n",
       "      <td>6.0</td>\n",
       "      <td>...</td>\n",
       "      <td>No</td>\n",
       "      <td>010101</td>\n",
       "      <td>3.0</td>\n",
       "      <td>154803.0</td>\n",
       "      <td>Rico</td>\n",
       "      <td>1.295611</td>\n",
       "      <td>Mujeres de 15 a 49 años de edad</td>\n",
       "      <td>7065.0</td>\n",
       "      <td>Jun</td>\n",
       "      <td>JUN</td>\n",
       "    </tr>\n",
       "    <tr>\n",
       "      <th>3</th>\n",
       "      <td>2019.0</td>\n",
       "      <td>000102801</td>\n",
       "      <td>000102801  6</td>\n",
       "      <td>1.0</td>\n",
       "      <td>28.0</td>\n",
       "      <td>6.0</td>\n",
       "      <td>1.0</td>\n",
       "      <td>2019.0</td>\n",
       "      <td>1434.0</td>\n",
       "      <td>3.0</td>\n",
       "      <td>...</td>\n",
       "      <td>No</td>\n",
       "      <td>010101</td>\n",
       "      <td>3.0</td>\n",
       "      <td>154803.0</td>\n",
       "      <td>Rico</td>\n",
       "      <td>1.295611</td>\n",
       "      <td>Mujeres de 15 a 49 años de edad</td>\n",
       "      <td>7065.0</td>\n",
       "      <td>Mar</td>\n",
       "      <td>MAR</td>\n",
       "    </tr>\n",
       "    <tr>\n",
       "      <th>4</th>\n",
       "      <td>2019.0</td>\n",
       "      <td>000104801</td>\n",
       "      <td>000104801  2</td>\n",
       "      <td>1.0</td>\n",
       "      <td>48.0</td>\n",
       "      <td>2.0</td>\n",
       "      <td>1.0</td>\n",
       "      <td>2019.0</td>\n",
       "      <td>1434.0</td>\n",
       "      <td>5.0</td>\n",
       "      <td>...</td>\n",
       "      <td>No</td>\n",
       "      <td>010101</td>\n",
       "      <td>3.0</td>\n",
       "      <td>154803.0</td>\n",
       "      <td>Pobrer</td>\n",
       "      <td>-0.256431</td>\n",
       "      <td>Mujeres de 15 a 49 años de edad</td>\n",
       "      <td>7065.0</td>\n",
       "      <td>May</td>\n",
       "      <td>MAY</td>\n",
       "    </tr>\n",
       "    <tr>\n",
       "      <th>...</th>\n",
       "      <td>...</td>\n",
       "      <td>...</td>\n",
       "      <td>...</td>\n",
       "      <td>...</td>\n",
       "      <td>...</td>\n",
       "      <td>...</td>\n",
       "      <td>...</td>\n",
       "      <td>...</td>\n",
       "      <td>...</td>\n",
       "      <td>...</td>\n",
       "      <td>...</td>\n",
       "      <td>...</td>\n",
       "      <td>...</td>\n",
       "      <td>...</td>\n",
       "      <td>...</td>\n",
       "      <td>...</td>\n",
       "      <td>...</td>\n",
       "      <td>...</td>\n",
       "      <td>...</td>\n",
       "      <td>...</td>\n",
       "      <td>...</td>\n",
       "    </tr>\n",
       "    <tr>\n",
       "      <th>38330</th>\n",
       "      <td>2019.0</td>\n",
       "      <td>325406201</td>\n",
       "      <td>325406201  2</td>\n",
       "      <td>3254.0</td>\n",
       "      <td>62.0</td>\n",
       "      <td>2.0</td>\n",
       "      <td>3254.0</td>\n",
       "      <td>2019.0</td>\n",
       "      <td>1440.0</td>\n",
       "      <td>12.0</td>\n",
       "      <td>...</td>\n",
       "      <td>No</td>\n",
       "      <td>250401</td>\n",
       "      <td>249.0</td>\n",
       "      <td>244995.0</td>\n",
       "      <td>El más pobre</td>\n",
       "      <td>-1.750187</td>\n",
       "      <td>Mujeres de 15 a 49 años de edad</td>\n",
       "      <td>15783.0</td>\n",
       "      <td>Dec</td>\n",
       "      <td>DEC</td>\n",
       "    </tr>\n",
       "    <tr>\n",
       "      <th>38331</th>\n",
       "      <td>2019.0</td>\n",
       "      <td>325406301</td>\n",
       "      <td>325406301  2</td>\n",
       "      <td>3254.0</td>\n",
       "      <td>63.0</td>\n",
       "      <td>2.0</td>\n",
       "      <td>3254.0</td>\n",
       "      <td>2019.0</td>\n",
       "      <td>1440.0</td>\n",
       "      <td>6.0</td>\n",
       "      <td>...</td>\n",
       "      <td>No</td>\n",
       "      <td>250401</td>\n",
       "      <td>249.0</td>\n",
       "      <td>244995.0</td>\n",
       "      <td>El más pobre</td>\n",
       "      <td>-1.676861</td>\n",
       "      <td>Mujeres de 15 a 49 años de edad</td>\n",
       "      <td>15783.0</td>\n",
       "      <td>Jun</td>\n",
       "      <td>JUN</td>\n",
       "    </tr>\n",
       "    <tr>\n",
       "      <th>38332</th>\n",
       "      <td>2019.0</td>\n",
       "      <td>325407001</td>\n",
       "      <td>325407001  2</td>\n",
       "      <td>3254.0</td>\n",
       "      <td>70.0</td>\n",
       "      <td>2.0</td>\n",
       "      <td>3254.0</td>\n",
       "      <td>2019.0</td>\n",
       "      <td>1440.0</td>\n",
       "      <td>7.0</td>\n",
       "      <td>...</td>\n",
       "      <td>No</td>\n",
       "      <td>250401</td>\n",
       "      <td>249.0</td>\n",
       "      <td>459792.0</td>\n",
       "      <td>El más pobre</td>\n",
       "      <td>-1.585333</td>\n",
       "      <td>Mujeres de 15 a 49 años de edad</td>\n",
       "      <td>15783.0</td>\n",
       "      <td>Jul</td>\n",
       "      <td>JUL</td>\n",
       "    </tr>\n",
       "    <tr>\n",
       "      <th>38333</th>\n",
       "      <td>2019.0</td>\n",
       "      <td>325407201</td>\n",
       "      <td>325407201  2</td>\n",
       "      <td>3254.0</td>\n",
       "      <td>72.0</td>\n",
       "      <td>2.0</td>\n",
       "      <td>3254.0</td>\n",
       "      <td>2019.0</td>\n",
       "      <td>1440.0</td>\n",
       "      <td>12.0</td>\n",
       "      <td>...</td>\n",
       "      <td>No</td>\n",
       "      <td>250401</td>\n",
       "      <td>249.0</td>\n",
       "      <td>459792.0</td>\n",
       "      <td>El más pobre</td>\n",
       "      <td>-1.650159</td>\n",
       "      <td>Mujeres de 15 a 49 años de edad</td>\n",
       "      <td>15783.0</td>\n",
       "      <td>Dec</td>\n",
       "      <td>DEC</td>\n",
       "    </tr>\n",
       "    <tr>\n",
       "      <th>38334</th>\n",
       "      <td>2019.0</td>\n",
       "      <td>325407401</td>\n",
       "      <td>325407401  2</td>\n",
       "      <td>3254.0</td>\n",
       "      <td>74.0</td>\n",
       "      <td>2.0</td>\n",
       "      <td>3254.0</td>\n",
       "      <td>2019.0</td>\n",
       "      <td>1440.0</td>\n",
       "      <td>10.0</td>\n",
       "      <td>...</td>\n",
       "      <td>No</td>\n",
       "      <td>250401</td>\n",
       "      <td>249.0</td>\n",
       "      <td>244995.0</td>\n",
       "      <td>El más pobre</td>\n",
       "      <td>-1.644720</td>\n",
       "      <td>Mujeres de 15 a 49 años de edad</td>\n",
       "      <td>15783.0</td>\n",
       "      <td>Oct</td>\n",
       "      <td>OCT</td>\n",
       "    </tr>\n",
       "  </tbody>\n",
       "</table>\n",
       "<p>36922 rows × 107 columns</p>\n",
       "</div>"
      ],
      "text/plain": [
       "          ID1             HHID              CASEID    V001  V002  V003  \\\n",
       "0      2019.0        000100201        000100201  2     1.0   2.0   2.0   \n",
       "1      2019.0        000100201        000100201  3     1.0   2.0   3.0   \n",
       "2      2019.0        000102801        000102801  2     1.0  28.0   2.0   \n",
       "3      2019.0        000102801        000102801  6     1.0  28.0   6.0   \n",
       "4      2019.0        000104801        000104801  2     1.0  48.0   2.0   \n",
       "...       ...              ...                 ...     ...   ...   ...   \n",
       "38330  2019.0        325406201        325406201  2  3254.0  62.0   2.0   \n",
       "38331  2019.0        325406301        325406301  2  3254.0  63.0   2.0   \n",
       "38332  2019.0        325407001        325407001  2  3254.0  70.0   2.0   \n",
       "38333  2019.0        325407201        325407201  2  3254.0  72.0   2.0   \n",
       "38334  2019.0        325407401        325407401  2  3254.0  74.0   2.0   \n",
       "\n",
       "         V004    V007    V008  V009  ...  QD333_6  UBIGEO   V022      V005  \\\n",
       "0         1.0  2019.0  1434.0   4.0  ...       No  010101    3.0  154803.0   \n",
       "1         1.0  2019.0  1434.0   1.0  ...       No  010101    3.0  154803.0   \n",
       "2         1.0  2019.0  1434.0   6.0  ...       No  010101    3.0  154803.0   \n",
       "3         1.0  2019.0  1434.0   3.0  ...       No  010101    3.0  154803.0   \n",
       "4         1.0  2019.0  1434.0   5.0  ...       No  010101    3.0  154803.0   \n",
       "...       ...     ...     ...   ...  ...      ...     ...    ...       ...   \n",
       "38330  3254.0  2019.0  1440.0  12.0  ...       No  250401  249.0  244995.0   \n",
       "38331  3254.0  2019.0  1440.0   6.0  ...       No  250401  249.0  244995.0   \n",
       "38332  3254.0  2019.0  1440.0   7.0  ...       No  250401  249.0  459792.0   \n",
       "38333  3254.0  2019.0  1440.0  12.0  ...       No  250401  249.0  459792.0   \n",
       "38334  3254.0  2019.0  1440.0  10.0  ...       No  250401  249.0  244995.0   \n",
       "\n",
       "               V190      V191                                   mujeres12a49  \\\n",
       "0              Rico  1.234450                Mujeres de 15 a 49 años de edad   \n",
       "1              Rico  1.234450  Mujeres de 12 a 14 de edad, nunca embarazadas   \n",
       "2              Rico  1.295611                Mujeres de 15 a 49 años de edad   \n",
       "3              Rico  1.295611                Mujeres de 15 a 49 años de edad   \n",
       "4            Pobrer -0.256431                Mujeres de 15 a 49 años de edad   \n",
       "...             ...       ...                                            ...   \n",
       "38330  El más pobre -1.750187                Mujeres de 15 a 49 años de edad   \n",
       "38331  El más pobre -1.676861                Mujeres de 15 a 49 años de edad   \n",
       "38332  El más pobre -1.585333                Mujeres de 15 a 49 años de edad   \n",
       "38333  El más pobre -1.650159                Mujeres de 15 a 49 años de edad   \n",
       "38334  El más pobre -1.644720                Mujeres de 15 a 49 años de edad   \n",
       "\n",
       "      NCONGLOME month_of_born  birth_month  \n",
       "0        7065.0           Apr          APR  \n",
       "1        7065.0           Jan          JAN  \n",
       "2        7065.0           Jun          JUN  \n",
       "3        7065.0           Mar          MAR  \n",
       "4        7065.0           May          MAY  \n",
       "...         ...           ...          ...  \n",
       "38330   15783.0           Dec          DEC  \n",
       "38331   15783.0           Jun          JUN  \n",
       "38332   15783.0           Jul          JUL  \n",
       "38333   15783.0           Dec          DEC  \n",
       "38334   15783.0           Oct          OCT  \n",
       "\n",
       "[36922 rows x 107 columns]"
      ]
     },
     "execution_count": 19,
     "metadata": {},
     "output_type": "execute_result"
    }
   ],
   "source": [
    "rec1"
   ]
  },
  {
   "cell_type": "code",
   "execution_count": null,
   "metadata": {},
   "outputs": [],
   "source": []
  }
 ],
 "metadata": {
  "hide_input": false,
  "kernelspec": {
   "display_name": "Python 3 (ipykernel)",
   "language": "python",
   "name": "python3"
  },
  "language_info": {
   "codemirror_mode": {
    "name": "ipython",
    "version": 3
   },
   "file_extension": ".py",
   "mimetype": "text/x-python",
   "name": "python",
   "nbconvert_exporter": "python",
   "pygments_lexer": "ipython3",
   "version": "3.9.13"
  },
  "toc": {
   "base_numbering": 1,
   "nav_menu": {},
   "number_sections": true,
   "sideBar": true,
   "skip_h1_title": false,
   "title_cell": "Table of Contents",
   "title_sidebar": "Contents",
   "toc_cell": false,
   "toc_position": {},
   "toc_section_display": true,
   "toc_window_display": false
  },
  "vscode": {
   "interpreter": {
    "hash": "aa1ee2453168be90b16f29dd075ffb2e0d9206152b6d04a65daba75fbb025218"
   }
  }
 },
 "nbformat": 4,
 "nbformat_minor": 4
}
