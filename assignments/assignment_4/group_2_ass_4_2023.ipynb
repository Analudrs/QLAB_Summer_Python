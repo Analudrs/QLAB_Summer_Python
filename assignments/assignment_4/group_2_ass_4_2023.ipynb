{
 "cells": [
  {
   "cell_type": "markdown",
   "id": "e7ca8383",
   "metadata": {},
   "source": [
    "## Assignment 3 del Grupo 2\n",
    "\n",
    "#### Miembros:\n",
    "* Angie Quispe\n",
    "* Carlos Crespin\n",
    "* Jenny Tello"
   ]
  },
  {
   "cell_type": "markdown",
   "id": "d65a4215",
   "metadata": {},
   "source": [
    "## 1.1 Conditional statements\n"
   ]
  },
  {
   "cell_type": "markdown",
   "id": "64029372",
   "metadata": {},
   "source": [
    "1. You work at a college admissions office. When inspecting a dataset of college applicants, you notice that some students have represented their grades with letters (`\"AD\"`, `\"A\"`, `\"B\"`, `\"C\"`), whereas others have represented their grades with a number between 0 and 20.\n",
    "\n",
    "    You realize that for consistency, all of the grades should be formatted in the same way, and you decide to format them all as letters. For the conversion, you decide to assign:\n",
    "\n",
    "    - `\"AD\"` - any grade 18-20, inclusive\n",
    "    - `\"A\"` - any grade 14-17, inclusive\n",
    "    - `\"B\"` - any grade 10-13, inclusive\n",
    "    - `\"C\"` - any grade <10\n",
    "\n",
    "    Write a function get_grade() that takes as input:\n",
    "    - `score` - an integer 0-20 corresponding to a numerical grade\n",
    "\n",
    "   It should return a Python string with the letter grade that it corresponds to. For instance,\n",
    "\n",
    "    - A score of 12 corresponds to a B grade. In other words, `get_grade(12)` should return `\"B\"`.\n",
    "    - A score of 3 corresponds to an C grade. In other words, `get_grade(3)` should return `\"C\"`.\n",
    "\n",
    "   Make sure that when supplying the grade that is returned by the function, it is enclosed in quotes. (For instance, if you want to return `\"A\"`, you should write `return \"A\"` and not `return A`.)"
   ]
  },
  {
   "cell_type": "code",
   "execution_count": 27,
   "id": "4f7cd290",
   "metadata": {},
   "outputs": [],
   "source": [
    "#We use the comand get_grade() as a function and add the if conditional\n",
    "\n",
    "def get_grade(score):\n",
    "    if  score <= 10:\n",
    "        print(\"The grade is C\")\n",
    "    elif score <= 13 & score >= 10:\n",
    "        print(\"The grade is B\")\n",
    "    elif score <= 17 & score >= 14:    \n",
    "        print(\"The grade is A\")\n",
    "    else:\n",
    "        print(\"The grade is AD\")\n",
    " "
   ]
  },
  {
   "cell_type": "code",
   "execution_count": 28,
   "id": "fc4e7c64",
   "metadata": {},
   "outputs": [
    {
     "name": "stdout",
     "output_type": "stream",
     "text": [
      "The grade is B\n"
     ]
    }
   ],
   "source": [
    "#We check the results\n",
    "get_grade(12)"
   ]
  },
  {
   "cell_type": "code",
   "execution_count": 30,
   "id": "5374cad9",
   "metadata": {},
   "outputs": [
    {
     "name": "stdout",
     "output_type": "stream",
     "text": [
      "The grade is AD\n"
     ]
    }
   ],
   "source": [
    "#We check the results\n",
    "get_grade(20)"
   ]
  },
  {
   "cell_type": "markdown",
   "id": "67455053",
   "metadata": {},
   "source": [
    "2. You are a programmer at a water agency. Recently, you have been tasked to write a function `get_water_bill()` that takes as input:\n",
    "\n",
    "    - `num_gallons` = the number of gallons of water that a customer used that month. (This will always be an integer with no decimal part.)\n",
    "\n",
    "   It should output the water bill.\n",
    "\n",
    "   The water agency uses this pricing structure:\n",
    "\n",
    "| Tier        | Amount in gallons | Price per 1000 gallons |\n",
    "| ----------- | ----------------  | ---------------------- |\n",
    "| Tier 1      | 0 - 8,000         | 5                      |\n",
    "| Tier 2      | 8,001 - 22,000    | 6                      |\n",
    "| Tier 3      | 22,001 - 30,000\t  | 7                      |\n",
    "| Tier 4      | 30,001+\t      \t  | 10                     |\n"
   ]
  },
  {
   "cell_type": "code",
   "execution_count": 32,
   "id": "6d02b2f1",
   "metadata": {},
   "outputs": [],
   "source": [
    "#We use the comand def get_water_bill() as a function to get the bills\n",
    "#The equation that we use is (num_gallons/1000)*i where i depends in \n",
    "#amount in gallons\n",
    "\n",
    "def get_water_bill(num_gallons):\n",
    "    if num_gallons <= 8000:\n",
    "        bill = (num_gallons/1000)*5\n",
    "    elif num_gallons <= 22000:\n",
    "        bill = (num_gallons/1000)*6\n",
    "    elif num_gallons <= 30000:\n",
    "        bill = (num_gallons/1000)*7\n",
    "    else:\n",
    "        bill = (num_gallons/1000)*10\n",
    "    return bill"
   ]
  },
  {
   "cell_type": "code",
   "execution_count": 33,
   "id": "3833e778",
   "metadata": {},
   "outputs": [
    {
     "data": {
      "text/plain": [
       "35.0"
      ]
     },
     "execution_count": 33,
     "metadata": {},
     "output_type": "execute_result"
    }
   ],
   "source": [
    "#We check the results\n",
    "get_water_bill(7000)"
   ]
  },
  {
   "cell_type": "code",
   "execution_count": 34,
   "id": "c0113fbd",
   "metadata": {},
   "outputs": [
    {
     "data": {
      "text/plain": [
       "157.5"
      ]
     },
     "execution_count": 34,
     "metadata": {},
     "output_type": "execute_result"
    }
   ],
   "source": [
    "#We check the results\n",
    "get_water_bill(22500)"
   ]
  },
  {
   "cell_type": "code",
   "execution_count": null,
   "id": "eff146c8",
   "metadata": {},
   "outputs": [],
   "source": []
  },
  {
   "cell_type": "code",
   "execution_count": null,
   "id": "58ec373d",
   "metadata": {},
   "outputs": [],
   "source": []
  }
 ],
 "metadata": {
  "kernelspec": {
   "display_name": "Python 3 (ipykernel)",
   "language": "python",
   "name": "python3"
  },
  "language_info": {
   "codemirror_mode": {
    "name": "ipython",
    "version": 3
   },
   "file_extension": ".py",
   "mimetype": "text/x-python",
   "name": "python",
   "nbconvert_exporter": "python",
   "pygments_lexer": "ipython3",
   "version": "3.9.12"
  }
 },
 "nbformat": 4,
 "nbformat_minor": 5
}
