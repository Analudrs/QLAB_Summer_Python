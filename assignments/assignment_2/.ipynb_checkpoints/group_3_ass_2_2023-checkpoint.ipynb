{
 "cells": [
  {
   "cell_type": "markdown",
   "metadata": {},
   "source": [
    "# 1 Assignment\n",
    "\n",
    "It is totally prohibited to use any kind of loop. You can use stackoverflow. If you copy codes from previous answers, explain each step. No explanation is `0 points`."
   ]
  },
  {
   "cell_type": "markdown",
   "metadata": {},
   "source": [
    "## 1.1 Tuple\n",
    "\n",
    "\n",
    "\n",
    "1. Print the first item of the second item of `tuple1` object. **Hint: Use indexing**<br><br>\n",
    "2. Print the last item of the `tuple1` object.**Hint: Use indexing**<br><br>\n",
    "3. Change the value \"orange\" for \"pink grapefruit\". Comment the output. **Hint: Is it possible?** <br><br>\n",
    "4. Print the length of `tuple1`. **Hint: Length function**<br><br>\n",
    "5. Sum all the elements of tuple2 and describe your steps and explain each of them. **Hint: Use `map` function.**<br><br>\n",
    "6. Generate a new tuple object named as `tuple3` with the half values of `tuple2`. This tuple should be similar as `tuple2`, tuple of lists.  **Hint: Use `map` funciont.**<br><br>"
   ]
  },
  {
   "cell_type": "code",
   "execution_count": 2,
   "metadata": {},
   "outputs": [],
   "source": [
    "tuple1 = (\"Orange\", [10, 20, 30], (5, 15, 25))\n",
    "tuple2 = ([7, 8], [9, 1], [10, 7])"
   ]
  },
  {
   "cell_type": "code",
   "execution_count": 8,
   "metadata": {},
   "outputs": [
    {
     "name": "stdout",
     "output_type": "stream",
     "text": [
      "10\n"
     ]
    }
   ],
   "source": [
    "#1 We use the command print, and put the second item from the tuple, and then the firts item from the list.\n",
    "print (tuple1 [1][0])"
   ]
  },
  {
   "cell_type": "code",
   "execution_count": 10,
   "metadata": {},
   "outputs": [
    {
     "name": "stdout",
     "output_type": "stream",
     "text": [
      "(5, 15, 25)\n"
     ]
    }
   ],
   "source": [
    "#2 We use print again, and we use \"-1\" to signal the last item from the tuple. \n",
    "print (tuple1 [-1])"
   ]
  },
  {
   "cell_type": "code",
   "execution_count": 11,
   "metadata": {},
   "outputs": [
    {
     "ename": "TypeError",
     "evalue": "'tuple' object does not support item assignment",
     "output_type": "error",
     "traceback": [
      "\u001b[1;31m---------------------------------------------------------------------------\u001b[0m",
      "\u001b[1;31mTypeError\u001b[0m                                 Traceback (most recent call last)",
      "Input \u001b[1;32mIn [11]\u001b[0m, in \u001b[0;36m<cell line: 2>\u001b[1;34m()\u001b[0m\n\u001b[0;32m      1\u001b[0m \u001b[38;5;66;03m#3 It is not possible, because tuples are unchangeable.\u001b[39;00m\n\u001b[1;32m----> 2\u001b[0m tuple1[\u001b[38;5;241m0\u001b[39m] \u001b[38;5;241m=\u001b[39m \u001b[38;5;124m\"\u001b[39m\u001b[38;5;124mpink grapefruit\u001b[39m\u001b[38;5;124m\"\u001b[39m\n",
      "\u001b[1;31mTypeError\u001b[0m: 'tuple' object does not support item assignment"
     ]
    }
   ],
   "source": [
    "#3 It is not possible, because tuples are unchangeable.\n",
    "tuple1[0] = \"pink grapefruit\""
   ]
  },
  {
   "cell_type": "code",
   "execution_count": 12,
   "metadata": {},
   "outputs": [
    {
     "data": {
      "text/plain": [
       "3"
      ]
     },
     "execution_count": 12,
     "metadata": {},
     "output_type": "execute_result"
    }
   ],
   "source": [
    "#4 We use the len function and put the name of our tuple.\n",
    "len(tuple1)"
   ]
  },
  {
   "cell_type": "code",
   "execution_count": 5,
   "metadata": {
    "scrolled": true
   },
   "outputs": [
    {
     "name": "stdout",
     "output_type": "stream",
     "text": [
      "42\n"
     ]
    }
   ],
   "source": [
    "#5 We can use map to create an iteration and add the values of our tuple\n",
    "# We need to first add the values of each of our arrays with map.\n",
    "result = list(map(sum, tuple2))\n",
    "result\n",
    "# Then we need to sum each of the values of our new list.\n",
    "print(sum(result))"
   ]
  },
  {
   "cell_type": "code",
   "execution_count": 25,
   "metadata": {},
   "outputs": [
    {
     "data": {
      "text/plain": [
       "[<function __main__.half(n)>,\n",
       " <function __main__.half(n)>,\n",
       " <function __main__.half(n)>]"
      ]
     },
     "execution_count": 25,
     "metadata": {},
     "output_type": "execute_result"
    }
   ],
   "source": [
    "#6 We need to use map to half each of the values in our new tuple\n",
    "# We define a function to half each value by 2.\n",
    "def half(n):\n",
    "    return n/2\n",
    "\n",
    "list(map(lambda n: half,tuple2))\n"
   ]
  },
  {
   "cell_type": "markdown",
   "metadata": {},
   "source": [
    "## 1.2 Lists\n",
    "1. Show the indices of the `np.nan` values  in the `f_list` list. We want to see this output: `The indices 0, 1, 4, 7 have np.nan values.` **Hint: Use print function and [f-strings](https://realpython.com/python-f-strings/) to insert the indices values.**<br><br>\n",
    "\n",
    "2. Replicate 4 times the values of the list `p2_list`. We expect an ouput like this: `[ 2 , 3, 4, 5, 2 , 3, 4, 5, 2 , 3, 4, 5, 2 , 3, 4, 5]`.  **Hint: Use multiplication function in `lists`and see the output.**<br><br>\n",
    "3. Print the length of `f_list`. **Hint: Length function**<br><br>\n",
    "4. Print `My teacher assistant is so boring.` using `text1` list. **Hint: Use the [`join` function](https://stackoverflow.com/questions/493819/why-is-it-string-joinlist-instead-of-list-joinstring)**<br><br>\n",
    "5. Print `My TA is so boring, but is very funny.` using `text1` list.**Hint: Use the `join` function, and `extend` method.**<br><br>\n",
    "6. Print <br>\n",
    "`The max value of values1 is 86 and is located in the 0 index. ` <br>\n",
    "`The min value of values1 is 0 and is located in the 7 index. ` <br> **Hint: Use the `f-string`, `min`, and `max` functions.**\n",
    "<br>\n",
    "7. Get two lists: `names` and `last_names` using `last_and_name` list. **Hint: Use `map` and `split`.**\n",
    "<br>\n",
    "8. Give only the last names of students who do not have email. Use the `emails` and `last_names` listt. **Hint: Use `map` and `split`.**\n",
    "<br>"
   ]
  },
  {
   "cell_type": "markdown",
   "metadata": {},
   "source": [
    "#1 Show the indices of the np.nan values in the f_list list. We want to see this output: The indices 0, 1, 4, 7 have np.nan values. Hint: Use print function and f-strings to insert the indices values"
   ]
  },
  {
   "cell_type": "code",
   "execution_count": 64,
   "metadata": {},
   "outputs": [],
   "source": [
    "import numpy as np"
   ]
  },
  {
   "cell_type": "code",
   "execution_count": 110,
   "metadata": {},
   "outputs": [
    {
     "name": "stdout",
     "output_type": "stream",
     "text": [
      "The indices 0, 1, 4, 7 have np.nan values\n"
     ]
    }
   ],
   "source": [
    "# first attempt\n",
    "f_list = [np.nan , np.nan, \"Austria\", \"Germany\", np.nan, \"Pakistan\", \"np.nan\", np.nan ]\n",
    "item = \"np.nan\"\n",
    "index = \"0, 1, 4, 7\"\n",
    "\n",
    "print('The indices', index, 'have', item, 'values')"
   ]
  },
  {
   "cell_type": "code",
   "execution_count": 115,
   "metadata": {},
   "outputs": [
    {
     "name": "stdout",
     "output_type": "stream",
     "text": [
      "The indices 0, 1, 4, 7 have nan values\n"
     ]
    }
   ],
   "source": [
    "# second attempt\n",
    "f_list = [np.nan , np.nan, \"Austria\", \"Germany\", np.nan, \"Pakistan\", \"np.nan\", np.nan ]\n",
    "item = f_list[0]\n",
    "index = \"0, 1, 4, 7\"\n",
    "\n",
    "print('The indices', index, 'have', item, 'values')"
   ]
  },
  {
   "cell_type": "markdown",
   "metadata": {},
   "source": [
    "2#"
   ]
  },
  {
   "cell_type": "code",
   "execution_count": 19,
   "metadata": {},
   "outputs": [
    {
     "data": {
      "text/plain": [
       "[2, 3, 4, 5, 2, 3, 4, 5, 2, 3, 4, 5, 2, 3, 4, 5]"
      ]
     },
     "execution_count": 19,
     "metadata": {},
     "output_type": "execute_result"
    }
   ],
   "source": [
    "p2_list = [ 2 , 3, 4, 5 ]\n",
    "p2_list*4\n"
   ]
  },
  {
   "cell_type": "markdown",
   "metadata": {},
   "source": [
    "#3"
   ]
  },
  {
   "cell_type": "code",
   "execution_count": 23,
   "metadata": {},
   "outputs": [
    {
     "data": {
      "text/plain": [
       "8"
      ]
     },
     "execution_count": 23,
     "metadata": {},
     "output_type": "execute_result"
    }
   ],
   "source": [
    "len(f_list)"
   ]
  },
  {
   "cell_type": "markdown",
   "metadata": {},
   "source": [
    "#4"
   ]
  },
  {
   "cell_type": "code",
   "execution_count": 27,
   "metadata": {},
   "outputs": [
    {
     "name": "stdout",
     "output_type": "stream",
     "text": [
      "My teacher assistant is so boring.\n"
     ]
    }
   ],
   "source": [
    "text1 = ['My', 'teacher', 'assistant', 'is', 'so', 'boring.']\n",
    "print(' '.join(text1))"
   ]
  },
  {
   "cell_type": "markdown",
   "metadata": {},
   "source": [
    "#5"
   ]
  },
  {
   "cell_type": "code",
   "execution_count": 30,
   "metadata": {},
   "outputs": [
    {
     "name": "stdout",
     "output_type": "stream",
     "text": [
      "My teacher assistant is so boring, but is very funny.\n"
     ]
    }
   ],
   "source": [
    "text1 = ['My', 'teacher', 'assistant', 'is', 'so', 'boring,']\n",
    "text2 = ['but', 'is', 'very', 'funny.']\n",
    "text1.extend(text2)\n",
    "print(' '.join(text1))"
   ]
  },
  {
   "cell_type": "markdown",
   "metadata": {},
   "source": [
    "#6"
   ]
  },
  {
   "cell_type": "code",
   "execution_count": 38,
   "metadata": {},
   "outputs": [
    {
     "data": {
      "text/plain": [
       "'The max value of values1 is 86 and is located in the 0 index.'"
      ]
     },
     "execution_count": 38,
     "metadata": {},
     "output_type": "execute_result"
    }
   ],
   "source": [
    "values1 = [ 86, 86, 85, 85, 85, 83, 23, 0, 84, 1 ] \n",
    ">>> maxv = max(values1)\n",
    ">>> ind = values1.index(86)\n",
    ">>> f\"The max value of values1 is {maxv} and is located in the {ind} index.\""
   ]
  },
  {
   "cell_type": "code",
   "execution_count": 39,
   "metadata": {},
   "outputs": [
    {
     "data": {
      "text/plain": [
       "'The min value of values1 is 86 and is located in the 7 index.'"
      ]
     },
     "execution_count": 39,
     "metadata": {},
     "output_type": "execute_result"
    }
   ],
   "source": [
    ">>> minv = min(values1)\n",
    ">>> ind = values1.index(0)\n",
    ">>> f\"The min value of values1 is {maxv} and is located in the {ind} index.\"\n"
   ]
  },
  {
   "cell_type": "markdown",
   "metadata": {},
   "source": [
    "Get two lists: names and last_names using last_and_name list. Hint: Use map and split."
   ]
  },
  {
   "cell_type": "code",
   "execution_count": 132,
   "metadata": {},
   "outputs": [
    {
     "ename": "TypeError",
     "evalue": "'list' object is not callable",
     "output_type": "error",
     "traceback": [
      "\u001b[1;31m---------------------------------------------------------------------------\u001b[0m",
      "\u001b[1;31mTypeError\u001b[0m                                 Traceback (most recent call last)",
      "\u001b[1;32m~\\AppData\\Local\\Temp\\ipykernel_15804\\678635114.py\u001b[0m in \u001b[0;36m<module>\u001b[1;34m\u001b[0m\n\u001b[0;32m      1\u001b[0m \u001b[0mlast_and_name\u001b[0m \u001b[1;33m=\u001b[0m \u001b[1;33m[\u001b[0m \u001b[1;34m\"CORNEJO SANCHEZ, CHRISTIAN SANTOS\"\u001b[0m\u001b[1;33m,\u001b[0m \u001b[1;34m\"ORELLANA QUISPE, CRISTIAN NASSER\"\u001b[0m\u001b[1;33m,\u001b[0m \u001b[1;34m\"MORALES CHOQUEHUANCA, ANGELICA KARINA\"\u001b[0m\u001b[1;33m,\u001b[0m \u001b[1;34m\"GUIMARAY RIBEYRO, JOSE ROBERTO\"\u001b[0m\u001b[1;33m,\u001b[0m \u001b[1;34m\"CAMACHO GAVIDIA, ABEL FERNANDO\"\u001b[0m\u001b[1;33m,\u001b[0m \u001b[1;34m\"TINTAYA ORIHUELA, MEIR ALVARO\"\u001b[0m\u001b[1;33m,\u001b[0m \u001b[1;34m\"CHAVEZ MARTINEZ, JOSELIN ALEXANDRA\"\u001b[0m\u001b[1;33m,\u001b[0m \u001b[1;34m\"FIGUEROA MURO, LEONEL ARTURO\"\u001b[0m\u001b[1;33m,\u001b[0m \u001b[1;34m\"GOMEZ CRIBILLERO, JOSE FELIPE\"\u001b[0m\u001b[1;33m,\u001b[0m \u001b[1;34m\"PALOMINO SEGUÍN, AFRANIA\"\u001b[0m\u001b[1;33m,\u001b[0m \u001b[1;34m\"LUZON CUEVA, BIANCA MARIETTE\"\u001b[0m\u001b[1;33m,\u001b[0m \u001b[1;34m\"SUAÑA ZEGARRA, ADRIAN ANDRE\"\u001b[0m\u001b[1;33m,\u001b[0m \u001b[1;34m\"SOTO POMACHAGUA, DORKAS YOMIRA JHERMY\"\u001b[0m\u001b[1;33m,\u001b[0m \u001b[1;34m\"FIORENTINO MARTINEZ, LADY ALY\"\u001b[0m\u001b[1;33m,\u001b[0m \u001b[1;34m\"LAMA MAVILA, HECTOR ANDRE\"\u001b[0m\u001b[1;33m,\u001b[0m \u001b[1;34m\"MEZA HINOJO, GUSTAVO\"\u001b[0m\u001b[1;33m,\u001b[0m \u001b[1;34m\"LOZADA MURILLO, PERSEO MARCELO\"\u001b[0m\u001b[1;33m,\u001b[0m \u001b[1;34m\"ZAMBRANO JIMENEZ, MIGUEL ALONZO\"\u001b[0m\u001b[1;33m,\u001b[0m \u001b[1;34m\"JACOBS LUQUE, NICOLAS\"\u001b[0m\u001b[1;33m,\u001b[0m \u001b[1;34m\"VIDAL VIDAL, ROCIO GABRIELA\"\u001b[0m\u001b[1;33m,\u001b[0m \u001b[1;34m\"TORRES ANICAMA, JANE CAMILA\"\u001b[0m\u001b[1;33m,\u001b[0m \u001b[1;34m\"LOPEZ ESTRADA, MARIA ELISA\"\u001b[0m\u001b[1;33m,\u001b[0m \u001b[1;34m\"BOYCO ORAMS, ALEJANDRO\"\u001b[0m\u001b[1;33m,\u001b[0m \u001b[1;34m\"DIAZ BERROSPI, KARLINE ROSMELI\"\u001b[0m\u001b[1;33m,\u001b[0m \u001b[1;34m\"RIEGA ESCALANTE, STEPHY ROSARIO\"\u001b[0m\u001b[1;33m,\u001b[0m \u001b[1;34m\"LEVANO TORRES, VALERIA CECILIA\"\u001b[0m\u001b[1;33m,\u001b[0m \u001b[1;34m\"ESQUIVES BRAVO, SEBASTIAN RENATO\"\u001b[0m\u001b[1;33m,\u001b[0m \u001b[1;34m\"PEREZ GONZALES, JUAN CARLOS\"\u001b[0m\u001b[1;33m,\u001b[0m \u001b[1;34m\"OTERO MAGUIÑA, MARIANA\"\u001b[0m\u001b[1;33m,\u001b[0m \u001b[1;34m\"CLAVO CAMPOS, ANDREA BRIZETH\"\u001b[0m\u001b[1;33m,\u001b[0m \u001b[1;34m\"AGUILAR GARCIA, ERICK JOSUE\"\u001b[0m\u001b[1;33m,\u001b[0m \u001b[1;34m\"CALDAS VELASQUEZ, JOSUE DANIEL\"\u001b[0m\u001b[1;33m,\u001b[0m \u001b[1;34m\"SALAS NUÑEZ BORJA, FABIO MANUEL\"\u001b[0m\u001b[1;33m,\u001b[0m \u001b[1;34m\"PIZARRO VILLANES, FERNANDA NICOLLE\"\u001b[0m\u001b[1;33m,\u001b[0m \u001b[1;34m\"QUILLATUPA MORALES, ANGELA ADELINA\"\u001b[0m\u001b[1;33m,\u001b[0m \u001b[1;34m\"HUANCAYA IDONE, CESAR DANTE\"\u001b[0m\u001b[1;33m,\u001b[0m \u001b[1;34m\"CALVO PORTOCARRERO, GABRIELA ISABEL\"\u001b[0m\u001b[1;33m,\u001b[0m \u001b[1;34m\"IBAÑEZ ABANTO, ANGEL MAURICIO\"\u001b[0m\u001b[1;33m,\u001b[0m \u001b[1;34m\"MELÉNDEZ APONTE, JUAN DIEGO\"\u001b[0m\u001b[1;33m,\u001b[0m \u001b[1;34m\"CRISTIAN SERRANO, ARONE\"\u001b[0m\u001b[1;33m,\u001b[0m \u001b[1;34m\"HINOJOSA CAHUANA, PERCY ALBERTH\"\u001b[0m\u001b[1;33m,\u001b[0m \u001b[1;34m\"ANGLAS GARCÍA, KEVIN ARTURO\"\u001b[0m\u001b[1;33m,\u001b[0m \u001b[1;34m\"ALDAVE ACOSTA, CESAR ERNESTO\"\u001b[0m\u001b[1;33m,\u001b[0m \u001b[1;34m\"NÚÑEZ HUAMÁN, CÉSAR AGUSTO\"\u001b[0m\u001b[1;33m,\u001b[0m \u001b[1;34m\"OBREGON HUAMAN, DIANA EDITH\"\u001b[0m\u001b[1;33m,\u001b[0m \u001b[1;34m\"SOTO PACHERRES, RODRIGO FRANCO\"\u001b[0m\u001b[1;33m,\u001b[0m \u001b[1;34m\"INGARUCA RIVERA, GRETTEL ALEXANDRA\"\u001b[0m\u001b[1;33m,\u001b[0m \u001b[1;34m\"ROJAS HUAMAN, ROSA ANGELA\"\u001b[0m\u001b[1;33m,\u001b[0m \u001b[1;34m\"NEYRA SALAS, DANTE OMAR\"\u001b[0m\u001b[1;33m,\u001b[0m \u001b[1;34m\"HUERTA ESPINOZA, YAJAIRA ALEXANDRA\"\u001b[0m\u001b[1;33m,\u001b[0m \u001b[1;34m\"HUANCA MARTINEZ, JORGE ALBERTO\"\u001b[0m\u001b[1;33m,\u001b[0m \u001b[1;34m\"FLORES CADILLO, ALEXIS\"\u001b[0m \u001b[1;33m]\u001b[0m\u001b[1;33m\u001b[0m\u001b[1;33m\u001b[0m\u001b[0m\n\u001b[0;32m      2\u001b[0m \u001b[1;33m\u001b[0m\u001b[0m\n\u001b[1;32m----> 3\u001b[1;33m \u001b[0mnames\u001b[0m \u001b[1;33m=\u001b[0m \u001b[0mlist\u001b[0m\u001b[1;33m(\u001b[0m\u001b[0mmap\u001b[0m\u001b[1;33m(\u001b[0m\u001b[0msplit\u001b[0m\u001b[1;33m(\u001b[0m\u001b[1;34m\", \"\u001b[0m\u001b[1;33m)\u001b[0m\u001b[1;33m,\u001b[0m \u001b[0mlast_and_name\u001b[0m\u001b[1;33m)\u001b[0m\u001b[1;33m)\u001b[0m\u001b[1;33m\u001b[0m\u001b[1;33m\u001b[0m\u001b[0m\n\u001b[0m",
      "\u001b[1;31mTypeError\u001b[0m: 'list' object is not callable"
     ]
    }
   ],
   "source": [
    "last_and_name = [ \"CORNEJO SANCHEZ, CHRISTIAN SANTOS\", \"ORELLANA QUISPE, CRISTIAN NASSER\", \"MORALES CHOQUEHUANCA, ANGELICA KARINA\", \"GUIMARAY RIBEYRO, JOSE ROBERTO\", \"CAMACHO GAVIDIA, ABEL FERNANDO\", \"TINTAYA ORIHUELA, MEIR ALVARO\", \"CHAVEZ MARTINEZ, JOSELIN ALEXANDRA\", \"FIGUEROA MURO, LEONEL ARTURO\", \"GOMEZ CRIBILLERO, JOSE FELIPE\", \"PALOMINO SEGUÍN, AFRANIA\", \"LUZON CUEVA, BIANCA MARIETTE\", \"SUAÑA ZEGARRA, ADRIAN ANDRE\", \"SOTO POMACHAGUA, DORKAS YOMIRA JHERMY\", \"FIORENTINO MARTINEZ, LADY ALY\", \"LAMA MAVILA, HECTOR ANDRE\", \"MEZA HINOJO, GUSTAVO\", \"LOZADA MURILLO, PERSEO MARCELO\", \"ZAMBRANO JIMENEZ, MIGUEL ALONZO\", \"JACOBS LUQUE, NICOLAS\", \"VIDAL VIDAL, ROCIO GABRIELA\", \"TORRES ANICAMA, JANE CAMILA\", \"LOPEZ ESTRADA, MARIA ELISA\", \"BOYCO ORAMS, ALEJANDRO\", \"DIAZ BERROSPI, KARLINE ROSMELI\", \"RIEGA ESCALANTE, STEPHY ROSARIO\", \"LEVANO TORRES, VALERIA CECILIA\", \"ESQUIVES BRAVO, SEBASTIAN RENATO\", \"PEREZ GONZALES, JUAN CARLOS\", \"OTERO MAGUIÑA, MARIANA\", \"CLAVO CAMPOS, ANDREA BRIZETH\", \"AGUILAR GARCIA, ERICK JOSUE\", \"CALDAS VELASQUEZ, JOSUE DANIEL\", \"SALAS NUÑEZ BORJA, FABIO MANUEL\", \"PIZARRO VILLANES, FERNANDA NICOLLE\", \"QUILLATUPA MORALES, ANGELA ADELINA\", \"HUANCAYA IDONE, CESAR DANTE\", \"CALVO PORTOCARRERO, GABRIELA ISABEL\", \"IBAÑEZ ABANTO, ANGEL MAURICIO\", \"MELÉNDEZ APONTE, JUAN DIEGO\", \"CRISTIAN SERRANO, ARONE\", \"HINOJOSA CAHUANA, PERCY ALBERTH\", \"ANGLAS GARCÍA, KEVIN ARTURO\", \"ALDAVE ACOSTA, CESAR ERNESTO\", \"NÚÑEZ HUAMÁN, CÉSAR AGUSTO\", \"OBREGON HUAMAN, DIANA EDITH\", \"SOTO PACHERRES, RODRIGO FRANCO\", \"INGARUCA RIVERA, GRETTEL ALEXANDRA\", \"ROJAS HUAMAN, ROSA ANGELA\", \"NEYRA SALAS, DANTE OMAR\", \"HUERTA ESPINOZA, YAJAIRA ALEXANDRA\", \"HUANCA MARTINEZ, JORGE ALBERTO\", \"FLORES CADILLO, ALEXIS\" ]\n",
    "\n",
    "names = list(map(split(\", \"), last_and_name))"
   ]
  },
  {
   "cell_type": "code",
   "execution_count": 124,
   "metadata": {},
   "outputs": [
    {
     "name": "stdout",
     "output_type": "stream",
     "text": [
      "<map object at 0x00000121A0EA2250>\n"
     ]
    }
   ],
   "source": [
    "def split(n):\n",
    "    return n.split(\" ,\")\n",
    "\n",
    "last_and_name = [ \"CORNEJO SANCHEZ, CHRISTIAN SANTOS\", \"ORELLANA QUISPE, CRISTIAN NASSER\", \"MORALES CHOQUEHUANCA, ANGELICA KARINA\", \"GUIMARAY RIBEYRO, JOSE ROBERTO\", \"CAMACHO GAVIDIA, ABEL FERNANDO\", \"TINTAYA ORIHUELA, MEIR ALVARO\", \"CHAVEZ MARTINEZ, JOSELIN ALEXANDRA\", \"FIGUEROA MURO, LEONEL ARTURO\", \"GOMEZ CRIBILLERO, JOSE FELIPE\", \"PALOMINO SEGUÍN, AFRANIA\", \"LUZON CUEVA, BIANCA MARIETTE\", \"SUAÑA ZEGARRA, ADRIAN ANDRE\", \"SOTO POMACHAGUA, DORKAS YOMIRA JHERMY\", \"FIORENTINO MARTINEZ, LADY ALY\", \"LAMA MAVILA, HECTOR ANDRE\", \"MEZA HINOJO, GUSTAVO\", \"LOZADA MURILLO, PERSEO MARCELO\", \"ZAMBRANO JIMENEZ, MIGUEL ALONZO\", \"JACOBS LUQUE, NICOLAS\", \"VIDAL VIDAL, ROCIO GABRIELA\", \"TORRES ANICAMA, JANE CAMILA\", \"LOPEZ ESTRADA, MARIA ELISA\", \"BOYCO ORAMS, ALEJANDRO\", \"DIAZ BERROSPI, KARLINE ROSMELI\", \"RIEGA ESCALANTE, STEPHY ROSARIO\", \"LEVANO TORRES, VALERIA CECILIA\", \"ESQUIVES BRAVO, SEBASTIAN RENATO\", \"PEREZ GONZALES, JUAN CARLOS\", \"OTERO MAGUIÑA, MARIANA\", \"CLAVO CAMPOS, ANDREA BRIZETH\", \"AGUILAR GARCIA, ERICK JOSUE\", \"CALDAS VELASQUEZ, JOSUE DANIEL\", \"SALAS NUÑEZ BORJA, FABIO MANUEL\", \"PIZARRO VILLANES, FERNANDA NICOLLE\", \"QUILLATUPA MORALES, ANGELA ADELINA\", \"HUANCAYA IDONE, CESAR DANTE\", \"CALVO PORTOCARRERO, GABRIELA ISABEL\", \"IBAÑEZ ABANTO, ANGEL MAURICIO\", \"MELÉNDEZ APONTE, JUAN DIEGO\", \"CRISTIAN SERRANO, ARONE\", \"HINOJOSA CAHUANA, PERCY ALBERTH\", \"ANGLAS GARCÍA, KEVIN ARTURO\", \"ALDAVE ACOSTA, CESAR ERNESTO\", \"NÚÑEZ HUAMÁN, CÉSAR AGUSTO\", \"OBREGON HUAMAN, DIANA EDITH\", \"SOTO PACHERRES, RODRIGO FRANCO\", \"INGARUCA RIVERA, GRETTEL ALEXANDRA\", \"ROJAS HUAMAN, ROSA ANGELA\", \"NEYRA SALAS, DANTE OMAR\", \"HUERTA ESPINOZA, YAJAIRA ALEXANDRA\", \"HUANCA MARTINEZ, JORGE ALBERTO\", \"FLORES CADILLO, ALEXIS\" ]\n",
    "names = map(split, last_and_name)\n",
    "print(names)"
   ]
  },
  {
   "cell_type": "code",
   "execution_count": 133,
   "metadata": {},
   "outputs": [
    {
     "ename": "AttributeError",
     "evalue": "'int' object has no attribute 'split'",
     "output_type": "error",
     "traceback": [
      "\u001b[1;31m---------------------------------------------------------------------------\u001b[0m",
      "\u001b[1;31mAttributeError\u001b[0m                            Traceback (most recent call last)",
      "\u001b[1;32m~\\AppData\\Local\\Temp\\ipykernel_15804\\4088196181.py\u001b[0m in \u001b[0;36m<module>\u001b[1;34m\u001b[0m\n\u001b[0;32m      2\u001b[0m \u001b[0mlast_and_name\u001b[0m \u001b[1;33m=\u001b[0m \u001b[1;33m[\u001b[0m \u001b[1;34m\"CORNEJO SANCHEZ, CHRISTIAN SANTOS\"\u001b[0m\u001b[1;33m,\u001b[0m \u001b[1;34m\"ORELLANA QUISPE, CRISTIAN NASSER\"\u001b[0m\u001b[1;33m,\u001b[0m \u001b[1;34m\"MORALES CHOQUEHUANCA, ANGELICA KARINA\"\u001b[0m\u001b[1;33m,\u001b[0m \u001b[1;34m\"GUIMARAY RIBEYRO, JOSE ROBERTO\"\u001b[0m\u001b[1;33m,\u001b[0m \u001b[1;34m\"CAMACHO GAVIDIA, ABEL FERNANDO\"\u001b[0m\u001b[1;33m,\u001b[0m \u001b[1;34m\"TINTAYA ORIHUELA, MEIR ALVARO\"\u001b[0m\u001b[1;33m,\u001b[0m \u001b[1;34m\"CHAVEZ MARTINEZ, JOSELIN ALEXANDRA\"\u001b[0m\u001b[1;33m,\u001b[0m \u001b[1;34m\"FIGUEROA MURO, LEONEL ARTURO\"\u001b[0m\u001b[1;33m,\u001b[0m \u001b[1;34m\"GOMEZ CRIBILLERO, JOSE FELIPE\"\u001b[0m\u001b[1;33m,\u001b[0m \u001b[1;34m\"PALOMINO SEGUÍN, AFRANIA\"\u001b[0m\u001b[1;33m,\u001b[0m \u001b[1;34m\"LUZON CUEVA, BIANCA MARIETTE\"\u001b[0m\u001b[1;33m,\u001b[0m \u001b[1;34m\"SUAÑA ZEGARRA, ADRIAN ANDRE\"\u001b[0m\u001b[1;33m,\u001b[0m \u001b[1;34m\"SOTO POMACHAGUA, DORKAS YOMIRA JHERMY\"\u001b[0m\u001b[1;33m,\u001b[0m \u001b[1;34m\"FIORENTINO MARTINEZ, LADY ALY\"\u001b[0m\u001b[1;33m,\u001b[0m \u001b[1;34m\"LAMA MAVILA, HECTOR ANDRE\"\u001b[0m\u001b[1;33m,\u001b[0m \u001b[1;34m\"MEZA HINOJO, GUSTAVO\"\u001b[0m\u001b[1;33m,\u001b[0m \u001b[1;34m\"LOZADA MURILLO, PERSEO MARCELO\"\u001b[0m\u001b[1;33m,\u001b[0m \u001b[1;34m\"ZAMBRANO JIMENEZ, MIGUEL ALONZO\"\u001b[0m\u001b[1;33m,\u001b[0m \u001b[1;34m\"JACOBS LUQUE, NICOLAS\"\u001b[0m\u001b[1;33m,\u001b[0m \u001b[1;34m\"VIDAL VIDAL, ROCIO GABRIELA\"\u001b[0m\u001b[1;33m,\u001b[0m \u001b[1;34m\"TORRES ANICAMA, JANE CAMILA\"\u001b[0m\u001b[1;33m,\u001b[0m \u001b[1;34m\"LOPEZ ESTRADA, MARIA ELISA\"\u001b[0m\u001b[1;33m,\u001b[0m \u001b[1;34m\"BOYCO ORAMS, ALEJANDRO\"\u001b[0m\u001b[1;33m,\u001b[0m \u001b[1;34m\"DIAZ BERROSPI, KARLINE ROSMELI\"\u001b[0m\u001b[1;33m,\u001b[0m \u001b[1;34m\"RIEGA ESCALANTE, STEPHY ROSARIO\"\u001b[0m\u001b[1;33m,\u001b[0m \u001b[1;34m\"LEVANO TORRES, VALERIA CECILIA\"\u001b[0m\u001b[1;33m,\u001b[0m \u001b[1;34m\"ESQUIVES BRAVO, SEBASTIAN RENATO\"\u001b[0m\u001b[1;33m,\u001b[0m \u001b[1;34m\"PEREZ GONZALES, JUAN CARLOS\"\u001b[0m\u001b[1;33m,\u001b[0m \u001b[1;34m\"OTERO MAGUIÑA, MARIANA\"\u001b[0m\u001b[1;33m,\u001b[0m \u001b[1;34m\"CLAVO CAMPOS, ANDREA BRIZETH\"\u001b[0m\u001b[1;33m,\u001b[0m \u001b[1;34m\"AGUILAR GARCIA, ERICK JOSUE\"\u001b[0m\u001b[1;33m,\u001b[0m \u001b[1;34m\"CALDAS VELASQUEZ, JOSUE DANIEL\"\u001b[0m\u001b[1;33m,\u001b[0m \u001b[1;34m\"SALAS NUÑEZ BORJA, FABIO MANUEL\"\u001b[0m\u001b[1;33m,\u001b[0m \u001b[1;34m\"PIZARRO VILLANES, FERNANDA NICOLLE\"\u001b[0m\u001b[1;33m,\u001b[0m \u001b[1;34m\"QUILLATUPA MORALES, ANGELA ADELINA\"\u001b[0m\u001b[1;33m,\u001b[0m \u001b[1;34m\"HUANCAYA IDONE, CESAR DANTE\"\u001b[0m\u001b[1;33m,\u001b[0m \u001b[1;34m\"CALVO PORTOCARRERO, GABRIELA ISABEL\"\u001b[0m\u001b[1;33m,\u001b[0m \u001b[1;34m\"IBAÑEZ ABANTO, ANGEL MAURICIO\"\u001b[0m\u001b[1;33m,\u001b[0m \u001b[1;34m\"MELÉNDEZ APONTE, JUAN DIEGO\"\u001b[0m\u001b[1;33m,\u001b[0m \u001b[1;34m\"CRISTIAN SERRANO, ARONE\"\u001b[0m\u001b[1;33m,\u001b[0m \u001b[1;34m\"HINOJOSA CAHUANA, PERCY ALBERTH\"\u001b[0m\u001b[1;33m,\u001b[0m \u001b[1;34m\"ANGLAS GARCÍA, KEVIN ARTURO\"\u001b[0m\u001b[1;33m,\u001b[0m \u001b[1;34m\"ALDAVE ACOSTA, CESAR ERNESTO\"\u001b[0m\u001b[1;33m,\u001b[0m \u001b[1;34m\"NÚÑEZ HUAMÁN, CÉSAR AGUSTO\"\u001b[0m\u001b[1;33m,\u001b[0m \u001b[1;34m\"OBREGON HUAMAN, DIANA EDITH\"\u001b[0m\u001b[1;33m,\u001b[0m \u001b[1;34m\"SOTO PACHERRES, RODRIGO FRANCO\"\u001b[0m\u001b[1;33m,\u001b[0m \u001b[1;34m\"INGARUCA RIVERA, GRETTEL ALEXANDRA\"\u001b[0m\u001b[1;33m,\u001b[0m \u001b[1;34m\"ROJAS HUAMAN, ROSA ANGELA\"\u001b[0m\u001b[1;33m,\u001b[0m \u001b[1;34m\"NEYRA SALAS, DANTE OMAR\"\u001b[0m\u001b[1;33m,\u001b[0m \u001b[1;34m\"HUERTA ESPINOZA, YAJAIRA ALEXANDRA\"\u001b[0m\u001b[1;33m,\u001b[0m \u001b[1;34m\"HUANCA MARTINEZ, JORGE ALBERTO\"\u001b[0m\u001b[1;33m,\u001b[0m \u001b[1;34m\"FLORES CADILLO, ALEXIS\"\u001b[0m \u001b[1;33m]\u001b[0m\u001b[1;33m\u001b[0m\u001b[1;33m\u001b[0m\u001b[0m\n\u001b[0;32m      3\u001b[0m \u001b[1;33m\u001b[0m\u001b[0m\n\u001b[1;32m----> 4\u001b[1;33m \u001b[0mtest\u001b[0m \u001b[1;33m=\u001b[0m \u001b[0mlist\u001b[0m\u001b[1;33m(\u001b[0m\u001b[0mmap\u001b[0m\u001b[1;33m(\u001b[0m\u001b[0msplit\u001b[0m\u001b[1;33m,\u001b[0m \u001b[0mtest\u001b[0m\u001b[1;33m)\u001b[0m\u001b[1;33m)\u001b[0m\u001b[1;33m\u001b[0m\u001b[1;33m\u001b[0m\u001b[0m\n\u001b[0m\u001b[0;32m      5\u001b[0m \u001b[0mprint\u001b[0m\u001b[1;33m(\u001b[0m\u001b[0mtest\u001b[0m\u001b[1;33m)\u001b[0m\u001b[1;33m\u001b[0m\u001b[1;33m\u001b[0m\u001b[0m\n",
      "\u001b[1;32m~\\AppData\\Local\\Temp\\ipykernel_15804\\2476904378.py\u001b[0m in \u001b[0;36msplit\u001b[1;34m(n)\u001b[0m\n\u001b[0;32m      1\u001b[0m \u001b[1;32mdef\u001b[0m \u001b[0msplit\u001b[0m\u001b[1;33m(\u001b[0m\u001b[0mn\u001b[0m\u001b[1;33m)\u001b[0m\u001b[1;33m:\u001b[0m\u001b[1;33m\u001b[0m\u001b[1;33m\u001b[0m\u001b[0m\n\u001b[1;32m----> 2\u001b[1;33m     \u001b[1;32mreturn\u001b[0m \u001b[0mn\u001b[0m\u001b[1;33m.\u001b[0m\u001b[0msplit\u001b[0m\u001b[1;33m(\u001b[0m\u001b[1;34m\" ,\"\u001b[0m\u001b[1;33m)\u001b[0m\u001b[1;33m\u001b[0m\u001b[1;33m\u001b[0m\u001b[0m\n\u001b[0m\u001b[0;32m      3\u001b[0m \u001b[1;33m\u001b[0m\u001b[0m\n\u001b[0;32m      4\u001b[0m \u001b[0mlast_and_name\u001b[0m \u001b[1;33m=\u001b[0m \u001b[1;33m[\u001b[0m \u001b[1;34m\"CORNEJO SANCHEZ, CHRISTIAN SANTOS\"\u001b[0m\u001b[1;33m,\u001b[0m \u001b[1;34m\"ORELLANA QUISPE, CRISTIAN NASSER\"\u001b[0m\u001b[1;33m,\u001b[0m \u001b[1;34m\"MORALES CHOQUEHUANCA, ANGELICA KARINA\"\u001b[0m\u001b[1;33m,\u001b[0m \u001b[1;34m\"GUIMARAY RIBEYRO, JOSE ROBERTO\"\u001b[0m\u001b[1;33m,\u001b[0m \u001b[1;34m\"CAMACHO GAVIDIA, ABEL FERNANDO\"\u001b[0m\u001b[1;33m,\u001b[0m \u001b[1;34m\"TINTAYA ORIHUELA, MEIR ALVARO\"\u001b[0m\u001b[1;33m,\u001b[0m \u001b[1;34m\"CHAVEZ MARTINEZ, JOSELIN ALEXANDRA\"\u001b[0m\u001b[1;33m,\u001b[0m \u001b[1;34m\"FIGUEROA MURO, LEONEL ARTURO\"\u001b[0m\u001b[1;33m,\u001b[0m \u001b[1;34m\"GOMEZ CRIBILLERO, JOSE FELIPE\"\u001b[0m\u001b[1;33m,\u001b[0m \u001b[1;34m\"PALOMINO SEGUÍN, AFRANIA\"\u001b[0m\u001b[1;33m,\u001b[0m \u001b[1;34m\"LUZON CUEVA, BIANCA MARIETTE\"\u001b[0m\u001b[1;33m,\u001b[0m \u001b[1;34m\"SUAÑA ZEGARRA, ADRIAN ANDRE\"\u001b[0m\u001b[1;33m,\u001b[0m \u001b[1;34m\"SOTO POMACHAGUA, DORKAS YOMIRA JHERMY\"\u001b[0m\u001b[1;33m,\u001b[0m \u001b[1;34m\"FIORENTINO MARTINEZ, LADY ALY\"\u001b[0m\u001b[1;33m,\u001b[0m \u001b[1;34m\"LAMA MAVILA, HECTOR ANDRE\"\u001b[0m\u001b[1;33m,\u001b[0m \u001b[1;34m\"MEZA HINOJO, GUSTAVO\"\u001b[0m\u001b[1;33m,\u001b[0m \u001b[1;34m\"LOZADA MURILLO, PERSEO MARCELO\"\u001b[0m\u001b[1;33m,\u001b[0m \u001b[1;34m\"ZAMBRANO JIMENEZ, MIGUEL ALONZO\"\u001b[0m\u001b[1;33m,\u001b[0m \u001b[1;34m\"JACOBS LUQUE, NICOLAS\"\u001b[0m\u001b[1;33m,\u001b[0m \u001b[1;34m\"VIDAL VIDAL, ROCIO GABRIELA\"\u001b[0m\u001b[1;33m,\u001b[0m \u001b[1;34m\"TORRES ANICAMA, JANE CAMILA\"\u001b[0m\u001b[1;33m,\u001b[0m \u001b[1;34m\"LOPEZ ESTRADA, MARIA ELISA\"\u001b[0m\u001b[1;33m,\u001b[0m \u001b[1;34m\"BOYCO ORAMS, ALEJANDRO\"\u001b[0m\u001b[1;33m,\u001b[0m \u001b[1;34m\"DIAZ BERROSPI, KARLINE ROSMELI\"\u001b[0m\u001b[1;33m,\u001b[0m \u001b[1;34m\"RIEGA ESCALANTE, STEPHY ROSARIO\"\u001b[0m\u001b[1;33m,\u001b[0m \u001b[1;34m\"LEVANO TORRES, VALERIA CECILIA\"\u001b[0m\u001b[1;33m,\u001b[0m \u001b[1;34m\"ESQUIVES BRAVO, SEBASTIAN RENATO\"\u001b[0m\u001b[1;33m,\u001b[0m \u001b[1;34m\"PEREZ GONZALES, JUAN CARLOS\"\u001b[0m\u001b[1;33m,\u001b[0m \u001b[1;34m\"OTERO MAGUIÑA, MARIANA\"\u001b[0m\u001b[1;33m,\u001b[0m \u001b[1;34m\"CLAVO CAMPOS, ANDREA BRIZETH\"\u001b[0m\u001b[1;33m,\u001b[0m \u001b[1;34m\"AGUILAR GARCIA, ERICK JOSUE\"\u001b[0m\u001b[1;33m,\u001b[0m \u001b[1;34m\"CALDAS VELASQUEZ, JOSUE DANIEL\"\u001b[0m\u001b[1;33m,\u001b[0m \u001b[1;34m\"SALAS NUÑEZ BORJA, FABIO MANUEL\"\u001b[0m\u001b[1;33m,\u001b[0m \u001b[1;34m\"PIZARRO VILLANES, FERNANDA NICOLLE\"\u001b[0m\u001b[1;33m,\u001b[0m \u001b[1;34m\"QUILLATUPA MORALES, ANGELA ADELINA\"\u001b[0m\u001b[1;33m,\u001b[0m \u001b[1;34m\"HUANCAYA IDONE, CESAR DANTE\"\u001b[0m\u001b[1;33m,\u001b[0m \u001b[1;34m\"CALVO PORTOCARRERO, GABRIELA ISABEL\"\u001b[0m\u001b[1;33m,\u001b[0m \u001b[1;34m\"IBAÑEZ ABANTO, ANGEL MAURICIO\"\u001b[0m\u001b[1;33m,\u001b[0m \u001b[1;34m\"MELÉNDEZ APONTE, JUAN DIEGO\"\u001b[0m\u001b[1;33m,\u001b[0m \u001b[1;34m\"CRISTIAN SERRANO, ARONE\"\u001b[0m\u001b[1;33m,\u001b[0m \u001b[1;34m\"HINOJOSA CAHUANA, PERCY ALBERTH\"\u001b[0m\u001b[1;33m,\u001b[0m \u001b[1;34m\"ANGLAS GARCÍA, KEVIN ARTURO\"\u001b[0m\u001b[1;33m,\u001b[0m \u001b[1;34m\"ALDAVE ACOSTA, CESAR ERNESTO\"\u001b[0m\u001b[1;33m,\u001b[0m \u001b[1;34m\"NÚÑEZ HUAMÁN, CÉSAR AGUSTO\"\u001b[0m\u001b[1;33m,\u001b[0m \u001b[1;34m\"OBREGON HUAMAN, DIANA EDITH\"\u001b[0m\u001b[1;33m,\u001b[0m \u001b[1;34m\"SOTO PACHERRES, RODRIGO FRANCO\"\u001b[0m\u001b[1;33m,\u001b[0m \u001b[1;34m\"INGARUCA RIVERA, GRETTEL ALEXANDRA\"\u001b[0m\u001b[1;33m,\u001b[0m \u001b[1;34m\"ROJAS HUAMAN, ROSA ANGELA\"\u001b[0m\u001b[1;33m,\u001b[0m \u001b[1;34m\"NEYRA SALAS, DANTE OMAR\"\u001b[0m\u001b[1;33m,\u001b[0m \u001b[1;34m\"HUERTA ESPINOZA, YAJAIRA ALEXANDRA\"\u001b[0m\u001b[1;33m,\u001b[0m \u001b[1;34m\"HUANCA MARTINEZ, JORGE ALBERTO\"\u001b[0m\u001b[1;33m,\u001b[0m \u001b[1;34m\"FLORES CADILLO, ALEXIS\"\u001b[0m \u001b[1;33m]\u001b[0m\u001b[1;33m\u001b[0m\u001b[1;33m\u001b[0m\u001b[0m\n\u001b[0;32m      5\u001b[0m \u001b[0mnames\u001b[0m \u001b[1;33m=\u001b[0m \u001b[0mmap\u001b[0m\u001b[1;33m(\u001b[0m\u001b[0msplit\u001b[0m\u001b[1;33m,\u001b[0m \u001b[0mlast_and_name\u001b[0m\u001b[1;33m)\u001b[0m\u001b[1;33m\u001b[0m\u001b[1;33m\u001b[0m\u001b[0m\n",
      "\u001b[1;31mAttributeError\u001b[0m: 'int' object has no attribute 'split'"
     ]
    }
   ],
   "source": [
    "# List of strings\n",
    "last_and_name = [ \"CORNEJO SANCHEZ, CHRISTIAN SANTOS\", \"ORELLANA QUISPE, CRISTIAN NASSER\", \"MORALES CHOQUEHUANCA, ANGELICA KARINA\", \"GUIMARAY RIBEYRO, JOSE ROBERTO\", \"CAMACHO GAVIDIA, ABEL FERNANDO\", \"TINTAYA ORIHUELA, MEIR ALVARO\", \"CHAVEZ MARTINEZ, JOSELIN ALEXANDRA\", \"FIGUEROA MURO, LEONEL ARTURO\", \"GOMEZ CRIBILLERO, JOSE FELIPE\", \"PALOMINO SEGUÍN, AFRANIA\", \"LUZON CUEVA, BIANCA MARIETTE\", \"SUAÑA ZEGARRA, ADRIAN ANDRE\", \"SOTO POMACHAGUA, DORKAS YOMIRA JHERMY\", \"FIORENTINO MARTINEZ, LADY ALY\", \"LAMA MAVILA, HECTOR ANDRE\", \"MEZA HINOJO, GUSTAVO\", \"LOZADA MURILLO, PERSEO MARCELO\", \"ZAMBRANO JIMENEZ, MIGUEL ALONZO\", \"JACOBS LUQUE, NICOLAS\", \"VIDAL VIDAL, ROCIO GABRIELA\", \"TORRES ANICAMA, JANE CAMILA\", \"LOPEZ ESTRADA, MARIA ELISA\", \"BOYCO ORAMS, ALEJANDRO\", \"DIAZ BERROSPI, KARLINE ROSMELI\", \"RIEGA ESCALANTE, STEPHY ROSARIO\", \"LEVANO TORRES, VALERIA CECILIA\", \"ESQUIVES BRAVO, SEBASTIAN RENATO\", \"PEREZ GONZALES, JUAN CARLOS\", \"OTERO MAGUIÑA, MARIANA\", \"CLAVO CAMPOS, ANDREA BRIZETH\", \"AGUILAR GARCIA, ERICK JOSUE\", \"CALDAS VELASQUEZ, JOSUE DANIEL\", \"SALAS NUÑEZ BORJA, FABIO MANUEL\", \"PIZARRO VILLANES, FERNANDA NICOLLE\", \"QUILLATUPA MORALES, ANGELA ADELINA\", \"HUANCAYA IDONE, CESAR DANTE\", \"CALVO PORTOCARRERO, GABRIELA ISABEL\", \"IBAÑEZ ABANTO, ANGEL MAURICIO\", \"MELÉNDEZ APONTE, JUAN DIEGO\", \"CRISTIAN SERRANO, ARONE\", \"HINOJOSA CAHUANA, PERCY ALBERTH\", \"ANGLAS GARCÍA, KEVIN ARTURO\", \"ALDAVE ACOSTA, CESAR ERNESTO\", \"NÚÑEZ HUAMÁN, CÉSAR AGUSTO\", \"OBREGON HUAMAN, DIANA EDITH\", \"SOTO PACHERRES, RODRIGO FRANCO\", \"INGARUCA RIVERA, GRETTEL ALEXANDRA\", \"ROJAS HUAMAN, ROSA ANGELA\", \"NEYRA SALAS, DANTE OMAR\", \"HUERTA ESPINOZA, YAJAIRA ALEXANDRA\", \"HUANCA MARTINEZ, JORGE ALBERTO\", \"FLORES CADILLO, ALEXIS\" ]\n",
    "  \n",
    "test = list(map(split, test))\n",
    "print(test)"
   ]
  },
  {
   "cell_type": "markdown",
   "metadata": {},
   "source": [
    "## 1.3 Strings\n",
    "\n",
    "\n",
    "1. Drop the duplicated blank spaces in `str1`. Do not use the regular expresions. Do not use the code shown in class. Explain your steps.**Hint: Use `split` method and `join` function.**\n",
    "\n",
    "2. Get the number of letters in the string .**Hint: Use `len`function.**\n",
    "\n",
    "3. Get the number of blank spaces (all of them) in the string .**Hint: Use `len`function.**\n",
    "\n",
    "4. Get the position of `@` in each string in the emails list. **Hint: Use `map`function and `find` method.**\n",
    "\n",
    "5. Identifies if exists `.edu.`  in each string in the `emails` list. Get a list of Booleans. **Hint: Use `map`function and `find` method.**\n",
    "\n",
    "6. Get all the strings before the first dot `.`in each string in the `emails` list. Identifies how many of them has `@`. **Hint: Use `map`function and `find` method.**"
   ]
  },
  {
   "cell_type": "code",
   "execution_count": null,
   "metadata": {},
   "outputs": [],
   "source": [
    "str1 = 'I am                            too                                                        old'"
   ]
  },
  {
   "cell_type": "code",
   "execution_count": 18,
   "metadata": {},
   "outputs": [],
   "source": [
    "emails = [\"cscornejo@pucp.edu.pe\", \"orellana.cn@pucp.edu.pe\", \"karina.morales@pucp.edu.pe\", \"a20083223@pucp.pe\", \"abel.camacho@pucp.pe\", \"mtintaya@pucp.edu.pe\", \"joselin.chavez@pucp.edu.pe\", \"a20105737@pucp.pe\", \"jfgomezc@pucp.pe\", \"afrania.palomino@pucp.pe\", \"luzon.bianca@pucp.pe\", \"adrian.suanaz@pucp.pe\", \"soto.y@pucp.edu.pe\", \"a20132766@pucp.pe\", \"andre.lama@pucp.edu.pe\", \"gustavo.meza@pucp.edu.pe\", \"pmlozada@pucp.edu.pe\", \"m.zambranoj@pucp.edu.pe\", \"nicolas.jacobs@pucp.edu.pe\", \"gvidal@pucp.edu.pe\", \"jane.torres@pucp.edu.pe\", \"m.lopez@pucp.edu.pe\", \"alejandro.boyco@pucp.edu.pe\", \"a20167070@pucp.edu.pe\", \"riega.stephy@pucp.edu.pe\", \"vlevanot@pucp.edu.pe\", \"sesquives@pucp.edu.pe\", \"perez.juanc@pucp.edu.pe\", \"mariana.otero@pucp.edu.pe\", \"aclavo@pucp.edu.pe\", \"a20182474@pucp.edu.pe\", \"josue.caldas@pucp.edu.pe\", \"fabio.salas@pucp.edu.pe\", \"fernanda.pizarro@pucp.edu.pe\", \"aquillatupa@pucp.pe\"]"
   ]
  },
  {
   "cell_type": "markdown",
   "metadata": {},
   "source": [
    "## 1.1 Dictionaries\n",
    "1. Create a dictionary with two keys: `even_numbers` and `odd_numbers`. The first key should have all the even numbers in this range `[0, 2000]`, and the second key must have all the odd numbers in this range `[9000, 19000]`. The values should be stored in a `list`. **Hint: Use the `np.arange`, `zip`, and `np.tolist()` functions.** <br><br>\n",
    "2. Print the value of `brand` key of `car` dictionary. **Hint: Use the `get` method.** <br><br>\n",
    "3. Print all the the values of `brand` key of `car` dictionary. **Hint: Use the `values` method.** <br><br>\n",
    "4. Print the max value  of `friday` in `january` of `hr_sleep` dictionary. **Hint: [Indexing in nested dictioanries](https://stackoverflow.com/questions/25836376/how-to-get-the-inner-indexes-of-a-nested-dictionary-in-python).** <br><br>\n",
    "5. Add `march` key to the `hr_sleep` dictionary using `week1` and `values2` Python lists. **Hint: Use `zip` function adn [this link](https://stackoverflow.com/questions/1024847/how-can-i-add-new-keys-to-a-dictionary).** <br><br>"
   ]
  },
  {
   "cell_type": "code",
   "execution_count": 1,
   "metadata": {},
   "outputs": [],
   "source": [
    "car = {\n",
    "  \"brand\": \"Ford\",\n",
    "  \"model\": \"Mustang\",\n",
    "  \"year\": 1964\n",
    "}\n",
    "\n",
    "hr_sleep = {\"january\": {\"wednesday\": 7,\n",
    "                      \"thursday\": 8,\n",
    "                      \"friday\": [2, 2, 1, 2]},\n",
    "          \"february\": {\"saturday\": 5,\n",
    "                       \"sunday\": 10,\n",
    "                       \"monday\": 8\n",
    "          }\n",
    "}"
   ]
  },
  {
   "cell_type": "code",
   "execution_count": 2,
   "metadata": {},
   "outputs": [],
   "source": [
    "week1 = ['monday', 'sunday']\n",
    "values2 = [ [2, 3, 4 ] , 8, ]"
   ]
  },
  {
   "cell_type": "code",
   "execution_count": null,
   "metadata": {},
   "outputs": [],
   "source": []
  }
 ],
 "metadata": {
  "hide_input": false,
  "kernelspec": {
   "display_name": "Python 3 (ipykernel)",
   "language": "python",
   "name": "python3"
  },
  "language_info": {
   "codemirror_mode": {
    "name": "ipython",
    "version": 3
   },
   "file_extension": ".py",
   "mimetype": "text/x-python",
   "name": "python",
   "nbconvert_exporter": "python",
   "pygments_lexer": "ipython3",
   "version": "3.9.13"
  },
  "toc": {
   "base_numbering": 1,
   "nav_menu": {},
   "number_sections": true,
   "sideBar": true,
   "skip_h1_title": false,
   "title_cell": "Table of Contents",
   "title_sidebar": "Contents",
   "toc_cell": false,
   "toc_position": {},
   "toc_section_display": true,
   "toc_window_display": false
  }
 },
 "nbformat": 4,
 "nbformat_minor": 4
}
