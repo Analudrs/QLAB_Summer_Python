{
 "cells": [
  {
   "cell_type": "markdown",
   "id": "bc677f0d",
   "metadata": {},
   "source": [
    "## 1.2 Lists\n",
    "\n",
    "1 - Show the indices of the np.nan values in the f_list list. We want to see this output: The indices 0, 1, 4, 7 have np.nan values. Hint: Use print function and f-strings to insert the indices values.\n",
    "\n",
    "\n",
    "2 - Replicate 4 times the values of the list p2_list. We expect an ouput like this: [ 2 , 3, 4, 5, 2 , 3, 4, 5, 2 , 3, 4, 5, 2 , 3, 4, 5]. Hint: Use multiplication function in listsand see the output.\n",
    "\n",
    "\n",
    "3 - Print the length of f_list. Hint: Length function\n",
    "\n",
    "\n",
    "4 - Print My teacher assistant is so boring. using text1 list. Hint: Use the join function\n",
    "\n",
    "\n",
    "5 - Print My TA is so boring, but is very funny. using text1 list.Hint: Use the join function, and extend method.\n",
    "\n",
    "\n",
    "Print\n",
    "\n",
    "The max value of values1 is 86 and is located in the 0 index.\n",
    "The min value of values1 is 0 and is located in the 7 index.\n",
    "Hint: Use the f-string, min, and max functions.\n",
    "\n",
    "7 - Get two lists: `names` and `last_names` using `last_and_name` list. **Hint: Use `map` and `split`.**\n",
    "\n",
    "8 - Give only the last names of students who do not have email. Use the `emails` and `last_names` listt. **Hint: Use `map` and `split`.**"
   ]
  },
  {
   "cell_type": "markdown",
   "id": "29504dc0",
   "metadata": {},
   "source": [
    "## 1.3 Strings\n",
    "\n",
    "1 - Drop the duplicated blank spaces in str1. Do not use the regular expresions. Do not use the code shown in class. Explain your steps.Hint: Use split method and join function.\n",
    "\n",
    "2 - Get the number of letters in the string .Hint: Use lenfunction.\n",
    "\n",
    "3 - Get the number of blank spaces (all of them) in the string .Hint: Use lenfunction.\n",
    "\n",
    "4 - Get the position of @ in each string in the emails list. Hint: Use mapfunction and find method.\n",
    "\n",
    "5 - Identifies if exists .edu. in each string in the emails list. Get a list of Booleans. Hint: Use mapfunction and find method.\n",
    "\n",
    "6 - Get all the strings before the first dot .in each string in the emails list. Identifies how many of them has @. Hint: Use mapfunction and find method."
   ]
  },
  {
   "cell_type": "markdown",
   "id": "c40b32db",
   "metadata": {},
   "source": [
    "## 1.4 Pandas\n",
    "\n",
    "You can and should always ask ChatGPT, BARD, Bing, etc. In this exercise, you will work with financial data. Follow the steps below:\n",
    "\n",
    "1 - Load Data: Load the financial data available at this URL: https://raw.githubusercontent.com/datasets/finance-vix/main/data/vix-daily.csv Use pd.read_csv() adn the link to load the data into a DataFrame.\n",
    "\n",
    "2 - Explore Data: a) Display the first five rows of the DataFrame. b) Display the summary statistics of the DataFrame.\n",
    "\n",
    "3 - Add Columns: a) Add a new column 'Level' that categorizes the 'Close' column values into 'Low' (< 20), 'Medium' (20-30), and 'High' (>30). You need to make a filter to make this categorization. You can see below some suggestions how to do it. b) Add a new column 'Year' extracted from the 'Date' column. You need to work with dates. You can do it directly workiwith the column splitting it or changing it to date format an dfollowing the below suggestion.\n",
    "\n",
    "4 - Add Rows: a) Add a new row with a date of your choice and fill the other columns with appropriate values.\n",
    "\n",
    "5 - Analysis: a) Calculate the average of the column 'Close' for each 'Year'. You need to group for this task. b) Count the number of 'High', 'Medium', and 'Low' Level days in the data.\n",
    "\n",
    "Suggestions:\n",
    "\n",
    "Use pd.cut() for categorizing 'Close' values.\n",
    "Use pd.to_datetime() and dt.year to extract the year from a date.\n",
    "Use DataFrame.append() or pd.concat() to add rows.\n",
    "Use groupby() for aggregation tasks."
   ]
  }
 ],
 "metadata": {
  "kernelspec": {
   "display_name": "Python 3 (ipykernel)",
   "language": "python",
   "name": "python3"
  },
  "language_info": {
   "codemirror_mode": {
    "name": "ipython",
    "version": 3
   },
   "file_extension": ".py",
   "mimetype": "text/x-python",
   "name": "python",
   "nbconvert_exporter": "python",
   "pygments_lexer": "ipython3",
   "version": "3.11.5"
  }
 },
 "nbformat": 4,
 "nbformat_minor": 5
}
