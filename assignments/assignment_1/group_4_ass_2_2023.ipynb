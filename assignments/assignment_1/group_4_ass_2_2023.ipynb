{
 "cells": [
  {
   "cell_type": "markdown",
   "metadata": {},
   "source": [
    "# 1 Assignment\n",
    "\n",
    "It is totally prohibited to use any kind of loop. You can use stackoverflow. If you copy codes from previous answers, explain each step. No explanation is `0 points`."
   ]
  },
  {
   "cell_type": "markdown",
   "metadata": {},
   "source": [
    "## 1.1 Tuple\n",
    "\n",
    "\n",
    "\n",
    "1. Print the first item of the second item of `tuple1` object. **Hint: Use indexing**<br><br>\n",
    "2. Print the last item of the `tuple1` object.**Hint: Use indexing**<br><br>\n",
    "3. Change the value \"orange\" for \"pink grapefruit\". Comment the output. **Hint: Is it possible?** <br><br>\n",
    "4. Print the length of `tuple1`. **Hint: Length function**<br><br>\n",
    "5. Sum all the elements of tuple2 and describe your steps and explain each of them. **Hint: Use `map` function.**<br><br>\n",
    "6. Generate a new tuple object named as `tuple3` with the half values of `tuple2`. This tuple should be similar as `tuple2`, tuple of lists.  **Hint: Use `map` funciont.**<br><br>"
   ]
  },
  {
   "cell_type": "code",
   "execution_count": 57,
   "metadata": {},
   "outputs": [
    {
     "name": "stdout",
     "output_type": "stream",
     "text": [
      "10\n"
     ]
    }
   ],
   "source": [
    "tuple1 = (\"Orange\", [10, 20, 30], (5, 15, 25))\n",
    "tuple2 = ([7, 8], [9, 1], [10, 7])\n",
    "\n",
    "#1\n",
    "ex1 = tuple1[1] #We extract the first element from the tuple and create an object\n",
    "ex1\n",
    "print(ex1[0]) # We extract the first item of the new object"
   ]
  },
  {
   "cell_type": "code",
   "execution_count": 58,
   "metadata": {},
   "outputs": [
    {
     "name": "stdout",
     "output_type": "stream",
     "text": [
      "(5, 15, 25)\n"
     ]
    }
   ],
   "source": [
    "# 2\n",
    "print(tuple1[2]) #We print the last item of the tuple1 object"
   ]
  },
  {
   "cell_type": "code",
   "execution_count": 59,
   "metadata": {},
   "outputs": [
    {
     "ename": "TypeError",
     "evalue": "'tuple' object does not support item assignment",
     "output_type": "error",
     "traceback": [
      "\u001b[1;31m---------------------------------------------------------------------------\u001b[0m",
      "\u001b[1;31mTypeError\u001b[0m                                 Traceback (most recent call last)",
      "\u001b[1;32m~\\AppData\\Local\\Temp\\ipykernel_20488\\1786243876.py\u001b[0m in \u001b[0;36m<module>\u001b[1;34m\u001b[0m\n\u001b[0;32m      1\u001b[0m \u001b[1;31m# 3\u001b[0m\u001b[1;33m\u001b[0m\u001b[1;33m\u001b[0m\u001b[0m\n\u001b[1;32m----> 2\u001b[1;33m \u001b[0mtuple1\u001b[0m\u001b[1;33m[\u001b[0m\u001b[1;36m0\u001b[0m\u001b[1;33m]\u001b[0m \u001b[1;33m=\u001b[0m \u001b[1;34m\"pink grapefruit\"\u001b[0m\u001b[1;33m\u001b[0m\u001b[1;33m\u001b[0m\u001b[0m\n\u001b[0m\u001b[0;32m      3\u001b[0m \u001b[1;31m# As we see, this is not possible because we cannot change the values of a tuple\u001b[0m\u001b[1;33m\u001b[0m\u001b[1;33m\u001b[0m\u001b[0m\n",
      "\u001b[1;31mTypeError\u001b[0m: 'tuple' object does not support item assignment"
     ]
    }
   ],
   "source": [
    "# 3\n",
    "tuple1[0] = \"pink grapefruit\"\n",
    "# As we see, this is not possible because we cannot change the values of a tuple"
   ]
  },
  {
   "cell_type": "code",
   "execution_count": null,
   "metadata": {},
   "outputs": [
    {
     "name": "stdout",
     "output_type": "stream",
     "text": [
      "3\n"
     ]
    }
   ],
   "source": [
    "# 4\n",
    "print(len(tuple1)) #We print the lenght of the tuple"
   ]
  },
  {
   "cell_type": "code",
   "execution_count": 60,
   "metadata": {},
   "outputs": [
    {
     "name": "stdout",
     "output_type": "stream",
     "text": [
      "[7, 8]\n",
      "[9, 1]\n",
      "[10, 7]\n",
      "[26, 16]\n"
     ]
    }
   ],
   "source": [
    "# 5\n",
    "a = tuple2[0] #First, we extract the items from tuple2 and create objects with each of them\n",
    "print(a)\n",
    "b = tuple2[1]\n",
    "print(b)\n",
    "c = tuple2[2]\n",
    "print(c)\n",
    "\n",
    "def suma(a, b, c):\n",
    "    return(a + b + c) #We then define a function for adding the objects as vectors\n",
    "x = map(suma, a, b, c) #We use the map function to add the objects and create a new object with the result\n",
    "\n",
    "x1 = list(x) #We transform the result into a list\n",
    "\n",
    "print(x1) #We print the list"
   ]
  },
  {
   "cell_type": "code",
   "execution_count": 96,
   "metadata": {},
   "outputs": [
    {
     "name": "stdout",
     "output_type": "stream",
     "text": [
      "[(3.5, 4.5, 5.0), (4.0, 0.5, 3.5)]\n",
      "((3.5, 4.0), (4.5, 0.5), (5.0, 3.5))\n"
     ]
    }
   ],
   "source": [
    "# 6\n",
    "import numpy as np #We import numpy to divide each element of the vector\n",
    "def half(y, z, t):\n",
    "    return(np.divide(y, 2), np.divide(z, 2), np.divide(t, 2)) #Definimos una funcion para dividir cada elemento entre 2\n",
    "\n",
    "x2 = map(half, a, b, c) #We apply the function and create a new object with the result\n",
    "x3 = list(x2) #We convert the object into a list in order to print it\n",
    "print(x3)\n",
    "\n",
    "v1 = x3[0] #We extract each element of our new object\n",
    "v2 = x3[1]\n",
    "\n",
    "v3 = zip(v1, v2) #We use zip to pair the elements, which gives us 3 vectors with the half values of tuple2\n",
    "v4 = tuple(v3) #We turn this element into a tuple in order to print it\n",
    "print(v4)\n",
    "\n",
    "#We now turn each element of the tuple v4 into a list and we add them into tuple3 (the tuple of lists)\n",
    "l1 = list(v4[0])\n",
    "l2 = list(v4[1])\n",
    "l3 = list(v4[2])\n",
    "\n",
    "tuple3 = (l1, l2, l3)\n"
   ]
  },
  {
   "cell_type": "code",
   "execution_count": 97,
   "metadata": {},
   "outputs": [
    {
     "name": "stdout",
     "output_type": "stream",
     "text": [
      "([3.5, 4.0], [4.5, 0.5], [5.0, 3.5])\n"
     ]
    }
   ],
   "source": [
    "# 6\n",
    "print(tuple3) #We print our new tuple with the half values of tuple2"
   ]
  },
  {
   "cell_type": "markdown",
   "metadata": {},
   "source": [
    "## 1.2 Lists\n",
    "1. Show the indices of the `np.nan` values  in the `f_list` list. We want to see this output: `The indices 0, 1, 4, 7 have np.nan values.` **Hint: Use print function and [f-strings](https://realpython.com/python-f-strings/) to insert the indices values.**<br><br>\n",
    "\n",
    "2. Replicate 4 times the values of the list `p2_list`. We expect an ouput like this: `[ 2 , 3, 4, 5, 2 , 3, 4, 5, 2 , 3, 4, 5, 2 , 3, 4, 5]`.  **Hint: Use multiplication function in `lists`and see the output.**<br><br>\n",
    "3. Print the length of `f_list`. **Hint: Length function**<br><br>\n",
    "4. Print `My teacher assistant is so boring.` using `text1` list. **Hint: Use the [`join` function](https://stackoverflow.com/questions/493819/why-is-it-string-joinlist-instead-of-list-joinstring)**<br><br>\n",
    "5. Print `My TA is so boring, but is very funny.` using `text1` list.**Hint: Use the `join` function, and `extend` method.**<br><br>\n",
    "6. Print <br>\n",
    "`The max value of values1 is 86 and is located in the 0 index. ` <br>\n",
    "`The min value of values1 is 0 and is located in the 7 index. ` <br> **Hint: Use the `f-string`, `min`, and `max` functions.**\n",
    "<br>\n",
    "7. Get two lists: `names` and `last_names` using `last_and_name` list. **Hint: Use `map` and `split`.**\n",
    "<br>\n",
    "8. Give only the last names of students who do not have email. Use the `emails` and `last_names` listt. **Hint: Use `map` and `split`.**\n",
    "<br>"
   ]
  },
  {
   "cell_type": "code",
   "execution_count": 2,
   "metadata": {},
   "outputs": [],
   "source": [
    "import numpy as np"
   ]
  },
  {
   "cell_type": "code",
   "execution_count": 3,
   "metadata": {},
   "outputs": [],
   "source": [
    "f_list = [np.nan , np.nan, \"Austria\", \"Germany\", np.nan, \"Pakistan\", \"np.nan\", np.nan ]"
   ]
  },
  {
   "cell_type": "code",
   "execution_count": 4,
   "metadata": {},
   "outputs": [],
   "source": [
    "text1 = ['My', 'teacher', 'assistant', 'is', 'so', 'boring.']"
   ]
  },
  {
   "cell_type": "code",
   "execution_count": null,
   "metadata": {},
   "outputs": [],
   "source": [
    "p2_list = [ 2 , 3, 4, 5 ]"
   ]
  },
  {
   "cell_type": "code",
   "execution_count": 5,
   "metadata": {},
   "outputs": [],
   "source": [
    "values1 = [ 86, 86, 85, 85, 85, 83, 23, 0, 84, 1 ] "
   ]
  },
  {
   "cell_type": "code",
   "execution_count": 32,
   "metadata": {},
   "outputs": [
    {
     "data": {
      "text/plain": [
       "52"
      ]
     },
     "execution_count": 32,
     "metadata": {},
     "output_type": "execute_result"
    }
   ],
   "source": [
    "# These two lists a\n",
    "last_and_name = [ \"CORNEJO SANCHEZ, CHRISTIAN SANTOS\", \"ORELLANA QUISPE, CRISTIAN NASSER\", \"MORALES CHOQUEHUANCA, ANGELICA KARINA\", \"GUIMARAY RIBEYRO, JOSE ROBERTO\", \"CAMACHO GAVIDIA, ABEL FERNANDO\", \"TINTAYA ORIHUELA, MEIR ALVARO\", \"CHAVEZ MARTINEZ, JOSELIN ALEXANDRA\", \"FIGUEROA MURO, LEONEL ARTURO\", \"GOMEZ CRIBILLERO, JOSE FELIPE\", \"PALOMINO SEGUÍN, AFRANIA\", \"LUZON CUEVA, BIANCA MARIETTE\", \"SUAÑA ZEGARRA, ADRIAN ANDRE\", \"SOTO POMACHAGUA, DORKAS YOMIRA JHERMY\", \"FIORENTINO MARTINEZ, LADY ALY\", \"LAMA MAVILA, HECTOR ANDRE\", \"MEZA HINOJO, GUSTAVO\", \"LOZADA MURILLO, PERSEO MARCELO\", \"ZAMBRANO JIMENEZ, MIGUEL ALONZO\", \"JACOBS LUQUE, NICOLAS\", \"VIDAL VIDAL, ROCIO GABRIELA\", \"TORRES ANICAMA, JANE CAMILA\", \"LOPEZ ESTRADA, MARIA ELISA\", \"BOYCO ORAMS, ALEJANDRO\", \"DIAZ BERROSPI, KARLINE ROSMELI\", \"RIEGA ESCALANTE, STEPHY ROSARIO\", \"LEVANO TORRES, VALERIA CECILIA\", \"ESQUIVES BRAVO, SEBASTIAN RENATO\", \"PEREZ GONZALES, JUAN CARLOS\", \"OTERO MAGUIÑA, MARIANA\", \"CLAVO CAMPOS, ANDREA BRIZETH\", \"AGUILAR GARCIA, ERICK JOSUE\", \"CALDAS VELASQUEZ, JOSUE DANIEL\", \"SALAS NUÑEZ BORJA, FABIO MANUEL\", \"PIZARRO VILLANES, FERNANDA NICOLLE\", \"QUILLATUPA MORALES, ANGELA ADELINA\", \"HUANCAYA IDONE, CESAR DANTE\", \"CALVO PORTOCARRERO, GABRIELA ISABEL\", \"IBAÑEZ ABANTO, ANGEL MAURICIO\", \"MELÉNDEZ APONTE, JUAN DIEGO\", \"CRISTIAN SERRANO, ARONE\", \"HINOJOSA CAHUANA, PERCY ALBERTH\", \"ANGLAS GARCÍA, KEVIN ARTURO\", \"ALDAVE ACOSTA, CESAR ERNESTO\", \"NÚÑEZ HUAMÁN, CÉSAR AGUSTO\", \"OBREGON HUAMAN, DIANA EDITH\", \"SOTO PACHERRES, RODRIGO FRANCO\", \"INGARUCA RIVERA, GRETTEL ALEXANDRA\", \"ROJAS HUAMAN, ROSA ANGELA\", \"NEYRA SALAS, DANTE OMAR\", \"HUERTA ESPINOZA, YAJAIRA ALEXANDRA\", \"HUANCA MARTINEZ, JORGE ALBERTO\", \"FLORES CADILLO, ALEXIS\" ]\n",
    "emails = [\"cscornejo@pucp.edu.pe\", \"orellana.cn@pucp.edu.pe\", \"karina.morales@pucp.edu.pe\", \"a20083223@pucp.pe\", \"abel.camacho@pucp.pe\", \"mtintaya@pucp.edu.pe\", \"joselin.chavez@pucp.edu.pe\", \"a20105737@pucp.pe\", \"jfgomezc@pucp.pe\", \"afrania.palomino@pucp.pe\", \"luzon.bianca@pucp.pe\", \"adrian.suanaz@pucp.pe\", \"soto.y@pucp.edu.pe\", \"a20132766@pucp.pe\", \"andre.lama@pucp.edu.pe\", \"gustavo.meza@pucp.edu.pe\", \"pmlozada@pucp.edu.pe\", \"m.zambranoj@pucp.edu.pe\", \"nicolas.jacobs@pucp.edu.pe\", \"gvidal@pucp.edu.pe\", \"jane.torres@pucp.edu.pe\", \"m.lopez@pucp.edu.pe\", \"alejandro.boyco@pucp.edu.pe\", \"a20167070@pucp.edu.pe\", \"riega.stephy@pucp.edu.pe\", \"vlevanot@pucp.edu.pe\", \"sesquives@pucp.edu.pe\", \"perez.juanc@pucp.edu.pe\", \"mariana.otero@pucp.edu.pe\", \"aclavo@pucp.edu.pe\", \"a20182474@pucp.edu.pe\", \"josue.caldas@pucp.edu.pe\", \"fabio.salas@pucp.edu.pe\", \"fernanda.pizarro@pucp.edu.pe\", \"aquillatupa@pucp.pe\", \"\", \"\", \"\", \"\", \"\", \"f0873079@pucp.edu.pe\", \"\", \"\", \"\", \"\", \"\", \"\", \"\", \"\", \"\", \"\", \"flores.alexis@pucp.edu.pe\", ]"
   ]
  },
  {
   "cell_type": "markdown",
   "metadata": {},
   "source": [
    "## 1.3 Strings\n",
    "\n",
    "\n",
    "1. Drop the duplicated blank spaces in `str1`. Do not use the regular expresions. Do not use the code shown in class. Explain your steps.**Hint: Use `split` method and `join` function.**\n",
    "\n",
    "2. Get the number of letters in the string .**Hint: Use `len`function.**\n",
    "\n",
    "3. Get the number of blank spaces (all of them) in the string .**Hint: Use `len`function.**\n",
    "\n",
    "4. Get the position of `@` in each string in the emails list. **Hint: Use `map`function and `find` method.**\n",
    "\n",
    "5. Identifies if exists `.edu.`  in each string in the `emails` list. Get a list of Booleans. **Hint: Use `map`function and `find` method.**\n",
    "\n",
    "6. Get all the strings before the first dot `.`in each string in the `emails` list. Identifies how many of them has `@`. **Hint: Use `map`function and `find` method.**"
   ]
  },
  {
   "cell_type": "code",
   "execution_count": 2,
   "metadata": {},
   "outputs": [],
   "source": [
    "str1 = 'I am                            too                                                        old'"
   ]
  },
  {
   "cell_type": "code",
   "execution_count": 57,
   "metadata": {},
   "outputs": [],
   "source": [
    "emails = [\"cscornejo@pucp.edu.pe\", \"orellana.cn@pucp.edu.pe\", \"karina.morales@pucp.edu.pe\", \"a20083223@pucp.pe\", \"abel.camacho@pucp.pe\", \"mtintaya@pucp.edu.pe\", \"joselin.chavez@pucp.edu.pe\", \"a20105737@pucp.pe\", \"jfgomezc@pucp.pe\", \"afrania.palomino@pucp.pe\", \"luzon.bianca@pucp.pe\", \"adrian.suanaz@pucp.pe\", \"soto.y@pucp.edu.pe\", \"a20132766@pucp.pe\", \"andre.lama@pucp.edu.pe\", \"gustavo.meza@pucp.edu.pe\", \"pmlozada@pucp.edu.pe\", \"m.zambranoj@pucp.edu.pe\", \"nicolas.jacobs@pucp.edu.pe\", \"gvidal@pucp.edu.pe\", \"jane.torres@pucp.edu.pe\", \"m.lopez@pucp.edu.pe\", \"alejandro.boyco@pucp.edu.pe\", \"a20167070@pucp.edu.pe\", \"riega.stephy@pucp.edu.pe\", \"vlevanot@pucp.edu.pe\", \"sesquives@pucp.edu.pe\", \"perez.juanc@pucp.edu.pe\", \"mariana.otero@pucp.edu.pe\", \"aclavo@pucp.edu.pe\", \"a20182474@pucp.edu.pe\", \"josue.caldas@pucp.edu.pe\", \"fabio.salas@pucp.edu.pe\", \"fernanda.pizarro@pucp.edu.pe\", \"aquillatupa@pucp.pe\"]"
   ]
  },
  {
   "cell_type": "code",
   "execution_count": 17,
   "metadata": {},
   "outputs": [
    {
     "name": "stdout",
     "output_type": "stream",
     "text": [
      "['I', 'am', 'too', 'old']\n"
     ]
    }
   ],
   "source": [
    "#1\n",
    "## We use the split method that will separate the string in sub-strings, \n",
    "## default it will separate the string in the whitespaces the sitrng finds\n",
    "list_string= str1.split()\n",
    "print(list_string)"
   ]
  },
  {
   "cell_type": "code",
   "execution_count": 20,
   "metadata": {},
   "outputs": [
    {
     "data": {
      "text/plain": [
       "list"
      ]
     },
     "execution_count": 20,
     "metadata": {},
     "output_type": "execute_result"
    }
   ],
   "source": [
    "#Now that we have the strings separated we can join them by using the join method. \n",
    "#First we have to also make sure it´s not saved as a string, because otherwise the methos won´t work.\n",
    "#We specify in the quotation marks the type os separator we want in the join function. \n",
    "type(list_string)"
   ]
  },
  {
   "cell_type": "code",
   "execution_count": 24,
   "metadata": {},
   "outputs": [
    {
     "name": "stdout",
     "output_type": "stream",
     "text": [
      "I am too old\n"
     ]
    }
   ],
   "source": [
    "str2= \" \".join(list_string)\n",
    "print(str2)"
   ]
  },
  {
   "cell_type": "code",
   "execution_count": 50,
   "metadata": {},
   "outputs": [
    {
     "data": {
      "text/plain": [
       "94"
      ]
     },
     "execution_count": 50,
     "metadata": {},
     "output_type": "execute_result"
    }
   ],
   "source": [
    "#2\n",
    "#First we see how many characters in general the string has. That will be our base for the next step\n",
    "len(str1)"
   ]
  },
  {
   "cell_type": "code",
   "execution_count": 53,
   "metadata": {},
   "outputs": [
    {
     "name": "stdout",
     "output_type": "stream",
     "text": [
      "9\n"
     ]
    }
   ],
   "source": [
    "#then we denine a new function usign len() that will print the number of only the letters\n",
    "# create function that\n",
    "# return letter count\n",
    "def check_letter(str1):\n",
    "     \n",
    "    # define the base value that will be the general number of characters in the string\n",
    "    count = 94\n",
    "     \n",
    "    # define the loop for search each index using len() as max on the range\n",
    "    for i in range(0, len(str1)):\n",
    "         \n",
    "        # Check each char is blank or not\n",
    "        # It will subtract 1 for each space it finds\n",
    "        if str1[i] == \" \":\n",
    "            count -= 1\n",
    "         \n",
    "    return count \n",
    "# call the function and display\n",
    "print(check_letter(str1))"
   ]
  },
  {
   "cell_type": "code",
   "execution_count": 52,
   "metadata": {},
   "outputs": [
    {
     "name": "stdout",
     "output_type": "stream",
     "text": [
      "85\n"
     ]
    }
   ],
   "source": [
    "#3\n",
    "#We create a function using  len() that will count only the spaces\n",
    "# create function that\n",
    "# return space count\n",
    "def check_space(str1):\n",
    "     \n",
    "    # define the base value \n",
    "    count = 0\n",
    "     \n",
    "    # define the loop for search each index using len() as max on the range\n",
    "    for i in range(0, len(str1)):\n",
    "         \n",
    "        # Check each char is blank or not\n",
    "        # It will add 1 for each space it finds\n",
    "        if str1[i] == \" \":\n",
    "            count += 1\n",
    "         \n",
    "    return count \n",
    "# call the function and display\n",
    "print(check_space(str1))"
   ]
  },
  {
   "cell_type": "code",
   "execution_count": 182,
   "metadata": {
    "scrolled": true
   },
   "outputs": [
    {
     "name": "stdout",
     "output_type": "stream",
     "text": [
      "the location of @ in this e-mail is 9\n",
      "the location of @ in this e-mail is 11\n",
      "the location of @ in this e-mail is 14\n",
      "the location of @ in this e-mail is 9\n",
      "the location of @ in this e-mail is 12\n",
      "the location of @ in this e-mail is 8\n",
      "the location of @ in this e-mail is 14\n",
      "the location of @ in this e-mail is 9\n",
      "the location of @ in this e-mail is 8\n",
      "the location of @ in this e-mail is 16\n",
      "the location of @ in this e-mail is 12\n",
      "the location of @ in this e-mail is 13\n",
      "the location of @ in this e-mail is 6\n",
      "the location of @ in this e-mail is 9\n",
      "the location of @ in this e-mail is 10\n",
      "the location of @ in this e-mail is 12\n",
      "the location of @ in this e-mail is 8\n",
      "the location of @ in this e-mail is 11\n",
      "the location of @ in this e-mail is 14\n",
      "the location of @ in this e-mail is 6\n",
      "the location of @ in this e-mail is 11\n",
      "the location of @ in this e-mail is 7\n",
      "the location of @ in this e-mail is 15\n",
      "the location of @ in this e-mail is 9\n",
      "the location of @ in this e-mail is 12\n",
      "the location of @ in this e-mail is 8\n",
      "the location of @ in this e-mail is 9\n",
      "the location of @ in this e-mail is 11\n",
      "the location of @ in this e-mail is 13\n",
      "the location of @ in this e-mail is 6\n",
      "the location of @ in this e-mail is 9\n",
      "the location of @ in this e-mail is 12\n",
      "the location of @ in this e-mail is 11\n",
      "the location of @ in this e-mail is 16\n",
      "the location of @ in this e-mail is 11\n"
     ]
    }
   ],
   "source": [
    "#4\n",
    "#Find doesn´t work in list\n",
    "#We have to create a function that allows us to use find in each strings\n",
    "def at(place):\n",
    "    place = place.find(\"@\")#we define what we are looking\n",
    "    return place\n",
    "#we use map so we can use our new function in each string\n",
    "at_place= map(at,emails)\n",
    "for mail in at_place:\n",
    "    print(\"the location of \"\"@\"\" in this e-mail is\", mail)"
   ]
  },
  {
   "cell_type": "code",
   "execution_count": 183,
   "metadata": {},
   "outputs": [
    {
     "name": "stdout",
     "output_type": "stream",
     "text": [
      "this e-mail is from the instituton True\n",
      "this e-mail is from the instituton True\n",
      "this e-mail is from the instituton True\n",
      "this e-mail is from the instituton False\n",
      "this e-mail is from the instituton False\n",
      "this e-mail is from the instituton True\n",
      "this e-mail is from the instituton True\n",
      "this e-mail is from the instituton False\n",
      "this e-mail is from the instituton False\n",
      "this e-mail is from the instituton False\n",
      "this e-mail is from the instituton False\n",
      "this e-mail is from the instituton False\n",
      "this e-mail is from the instituton True\n",
      "this e-mail is from the instituton False\n",
      "this e-mail is from the instituton True\n",
      "this e-mail is from the instituton True\n",
      "this e-mail is from the instituton True\n",
      "this e-mail is from the instituton True\n",
      "this e-mail is from the instituton True\n",
      "this e-mail is from the instituton True\n",
      "this e-mail is from the instituton True\n",
      "this e-mail is from the instituton True\n",
      "this e-mail is from the instituton True\n",
      "this e-mail is from the instituton True\n",
      "this e-mail is from the instituton True\n",
      "this e-mail is from the instituton True\n",
      "this e-mail is from the instituton True\n",
      "this e-mail is from the instituton True\n",
      "this e-mail is from the instituton True\n",
      "this e-mail is from the instituton True\n",
      "this e-mail is from the instituton True\n",
      "this e-mail is from the instituton True\n",
      "this e-mail is from the instituton True\n",
      "this e-mail is from the instituton True\n",
      "this e-mail is from the instituton False\n"
     ]
    }
   ],
   "source": [
    "#5\n",
    "#First we define the function what we wanna do\n",
    "def true(at):\n",
    "    at= at.find(\".edu.\") #We use find to locate where the emails have the \".edu.\"\n",
    "    #since find uses -1 to indicate when it doesn´t find what we ask we use that value as a reference to put the booleans\n",
    "    if at == -1:\n",
    "        sign = False \n",
    "    if at > -1:\n",
    "        sign = True\n",
    "    return sign #We return sign so we get the true or false value\n",
    "\n",
    "#finally we use our new function in map and print     \n",
    "list = map(true,emails)\n",
    "for value in list:\n",
    "    print(\"this e-mail is from the instituton\", value)"
   ]
  },
  {
   "cell_type": "code",
   "execution_count": 181,
   "metadata": {},
   "outputs": [
    {
     "name": "stdout",
     "output_type": "stream",
     "text": [
      "14\n"
     ]
    }
   ],
   "source": [
    "#6 \n",
    "#First we define the function that will do what we need to each string\n",
    "def dot_at(cut):\n",
    "    cut = cut.split(\".\") #With split we divide each string where the dot is\n",
    "    cut_1 = cut[0] # with the [0] we select the string before the dot\n",
    "    cut_2 = cut_1.find(\"@\") #Using find we determine where is the \"@\" in yhe string\n",
    "    if cut_2 == -1:\n",
    "        cut_3 = 0 #if the value of find is -1 this means it has no \"@\", therefore we save it as 0 because we won´t count it\n",
    "    if cut_2 > -1:\n",
    "        cut_3 = 1 #if the value of find is higher than -1 this means it has \"@\", therefore we save it as 1 to count it\n",
    "    return cut_3\n",
    "#to get the results we use map to aply the function to each string of the list\n",
    "results = map(dot_at, emails)\n",
    "#we add up all the values inside the new list results, since we saved those that don´t have \"@\" with 0 we won´t count them\n",
    "number = sum(result)\n",
    "#We print the results\n",
    "print(number)"
   ]
  },
  {
   "cell_type": "markdown",
   "metadata": {},
   "source": [
    "## 1.1 Dictionaries\n",
    "1. Create a dictionary with two keys: `even_numbers` and `odd_numbers`. The first key should have all the even numbers in this range `[0, 2000]`, and the second key must have all the odd numbers in this range `[9000, 19000]`. The values should be stored in a `list`. **Hint: Use the `np.arange`, `zip`, and `np.tolist()` functions.** <br><br>\n",
    "2. Print the value of `brand` key of `car` dictionary. **Hint: Use the `get` method.** <br><br>\n",
    "3. Print all the the values of `brand` key of `car` dictionary. **Hint: Use the `values` method.** <br><br>\n",
    "4. Print the max value  of `friday` in `january` of `hr_sleep` dictionary. **Hint: [Indexing in nested dictioanries](https://stackoverflow.com/questions/25836376/how-to-get-the-inner-indexes-of-a-nested-dictionary-in-python).** <br><br>\n",
    "5. Add `march` key to the `hr_sleep` dictionary using `week1` and `values2` Python lists. **Hint: Use `zip` function adn [this link](https://stackoverflow.com/questions/1024847/how-can-i-add-new-keys-to-a-dictionary).** <br><br>"
   ]
  },
  {
   "cell_type": "code",
   "execution_count": 2,
   "metadata": {},
   "outputs": [],
   "source": [
    "car = {\n",
    "  \"brand\": \"Ford\",\n",
    "  \"model\": \"Mustang\",\n",
    "  \"year\": 1964\n",
    "}\n",
    "\n",
    "hr_sleep = {\"january\": {\"wednesday\": 7,\n",
    "                      \"thursday\": 8,\n",
    "                      \"friday\": [2, 2, 1, 2]},\n",
    "          \"february\": {\"saturday\": 5,\n",
    "                       \"sunday\": 10,\n",
    "                       \"monday\": 8\n",
    "          }\n",
    "}"
   ]
  },
  {
   "cell_type": "code",
   "execution_count": 3,
   "metadata": {},
   "outputs": [],
   "source": [
    "week1 = ['monday', 'sunday']\n",
    "values2 = [ [2, 3, 4 ] , 8, ]"
   ]
  },
  {
   "cell_type": "code",
   "execution_count": 16,
   "metadata": {},
   "outputs": [
    {
     "name": "stdout",
     "output_type": "stream",
     "text": [
      "Ford\n"
     ]
    }
   ],
   "source": [
    "#2\n",
    "#We save the value in the list value_brand using the get method\n",
    "#we put the dictionarie and the key we want the value of\n",
    "value_brand = car.get(\"brand\")\n",
    "#We print the object where we saved the values\n",
    "print(value_brand)"
   ]
  },
  {
   "cell_type": "code",
   "execution_count": 31,
   "metadata": {},
   "outputs": [
    {
     "name": "stdout",
     "output_type": "stream",
     "text": [
      "the values are Ford\n"
     ]
    }
   ],
   "source": [
    "#3\n",
    "#The function values takes all the values for every key\n",
    "#It returns a view object so we save it as a list called values_brand\n",
    "values_brand = list(car.values())\n",
    "#Since we know that the values of the \"brand\" key are the first we print the first object of our new list\n",
    "print(\"the values are\", values_brand[0])"
   ]
  },
  {
   "cell_type": "code",
   "execution_count": 10,
   "metadata": {},
   "outputs": [
    {
     "name": "stdout",
     "output_type": "stream",
     "text": [
      "2\n"
     ]
    }
   ],
   "source": [
    "#4\n",
    "#using the indexing in nested dictionaries method, we save in a list the values of the hours of sleep on friday\n",
    "#we summon the outerkey first and then the innerkey\n",
    "lista_3= hr_sleep[\"january\"][\"friday\"]\n",
    "#We use the max method to summon the maximun value of the new list that contains the hours of sleep on friday\n",
    "print(max(lista_3))"
   ]
  },
  {
   "cell_type": "code",
   "execution_count": 4,
   "metadata": {},
   "outputs": [
    {
     "name": "stdout",
     "output_type": "stream",
     "text": [
      "{'january': {'wednesday': 7, 'thursday': 8, 'friday': [2, 2, 1, 2]}, 'february': {'saturday': 5, 'sunday': 10, 'monday': 8}, 'march': {'monday': [2, 3, 4], 'sunday': 8}}\n"
     ]
    }
   ],
   "source": [
    "#5\n",
    "#we use zip to correlate week 1 to the values2 list\n",
    "values1 = zip(week1,values2)\n",
    "#Since the zip method returns it as a touple me transform it into a dictionarie to add it to the hr_sleep dictionarie\n",
    "values = dict(values1)\n",
    "#We save the new key by saving the list values in our new key\n",
    "#since it´s new it will automatically save it\n",
    "hr_sleep[\"march\"] = values\n",
    "#We print the updated dictionarie\n",
    "print(hr_sleep)"
   ]
  },
  {
   "cell_type": "code",
   "execution_count": null,
   "metadata": {},
   "outputs": [],
   "source": []
  }
 ],
 "metadata": {
  "hide_input": false,
  "kernelspec": {
   "display_name": "Python 3 (ipykernel)",
   "language": "python",
   "name": "python3"
  },
  "language_info": {
   "codemirror_mode": {
    "name": "ipython",
    "version": 3
   },
   "file_extension": ".py",
   "mimetype": "text/x-python",
   "name": "python",
   "nbconvert_exporter": "python",
   "pygments_lexer": "ipython3",
   "version": "3.9.13"
  },
  "toc": {
   "base_numbering": 1,
   "nav_menu": {},
   "number_sections": true,
   "sideBar": true,
   "skip_h1_title": false,
   "title_cell": "Table of Contents",
   "title_sidebar": "Contents",
   "toc_cell": false,
   "toc_position": {},
   "toc_section_display": true,
   "toc_window_display": false
  },
  "vscode": {
   "interpreter": {
    "hash": "71a648a1ea4ecfd2bc47e45cc8ce8b953cb573023f0697c1fc03ad82739e5af3"
   }
  }
 },
 "nbformat": 4,
 "nbformat_minor": 4
}
