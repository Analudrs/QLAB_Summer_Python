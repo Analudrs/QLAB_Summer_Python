{
  "nbformat": 4,
  "nbformat_minor": 0,
  "metadata": {
    "colab": {
      "provenance": []
    },
    "kernelspec": {
      "name": "python3",
      "display_name": "Python 3"
    },
    "language_info": {
      "name": "python"
    }
  },
  "cells": [
    {
      "cell_type": "code",
      "execution_count": null,
      "metadata": {
        "id": "HbmfjsGJCprr"
      },
      "outputs": [],
      "source": [
        "tuple1 = (\"Orange\", [10, 20, 30], (5, 15, 25))\n",
        "tuple2 = ([7, 8], [9, 1], [10, 7])"
      ]
    },
    {
      "cell_type": "code",
      "source": [
        "print (tuple1 [1][0])"
      ],
      "metadata": {
        "colab": {
          "base_uri": "https://localhost:8080/"
        },
        "id": "5Sl_lM3PC_zu",
        "outputId": "f4f09fc1-1241-4c81-8d05-a25f7d453c5e"
      },
      "execution_count": null,
      "outputs": [
        {
          "output_type": "stream",
          "name": "stdout",
          "text": [
            "10\n"
          ]
        }
      ]
    },
    {
      "cell_type": "code",
      "source": [
        "print (tuple1 [-1])"
      ],
      "metadata": {
        "colab": {
          "base_uri": "https://localhost:8080/"
        },
        "id": "GS5g0jdnDJ8-",
        "outputId": "820c47c4-76eb-4ace-e44a-4814449791b5"
      },
      "execution_count": null,
      "outputs": [
        {
          "output_type": "stream",
          "name": "stdout",
          "text": [
            "(5, 15, 25)\n"
          ]
        }
      ]
    },
    {
      "cell_type": "code",
      "source": [
        "new_tuple = (\"Pink Grapefruit\", tuple1[1], tuple1[2])\n",
        "print(new_tuple)\n",
        "#las tuplas son inmutables, sin embargo se puede crear una nueva en la que se cambien los valores"
      ],
      "metadata": {
        "colab": {
          "base_uri": "https://localhost:8080/"
        },
        "id": "KKsr215IDf7P",
        "outputId": "8173a1b9-08aa-445b-d1a4-0241503a6487"
      },
      "execution_count": null,
      "outputs": [
        {
          "output_type": "stream",
          "name": "stdout",
          "text": [
            "('Pink Grapefruit', [10, 20, 30], (5, 15, 25))\n"
          ]
        }
      ]
    },
    {
      "cell_type": "code",
      "source": [
        "len(tuple1)"
      ],
      "metadata": {
        "colab": {
          "base_uri": "https://localhost:8080/"
        },
        "id": "jl_QqDliEnax",
        "outputId": "fd0c23b9-9884-42b0-c940-a0214ed67bb3"
      },
      "execution_count": null,
      "outputs": [
        {
          "output_type": "execute_result",
          "data": {
            "text/plain": [
              "3"
            ]
          },
          "metadata": {},
          "execution_count": 8
        }
      ]
    },
    {
      "cell_type": "code",
      "source": [
        "sum_of_sublists = map(sum, tuple2)\n",
        "total_sum = sum(list(sum_of_sublists))\n",
        "total_sum"
      ],
      "metadata": {
        "colab": {
          "base_uri": "https://localhost:8080/"
        },
        "id": "4TGjyLXRFx80",
        "outputId": "71216e19-1758-49ff-c968-e1eac4bd81ee"
      },
      "execution_count": null,
      "outputs": [
        {
          "output_type": "execute_result",
          "data": {
            "text/plain": [
              "42"
            ]
          },
          "metadata": {},
          "execution_count": 27
        }
      ]
    },
    {
      "cell_type": "code",
      "source": [
        "tuple3 = tuple(map(lambda sublist: [x / 2 for x in sublist], tuple2))\n",
        "tuple3"
      ],
      "metadata": {
        "colab": {
          "base_uri": "https://localhost:8080/"
        },
        "id": "CuP7Rgx8HE55",
        "outputId": "2ea5de82-5464-4fb6-d3f2-6a8a547c27db"
      },
      "execution_count": null,
      "outputs": [
        {
          "output_type": "execute_result",
          "data": {
            "text/plain": [
              "([3.5, 4.0], [4.5, 0.5], [5.0, 3.5])"
            ]
          },
          "metadata": {},
          "execution_count": 19
        }
      ]
    }
  ]
}